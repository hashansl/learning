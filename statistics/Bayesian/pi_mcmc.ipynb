{
 "cells": [
  {
   "cell_type": "markdown",
   "metadata": {},
   "source": [
    "### Metropolis–Hastings"
   ]
  },
  {
   "cell_type": "markdown",
   "metadata": {},
   "source": [
    "https://www.youtube.com/watch?v=OTO1DygELpY"
   ]
  },
  {
   "cell_type": "markdown",
   "metadata": {},
   "source": [
    "Metropolis–Hastings is an MCMC (Markov chain Monte Carlo) method for drawing samples from a (target) distribution 𝑝(𝑥),\n",
    "p(x) that might be difficult to sample from directly."
   ]
  },
  {
   "cell_type": "markdown",
   "metadata": {},
   "source": [
    "By using Metropolis–Hastings, you’ve produced a chain that (after enough steps) effectively samples from the uniform distribution on the square.( Theoratically, the chain will converge to the target distribution, but in practice, you need to run it for a long time before it does so. )"
   ]
  },
  {
   "cell_type": "code",
   "execution_count": 3,
   "metadata": {},
   "outputs": [],
   "source": [
    "import random\n",
    "import math"
   ]
  },
  {
   "cell_type": "code",
   "execution_count": 39,
   "metadata": {},
   "outputs": [],
   "source": [
    "# define\n",
    "\n",
    "n_samples = 10000000\n",
    "proposal_sigma = 0.1\n",
    "burn_in = 100000\n",
    "seed = 42"
   ]
  },
  {
   "cell_type": "code",
   "execution_count": 40,
   "metadata": {},
   "outputs": [],
   "source": [
    "random.seed(seed)"
   ]
  },
  {
   "cell_type": "markdown",
   "metadata": {},
   "source": [
    "Initial point choosen randomly from the target distribution.(something close to the target distribution)"
   ]
  },
  {
   "cell_type": "code",
   "execution_count": 41,
   "metadata": {},
   "outputs": [],
   "source": [
    "# Initialize x, y inside [-1,1]^2\n",
    "x = random.uniform(-1, 1)\n",
    "y = random.uniform(-1, 1)"
   ]
  },
  {
   "cell_type": "code",
   "execution_count": 42,
   "metadata": {},
   "outputs": [],
   "source": [
    "chain = []\n",
    "accept_count = 0"
   ]
  },
  {
   "cell_type": "markdown",
   "metadata": {},
   "source": [
    "Metropolis Hasting(MH) Iterations"
   ]
  },
  {
   "cell_type": "markdown",
   "metadata": {},
   "source": [
    "Target = uniform distribution on the square.\n",
    "\n",
    "Proposal = Gaussian step around the current point."
   ]
  },
  {
   "cell_type": "code",
   "execution_count": null,
   "metadata": {},
   "outputs": [],
   "source": [
    "for i in range(n_samples):\n",
    "    # Propose x', y' ~ N((x,y), sigma^2)\n",
    "    x_prime = x + random.gauss(0, proposal_sigma)\n",
    "    y_prime = y + random.gauss(0, proposal_sigma)\n",
    "\n",
    "    # Target densities p(x), p(x') \n",
    "    # p(x)=1/4 if inside square, else 0. # every point in the domain has the same probability density.(uniform square)  p(x_new) = p(x_old) \n",
    "\n",
    "    def p(x, y):\n",
    "        if -1 <= x <= 1 and -1 <= y <= 1:\n",
    "            return 1/4  # PDF is 1/4 inside the square ---> C*(area of square) = 1; C is uniform PDF\n",
    "        else:\n",
    "            return 0.0   # PDF is 0 outside the square\n",
    "\n",
    "    # is to detect if the new point is inside or outside the valid region. \n",
    "    p_current = p(x, y)\n",
    "    p_proposed = p(x_prime, y_prime)\n",
    "\n",
    "    # Symmetric proposal => q(x'|x) = q(x|x') => ratio(q)=1\n",
    "    # Acceptance ratio = min(1, p(x')/p(x))\n",
    "    # If x_prime is outside square => p_proposed=0 => ratio=0 => reject\n",
    "    # If x_prime is inside square => ratio= (1/4)/(1/4)=1 => always accept\n",
    "\n",
    "    if p_proposed > 0:\n",
    "        alpha = 1.0\n",
    "    else:\n",
    "        alpha = 0.0\n",
    "\n",
    "    # Accept or reject\n",
    "    u = random.random()\n",
    "    if u < alpha:\n",
    "        x, y = x_prime, y_prime\n",
    "        accept_count += 1\n",
    "\n",
    "    # Store the sample (whether new or old)\n",
    "    chain.append((x, y)) # next state: could be the previous one if rejected\n",
    "\n",
    "\n"
   ]
  },
  {
   "cell_type": "code",
   "execution_count": null,
   "metadata": {},
   "outputs": [],
   "source": [
    "chain = chain[burn_in:]\n",
    "\n",
    "#  Estimate pi using fraction inside circle\n",
    "#  We have a chain of points presumably covering [-1,1]^2 uniformly\n",
    "\n",
    "inside_count = sum(1 for (cx, cy) in chain if cx*cx + cy*cy <= 1) # how many points inside the circle\n",
    "fraction_in_circle = inside_count / len(chain)\n",
    "pi_est = 4.0 * fraction_in_circle # Area of square * The probability (fraction) of landing inside the unit circle"
   ]
  },
  {
   "cell_type": "code",
   "execution_count": 45,
   "metadata": {},
   "outputs": [
    {
     "name": "stdout",
     "output_type": "stream",
     "text": [
      "3.1439563636363634\n"
     ]
    }
   ],
   "source": [
    "print(pi_est)"
   ]
  }
 ],
 "metadata": {
  "kernelspec": {
   "display_name": "pytorch",
   "language": "python",
   "name": "python3"
  },
  "language_info": {
   "codemirror_mode": {
    "name": "ipython",
    "version": 3
   },
   "file_extension": ".py",
   "mimetype": "text/x-python",
   "name": "python",
   "nbconvert_exporter": "python",
   "pygments_lexer": "ipython3",
   "version": "3.11.4"
  }
 },
 "nbformat": 4,
 "nbformat_minor": 2
}
