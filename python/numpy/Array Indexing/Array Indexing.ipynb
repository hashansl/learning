{
 "cells": [
  {
   "cell_type": "code",
   "execution_count": 1,
   "id": "dda7ab6f-8288-48fd-924f-1997278bde89",
   "metadata": {},
   "outputs": [],
   "source": [
    "import numpy as np"
   ]
  },
  {
   "cell_type": "code",
   "execution_count": 2,
   "id": "130e9ba9-d66b-4cce-a81c-6899d62ed3ef",
   "metadata": {},
   "outputs": [],
   "source": [
    "ls = [12, 334, 45, 56, 78, 89, 4.5, 34, 9.09, 34]"
   ]
  },
  {
   "cell_type": "code",
   "execution_count": 3,
   "id": "a7668a4a-dc60-41f7-b545-52586e1bc400",
   "metadata": {},
   "outputs": [],
   "source": [
    "arr = np.array(ls)"
   ]
  },
  {
   "cell_type": "code",
   "execution_count": 4,
   "id": "d5840f97-44c4-4666-a3cd-bc207235afa1",
   "metadata": {},
   "outputs": [
    {
     "data": {
      "text/plain": [
       "array([ 12.  , 334.  ,  45.  ,  56.  ,  78.  ,  89.  ,   4.5 ,  34.  ,\n",
       "         9.09,  34.  ])"
      ]
     },
     "execution_count": 4,
     "metadata": {},
     "output_type": "execute_result"
    }
   ],
   "source": [
    "arr"
   ]
  },
  {
   "cell_type": "code",
   "execution_count": 6,
   "id": "88299d82-4624-44d2-8661-3f4622811757",
   "metadata": {},
   "outputs": [
    {
     "data": {
      "text/plain": [
       "10"
      ]
     },
     "execution_count": 6,
     "metadata": {},
     "output_type": "execute_result"
    }
   ],
   "source": [
    "len(arr)"
   ]
  },
  {
   "cell_type": "code",
   "execution_count": 8,
   "id": "917eabf3-62b0-4212-88d2-083abb728b70",
   "metadata": {},
   "outputs": [
    {
     "data": {
      "text/plain": [
       "(10,)"
      ]
     },
     "execution_count": 8,
     "metadata": {},
     "output_type": "execute_result"
    }
   ],
   "source": [
    "arr.shape #one dimentional array - vector"
   ]
  },
  {
   "cell_type": "code",
   "execution_count": 9,
   "id": "bdfc09fa-de89-4405-9f57-64564d2b47b7",
   "metadata": {},
   "outputs": [
    {
     "data": {
      "text/plain": [
       "array([45., 56., 78.])"
      ]
     },
     "execution_count": 9,
     "metadata": {},
     "output_type": "execute_result"
    }
   ],
   "source": [
    "#range element - last element in range not included\n",
    "#elemenr 2,3,4\n",
    "arr[2:5]"
   ]
  },
  {
   "cell_type": "code",
   "execution_count": 10,
   "id": "1b5b4927-d569-4b22-8523-301193a78945",
   "metadata": {},
   "outputs": [],
   "source": [
    "arr[1:3] = 44"
   ]
  },
  {
   "cell_type": "code",
   "execution_count": 11,
   "id": "04802b05-c38f-4e6b-8df3-15254c498e16",
   "metadata": {},
   "outputs": [
    {
     "data": {
      "text/plain": [
       "array([12.  , 44.  , 44.  , 56.  , 78.  , 89.  ,  4.5 , 34.  ,  9.09,\n",
       "       34.  ])"
      ]
     },
     "execution_count": 11,
     "metadata": {},
     "output_type": "execute_result"
    }
   ],
   "source": [
    "arr"
   ]
  },
  {
   "cell_type": "code",
   "execution_count": 12,
   "id": "36c3be00-c92c-48b3-8b82-bbd731c5eb13",
   "metadata": {},
   "outputs": [
    {
     "data": {
      "text/plain": [
       "array([44.  , 44.  , 56.  , 78.  , 89.  ,  4.5 , 34.  ,  9.09, 34.  ])"
      ]
     },
     "execution_count": 12,
     "metadata": {},
     "output_type": "execute_result"
    }
   ],
   "source": [
    "arr[1:]"
   ]
  },
  {
   "cell_type": "code",
   "execution_count": 13,
   "id": "89e281b8-cc37-4b60-b16c-a99f62df90ff",
   "metadata": {},
   "outputs": [],
   "source": [
    "arr_slice = arr[3:8]"
   ]
  },
  {
   "cell_type": "code",
   "execution_count": 14,
   "id": "e33b4049-9406-41b8-a892-4609a034fd25",
   "metadata": {},
   "outputs": [
    {
     "data": {
      "text/plain": [
       "array([56. , 78. , 89. ,  4.5, 34. ])"
      ]
     },
     "execution_count": 14,
     "metadata": {},
     "output_type": "execute_result"
    }
   ],
   "source": [
    "arr_slice"
   ]
  },
  {
   "cell_type": "code",
   "execution_count": 15,
   "id": "e1200373-6ed0-4138-a7d3-aca150faff37",
   "metadata": {},
   "outputs": [],
   "source": [
    "arr_slice[:] = 55"
   ]
  },
  {
   "cell_type": "code",
   "execution_count": 16,
   "id": "026debaf-ed49-408c-b150-cab8b4c87119",
   "metadata": {},
   "outputs": [
    {
     "data": {
      "text/plain": [
       "array([55., 55., 55., 55., 55.])"
      ]
     },
     "execution_count": 16,
     "metadata": {},
     "output_type": "execute_result"
    }
   ],
   "source": [
    "arr_slice"
   ]
  },
  {
   "cell_type": "code",
   "execution_count": 17,
   "id": "b4a60f97-ac15-4e39-b8b9-f6de1e60cb6a",
   "metadata": {},
   "outputs": [
    {
     "data": {
      "text/plain": [
       "array([12.  , 44.  , 44.  , 55.  , 55.  , 55.  , 55.  , 55.  ,  9.09,\n",
       "       34.  ])"
      ]
     },
     "execution_count": 17,
     "metadata": {},
     "output_type": "execute_result"
    }
   ],
   "source": [
    "arr"
   ]
  },
  {
   "cell_type": "code",
   "execution_count": 18,
   "id": "6b7e7f97-455d-4ab2-bac7-297aa60e847f",
   "metadata": {},
   "outputs": [],
   "source": [
    "#slice still not an indeoendent "
   ]
  },
  {
   "cell_type": "code",
   "execution_count": 19,
   "id": "53e6d03b-f486-4986-b0ec-9efb01406124",
   "metadata": {},
   "outputs": [],
   "source": [
    "arr2 = arr.copy()"
   ]
  },
  {
   "cell_type": "code",
   "execution_count": 20,
   "id": "e26782c6-f7cb-4e36-bd4b-a3f0024144f4",
   "metadata": {},
   "outputs": [],
   "source": [
    "#thisis a different array"
   ]
  },
  {
   "cell_type": "code",
   "execution_count": 22,
   "id": "50b7bba8-59b0-480c-9c25-c8b5ca64f083",
   "metadata": {},
   "outputs": [],
   "source": [
    "arr2[3] = 777"
   ]
  },
  {
   "cell_type": "code",
   "execution_count": 23,
   "id": "b1dbedf7-0eb8-40ea-97a0-be41a1baa881",
   "metadata": {},
   "outputs": [
    {
     "data": {
      "text/plain": [
       "array([ 12.  ,  44.  ,  44.  , 777.  ,  55.  ,  55.  ,  55.  ,  55.  ,\n",
       "         9.09,  34.  ])"
      ]
     },
     "execution_count": 23,
     "metadata": {},
     "output_type": "execute_result"
    }
   ],
   "source": [
    "arr2"
   ]
  },
  {
   "cell_type": "code",
   "execution_count": 24,
   "id": "8db71ce8-6373-4007-8fd7-73b6a4159697",
   "metadata": {},
   "outputs": [
    {
     "data": {
      "text/plain": [
       "array([12.  , 44.  , 44.  , 55.  , 55.  , 55.  , 55.  , 55.  ,  9.09,\n",
       "       34.  ])"
      ]
     },
     "execution_count": 24,
     "metadata": {},
     "output_type": "execute_result"
    }
   ],
   "source": [
    "arr"
   ]
  },
  {
   "cell_type": "markdown",
   "id": "aef5903d-14a7-4d00-a2cc-1717c8127cac",
   "metadata": {},
   "source": [
    "## Two dimentional"
   ]
  },
  {
   "cell_type": "code",
   "execution_count": 27,
   "id": "363b9797-6e4d-4cca-ab9c-63add146a39a",
   "metadata": {},
   "outputs": [],
   "source": [
    "arr = np.arange(90)"
   ]
  },
  {
   "cell_type": "code",
   "execution_count": 28,
   "id": "aa386480-8719-4a13-b079-83626265e12f",
   "metadata": {},
   "outputs": [
    {
     "data": {
      "text/plain": [
       "array([ 0,  1,  2,  3,  4,  5,  6,  7,  8,  9, 10, 11, 12, 13, 14, 15, 16,\n",
       "       17, 18, 19, 20, 21, 22, 23, 24, 25, 26, 27, 28, 29, 30, 31, 32, 33,\n",
       "       34, 35, 36, 37, 38, 39, 40, 41, 42, 43, 44, 45, 46, 47, 48, 49, 50,\n",
       "       51, 52, 53, 54, 55, 56, 57, 58, 59, 60, 61, 62, 63, 64, 65, 66, 67,\n",
       "       68, 69, 70, 71, 72, 73, 74, 75, 76, 77, 78, 79, 80, 81, 82, 83, 84,\n",
       "       85, 86, 87, 88, 89])"
      ]
     },
     "execution_count": 28,
     "metadata": {},
     "output_type": "execute_result"
    }
   ],
   "source": [
    "arr"
   ]
  },
  {
   "cell_type": "code",
   "execution_count": 29,
   "id": "a39016bb-f6c6-44bb-8b03-19bd79766ea7",
   "metadata": {},
   "outputs": [
    {
     "data": {
      "text/plain": [
       "(90,)"
      ]
     },
     "execution_count": 29,
     "metadata": {},
     "output_type": "execute_result"
    }
   ],
   "source": [
    "arr.shape"
   ]
  },
  {
   "cell_type": "code",
   "execution_count": 30,
   "id": "6d291ce9-0701-459b-85e7-b89b916abc1b",
   "metadata": {},
   "outputs": [],
   "source": [
    "arr = arr.reshape(9,10)"
   ]
  },
  {
   "cell_type": "code",
   "execution_count": 31,
   "id": "3ade173e-5c5e-45c4-8b05-3660df5393a0",
   "metadata": {},
   "outputs": [
    {
     "data": {
      "text/plain": [
       "array([[ 0,  1,  2,  3,  4,  5,  6,  7,  8,  9],\n",
       "       [10, 11, 12, 13, 14, 15, 16, 17, 18, 19],\n",
       "       [20, 21, 22, 23, 24, 25, 26, 27, 28, 29],\n",
       "       [30, 31, 32, 33, 34, 35, 36, 37, 38, 39],\n",
       "       [40, 41, 42, 43, 44, 45, 46, 47, 48, 49],\n",
       "       [50, 51, 52, 53, 54, 55, 56, 57, 58, 59],\n",
       "       [60, 61, 62, 63, 64, 65, 66, 67, 68, 69],\n",
       "       [70, 71, 72, 73, 74, 75, 76, 77, 78, 79],\n",
       "       [80, 81, 82, 83, 84, 85, 86, 87, 88, 89]])"
      ]
     },
     "execution_count": 31,
     "metadata": {},
     "output_type": "execute_result"
    }
   ],
   "source": [
    "arr"
   ]
  },
  {
   "cell_type": "code",
   "execution_count": 32,
   "id": "e696839e-1601-464f-aff8-7f424a7a8b7c",
   "metadata": {},
   "outputs": [
    {
     "data": {
      "text/plain": [
       "(9, 10)"
      ]
     },
     "execution_count": 32,
     "metadata": {},
     "output_type": "execute_result"
    }
   ],
   "source": [
    "arr.shape"
   ]
  },
  {
   "cell_type": "markdown",
   "id": "2b6fffad-953e-4f11-b4dc-b73720f66bb5",
   "metadata": {},
   "source": [
    "### slicing"
   ]
  },
  {
   "cell_type": "code",
   "execution_count": 33,
   "id": "437eed6c-6c25-4461-80ca-40e561f7b6bb",
   "metadata": {},
   "outputs": [
    {
     "data": {
      "text/plain": [
       "11"
      ]
     },
     "execution_count": 33,
     "metadata": {},
     "output_type": "execute_result"
    }
   ],
   "source": [
    "arr[1,1]"
   ]
  },
  {
   "cell_type": "code",
   "execution_count": 35,
   "id": "2dfcefd8-71c2-460f-b6a7-af8525ab04ec",
   "metadata": {},
   "outputs": [
    {
     "data": {
      "text/plain": [
       "11"
      ]
     },
     "execution_count": 35,
     "metadata": {},
     "output_type": "execute_result"
    }
   ],
   "source": [
    "arr[1][1] #both above and this are the same"
   ]
  },
  {
   "cell_type": "code",
   "execution_count": 45,
   "id": "051c107a-6f4d-46af-ada9-c7694d8288a5",
   "metadata": {},
   "outputs": [],
   "source": [
    "arr = np.arange(90)\n",
    "arr = arr.reshape(9,2,5) #9 arrays- each of them 2 by 5"
   ]
  },
  {
   "cell_type": "code",
   "execution_count": 46,
   "id": "89bf14c3-4cc9-4787-a656-ee02ecc052db",
   "metadata": {},
   "outputs": [
    {
     "data": {
      "text/plain": [
       "array([[[ 0,  1,  2,  3,  4],\n",
       "        [ 5,  6,  7,  8,  9]],\n",
       "\n",
       "       [[10, 11, 12, 13, 14],\n",
       "        [15, 16, 17, 18, 19]],\n",
       "\n",
       "       [[20, 21, 22, 23, 24],\n",
       "        [25, 26, 27, 28, 29]],\n",
       "\n",
       "       [[30, 31, 32, 33, 34],\n",
       "        [35, 36, 37, 38, 39]],\n",
       "\n",
       "       [[40, 41, 42, 43, 44],\n",
       "        [45, 46, 47, 48, 49]],\n",
       "\n",
       "       [[50, 51, 52, 53, 54],\n",
       "        [55, 56, 57, 58, 59]],\n",
       "\n",
       "       [[60, 61, 62, 63, 64],\n",
       "        [65, 66, 67, 68, 69]],\n",
       "\n",
       "       [[70, 71, 72, 73, 74],\n",
       "        [75, 76, 77, 78, 79]],\n",
       "\n",
       "       [[80, 81, 82, 83, 84],\n",
       "        [85, 86, 87, 88, 89]]])"
      ]
     },
     "execution_count": 46,
     "metadata": {},
     "output_type": "execute_result"
    }
   ],
   "source": [
    "arr"
   ]
  },
  {
   "cell_type": "code",
   "execution_count": 47,
   "id": "95c9b470-e43d-4945-b774-b29304fbf7bd",
   "metadata": {},
   "outputs": [
    {
     "data": {
      "text/plain": [
       "array([[0, 1, 2, 3, 4],\n",
       "       [5, 6, 7, 8, 9]])"
      ]
     },
     "execution_count": 47,
     "metadata": {},
     "output_type": "execute_result"
    }
   ],
   "source": [
    "arr[0]"
   ]
  },
  {
   "cell_type": "code",
   "execution_count": 48,
   "id": "2dcd46ab-41f1-41ed-bfc9-58e4c9a12399",
   "metadata": {},
   "outputs": [
    {
     "data": {
      "text/plain": [
       "array([0, 1, 2, 3, 4])"
      ]
     },
     "execution_count": 48,
     "metadata": {},
     "output_type": "execute_result"
    }
   ],
   "source": [
    "arr[0][0]"
   ]
  },
  {
   "cell_type": "code",
   "execution_count": 49,
   "id": "e0980d26-1fec-450c-9ec8-7e4424155942",
   "metadata": {},
   "outputs": [
    {
     "data": {
      "text/plain": [
       "0"
      ]
     },
     "execution_count": 49,
     "metadata": {},
     "output_type": "execute_result"
    }
   ],
   "source": [
    "arr[0][0][0]"
   ]
  },
  {
   "cell_type": "code",
   "execution_count": 50,
   "id": "e88fa889-e0b3-440c-bc30-416a0a930f9e",
   "metadata": {},
   "outputs": [],
   "source": [
    "import random"
   ]
  },
  {
   "cell_type": "code",
   "execution_count": 51,
   "id": "dffe2ce0-f698-442f-a456-1d16d04bb1a5",
   "metadata": {},
   "outputs": [],
   "source": [
    "l1k1=np.random.rand(3,3)\n",
    "l1k2=np.random.rand(3,3)\n",
    "l1b1=np.random.rand(1)\n",
    "l1b2=np.random.rand(1)"
   ]
  },
  {
   "cell_type": "code",
   "execution_count": 52,
   "id": "09b2f114-02c0-430e-8105-139a454d9f7d",
   "metadata": {},
   "outputs": [
    {
     "data": {
      "text/plain": [
       "array([[0.36689551, 0.62351565, 0.29126828],\n",
       "       [0.20868109, 0.86845413, 0.23767397],\n",
       "       [0.72392086, 0.56019051, 0.61140996]])"
      ]
     },
     "execution_count": 52,
     "metadata": {},
     "output_type": "execute_result"
    }
   ],
   "source": [
    "l1k1"
   ]
  },
  {
   "cell_type": "code",
   "execution_count": 54,
   "id": "8d9fb1e4-1eae-4bce-97c6-622abc1c867e",
   "metadata": {},
   "outputs": [
    {
     "data": {
      "text/plain": [
       "(3, 3)"
      ]
     },
     "execution_count": 54,
     "metadata": {},
     "output_type": "execute_result"
    }
   ],
   "source": [
    "l1k1.shape"
   ]
  },
  {
   "cell_type": "code",
   "execution_count": 53,
   "id": "0463570a-00e8-4c78-b599-5201abaa3f88",
   "metadata": {},
   "outputs": [
    {
     "data": {
      "text/plain": [
       "array([[0.1429409 , 0.21165126, 0.54167454],\n",
       "       [0.46052951, 0.64180131, 0.02047327],\n",
       "       [0.28857147, 0.27881187, 0.41244494]])"
      ]
     },
     "execution_count": 53,
     "metadata": {},
     "output_type": "execute_result"
    }
   ],
   "source": [
    "l1k2"
   ]
  },
  {
   "cell_type": "code",
   "execution_count": 55,
   "id": "0ccaf68c-7dc8-4569-b41c-684a0df69e79",
   "metadata": {},
   "outputs": [
    {
     "data": {
      "text/plain": [
       "(3, 3)"
      ]
     },
     "execution_count": 55,
     "metadata": {},
     "output_type": "execute_result"
    }
   ],
   "source": [
    "l1k2.shape"
   ]
  },
  {
   "cell_type": "code",
   "execution_count": 56,
   "id": "57abf63e-5aa7-4c13-a410-3b2c61ffa50d",
   "metadata": {},
   "outputs": [],
   "source": [
    "l1k1=l1k1.reshape(3,3,1,1)\n",
    "l1k2=l1k2.reshape(3,3,1,1)"
   ]
  },
  {
   "cell_type": "code",
   "execution_count": 57,
   "id": "0a928fbd-1087-4c90-8f9e-ed14f4033a82",
   "metadata": {},
   "outputs": [
    {
     "data": {
      "text/plain": [
       "array([[[[0.36689551]],\n",
       "\n",
       "        [[0.62351565]],\n",
       "\n",
       "        [[0.29126828]]],\n",
       "\n",
       "\n",
       "       [[[0.20868109]],\n",
       "\n",
       "        [[0.86845413]],\n",
       "\n",
       "        [[0.23767397]]],\n",
       "\n",
       "\n",
       "       [[[0.72392086]],\n",
       "\n",
       "        [[0.56019051]],\n",
       "\n",
       "        [[0.61140996]]]])"
      ]
     },
     "execution_count": 57,
     "metadata": {},
     "output_type": "execute_result"
    }
   ],
   "source": [
    "l1k1"
   ]
  },
  {
   "cell_type": "code",
   "execution_count": 58,
   "id": "bcf1cdca-9776-48c7-8c6d-b17657a09065",
   "metadata": {},
   "outputs": [
    {
     "data": {
      "text/plain": [
       "array([[[0.36689551]],\n",
       "\n",
       "       [[0.62351565]],\n",
       "\n",
       "       [[0.29126828]]])"
      ]
     },
     "execution_count": 58,
     "metadata": {},
     "output_type": "execute_result"
    }
   ],
   "source": [
    "l1k1[0]"
   ]
  },
  {
   "cell_type": "code",
   "execution_count": 60,
   "id": "4aac3915-56fa-4f81-8feb-b405dd62cd88",
   "metadata": {},
   "outputs": [
    {
     "data": {
      "text/plain": [
       "array([[0.36689551]])"
      ]
     },
     "execution_count": 60,
     "metadata": {},
     "output_type": "execute_result"
    }
   ],
   "source": [
    "l1k1[0][0]"
   ]
  },
  {
   "cell_type": "code",
   "execution_count": 62,
   "id": "29c8071d-5edd-4f9e-a14a-0aceb7c368f9",
   "metadata": {},
   "outputs": [
    {
     "data": {
      "text/plain": [
       "array([0.36689551])"
      ]
     },
     "execution_count": 62,
     "metadata": {},
     "output_type": "execute_result"
    }
   ],
   "source": [
    "l1k1[0][0][0]"
   ]
  },
  {
   "cell_type": "code",
   "execution_count": 63,
   "id": "ba820b78-9f4e-42e9-9a06-96a61e84f5f5",
   "metadata": {},
   "outputs": [
    {
     "data": {
      "text/plain": [
       "0.36689550986087116"
      ]
     },
     "execution_count": 63,
     "metadata": {},
     "output_type": "execute_result"
    }
   ],
   "source": [
    "l1k1[0][0][0][0]"
   ]
  },
  {
   "cell_type": "code",
   "execution_count": 65,
   "id": "394f8d1f-6323-4751-9064-7be68d4c30c5",
   "metadata": {},
   "outputs": [
    {
     "data": {
      "text/plain": [
       "array([[[[0.1429409 ]],\n",
       "\n",
       "        [[0.21165126]],\n",
       "\n",
       "        [[0.54167454]]],\n",
       "\n",
       "\n",
       "       [[[0.46052951]],\n",
       "\n",
       "        [[0.64180131]],\n",
       "\n",
       "        [[0.02047327]]],\n",
       "\n",
       "\n",
       "       [[[0.28857147]],\n",
       "\n",
       "        [[0.27881187]],\n",
       "\n",
       "        [[0.41244494]]]])"
      ]
     },
     "execution_count": 65,
     "metadata": {},
     "output_type": "execute_result"
    }
   ],
   "source": [
    "l1k2"
   ]
  },
  {
   "cell_type": "code",
   "execution_count": 66,
   "id": "358fe2b2-fac7-4d3a-9491-24dde159eb84",
   "metadata": {},
   "outputs": [],
   "source": [
    "w1=np.concatenate((l1k1,l1k2),axis=3)"
   ]
  },
  {
   "cell_type": "code",
   "execution_count": 67,
   "id": "798474ed-0cdb-4f68-bfec-8a074acaa4ae",
   "metadata": {},
   "outputs": [
    {
     "data": {
      "text/plain": [
       "array([[[[0.36689551, 0.1429409 ]],\n",
       "\n",
       "        [[0.62351565, 0.21165126]],\n",
       "\n",
       "        [[0.29126828, 0.54167454]]],\n",
       "\n",
       "\n",
       "       [[[0.20868109, 0.46052951]],\n",
       "\n",
       "        [[0.86845413, 0.64180131]],\n",
       "\n",
       "        [[0.23767397, 0.02047327]]],\n",
       "\n",
       "\n",
       "       [[[0.72392086, 0.28857147]],\n",
       "\n",
       "        [[0.56019051, 0.27881187]],\n",
       "\n",
       "        [[0.61140996, 0.41244494]]]])"
      ]
     },
     "execution_count": 67,
     "metadata": {},
     "output_type": "execute_result"
    }
   ],
   "source": [
    "w1"
   ]
  },
  {
   "cell_type": "code",
   "execution_count": null,
   "id": "240f0ca5-79d1-43af-a0d5-624be0304bcb",
   "metadata": {},
   "outputs": [],
   "source": []
  },
  {
   "cell_type": "code",
   "execution_count": 68,
   "id": "a04d40c0-1e02-47a0-932c-bd14be611009",
   "metadata": {},
   "outputs": [],
   "source": [
    "#Create NumPy arrays\n",
    "arr = np.array([4, 7, 12])\n",
    "arr1 = np.array([5, 9, 15])"
   ]
  },
  {
   "cell_type": "code",
   "execution_count": 69,
   "id": "9ab8a976-edee-4df8-935a-e806385cc2c4",
   "metadata": {},
   "outputs": [
    {
     "name": "stdout",
     "output_type": "stream",
     "text": [
      "[ 4  7 12  5  9 15]\n"
     ]
    }
   ],
   "source": [
    "# Use concatenate() to join two arrays\n",
    "con = np.concatenate((arr, arr1))\n",
    "print(con)"
   ]
  },
  {
   "cell_type": "code",
   "execution_count": 70,
   "id": "ac7db0d3-536e-4690-972e-000beb25da06",
   "metadata": {},
   "outputs": [
    {
     "ename": "TypeError",
     "evalue": "concatenate() got multiple values for argument 'axis'",
     "output_type": "error",
     "traceback": [
      "\u001b[0;31m---------------------------------------------------------------------------\u001b[0m",
      "\u001b[0;31mTypeError\u001b[0m                                 Traceback (most recent call last)",
      "Input \u001b[0;32mIn [71]\u001b[0m, in \u001b[0;36m<cell line: 2>\u001b[0;34m()\u001b[0m\n\u001b[1;32m      1\u001b[0m \u001b[38;5;66;03m# Use concatenate() with axis\u001b[39;00m\n\u001b[0;32m----> 2\u001b[0m con \u001b[38;5;241m=\u001b[39m \u001b[43mnp\u001b[49m\u001b[38;5;241;43m.\u001b[39;49m\u001b[43mconcatenate\u001b[49m\u001b[43m(\u001b[49m\u001b[43marr\u001b[49m\u001b[43m,\u001b[49m\u001b[43m \u001b[49m\u001b[43marr1\u001b[49m\u001b[43m,\u001b[49m\u001b[43m \u001b[49m\u001b[43maxis\u001b[49m\u001b[38;5;241;43m=\u001b[39;49m\u001b[38;5;241;43m1\u001b[39;49m\u001b[43m)\u001b[49m\n\u001b[1;32m      3\u001b[0m \u001b[38;5;28mprint\u001b[39m(con)\n",
      "File \u001b[0;32m<__array_function__ internals>:4\u001b[0m, in \u001b[0;36mconcatenate\u001b[0;34m(*args, **kwargs)\u001b[0m\n",
      "\u001b[0;31mTypeError\u001b[0m: concatenate() got multiple values for argument 'axis'"
     ]
    }
   ],
   "source": [
    "# Use concatenate() with axis\n",
    "con = np.concatenate((arr, arr1), axis=1)\n",
    "print(con)"
   ]
  },
  {
   "cell_type": "code",
   "execution_count": 72,
   "id": "79df280b-fbe3-45d8-85ac-7110eeddbc88",
   "metadata": {},
   "outputs": [
    {
     "name": "stdout",
     "output_type": "stream",
     "text": [
      "[[ 4  6  8  3]\n",
      " [ 9 13 12 19]]\n"
     ]
    }
   ],
   "source": [
    "# Create NumPy array\n",
    "arr = np.array([[4, 6],[9, 13]])\n",
    "arr1 = np.array([[8, 3],[12, 19]])\n",
    "\n",
    "# Use np.concatenate() Function\n",
    "con = np.concatenate((arr, arr1), axis=1)\n",
    "print(con)"
   ]
  },
  {
   "cell_type": "code",
   "execution_count": 73,
   "id": "3316e6b4-14d8-4200-b389-74f73e5d3fc9",
   "metadata": {},
   "outputs": [
    {
     "data": {
      "text/plain": [
       "array([[ 4,  6],\n",
       "       [ 9, 13]])"
      ]
     },
     "execution_count": 73,
     "metadata": {},
     "output_type": "execute_result"
    }
   ],
   "source": [
    "arr"
   ]
  },
  {
   "cell_type": "code",
   "execution_count": 74,
   "id": "61f31900-4c82-4e77-af36-3196bfaa745c",
   "metadata": {},
   "outputs": [
    {
     "data": {
      "text/plain": [
       "array([[ 8,  3],\n",
       "       [12, 19]])"
      ]
     },
     "execution_count": 74,
     "metadata": {},
     "output_type": "execute_result"
    }
   ],
   "source": [
    "arr1"
   ]
  },
  {
   "cell_type": "code",
   "execution_count": null,
   "id": "940e9fd0-261b-4b79-b540-74084e0c0da0",
   "metadata": {},
   "outputs": [],
   "source": [
    "con = np.concatenate((arr, arr1), axis=1)\n",
    "print(con)"
   ]
  },
  {
   "cell_type": "markdown",
   "id": "0d49f288-9f0d-4644-a8e8-f91fae1cf0a6",
   "metadata": {},
   "source": [
    "### Concatinate"
   ]
  },
  {
   "cell_type": "code",
   "execution_count": 75,
   "id": "cdb544d5-2899-4cda-b919-c91dfe61a75d",
   "metadata": {},
   "outputs": [],
   "source": [
    "first_array = np.arange(1, 10).reshape(3, 3)\n",
    "second_array = np.arange(10, 19).reshape(3, 3)"
   ]
  },
  {
   "cell_type": "code",
   "execution_count": 76,
   "id": "4712cd68-6751-4d3e-99de-c3232559f12a",
   "metadata": {},
   "outputs": [
    {
     "name": "stdout",
     "output_type": "stream",
     "text": [
      "[[1 2 3]\n",
      " [4 5 6]\n",
      " [7 8 9]]\n",
      "[[10 11 12]\n",
      " [13 14 15]\n",
      " [16 17 18]]\n"
     ]
    }
   ],
   "source": [
    "print(first_array)\n",
    "print(second_array)"
   ]
  },
  {
   "cell_type": "code",
   "execution_count": 77,
   "id": "021c5b35-b0a8-4e56-90af-51c7ac3bf70d",
   "metadata": {},
   "outputs": [
    {
     "name": "stdout",
     "output_type": "stream",
     "text": [
      "(3, 3)\n",
      "(3, 3)\n"
     ]
    }
   ],
   "source": [
    "print(first_array.shape)\n",
    "print(second_array.shape)"
   ]
  },
  {
   "cell_type": "markdown",
   "id": "127e793f-310f-4d14-808f-e4a4e4dd85dd",
   "metadata": {},
   "source": [
    "You can concatenate an array on two axes: by row or by column. This is accomplished using the concatenate() method. The concatenate method can merge 1d, 2d, 3d, 4d, and arrays with a higher number of dimensions."
   ]
  },
  {
   "cell_type": "markdown",
   "id": "cafa0230-c2d2-40aa-8d13-209aaac0263e",
   "metadata": {},
   "source": [
    "#### Concatenate by Row \\\n",
    "We’ll start by concatenating our two arrays by row. This will align the items in our two arrays by row and merge them into one array:\n"
   ]
  },
  {
   "cell_type": "code",
   "execution_count": 78,
   "id": "0716529a-a6b8-4e01-970a-ae17d2151d1d",
   "metadata": {},
   "outputs": [
    {
     "name": "stdout",
     "output_type": "stream",
     "text": [
      "[[ 1  2  3]\n",
      " [ 4  5  6]\n",
      " [ 7  8  9]\n",
      " [10 11 12]\n",
      " [13 14 15]\n",
      " [16 17 18]]\n"
     ]
    }
   ],
   "source": [
    "final_array = np.concatenate((first_array, second_array))\n",
    "print(final_array)"
   ]
  },
  {
   "cell_type": "code",
   "execution_count": 79,
   "id": "b82b1ea1-2792-4db0-bdc8-833d17ccfac2",
   "metadata": {},
   "outputs": [
    {
     "name": "stdout",
     "output_type": "stream",
     "text": [
      "(6, 3)\n"
     ]
    }
   ],
   "source": [
    "print(final_array.shape)"
   ]
  },
  {
   "cell_type": "markdown",
   "id": "45d7ea19-97f8-4629-b719-9814b78605ad",
   "metadata": {},
   "source": [
    "We have specified a tuple inside the concatenate() function. This tuple contains the list of arrays that we want to concatenate. Without any parameters, concatenate() concatenates by row"
   ]
  },
  {
   "cell_type": "markdown",
   "id": "2fd353ba-e816-484c-8bad-3d4b855f3c03",
   "metadata": {},
   "source": [
    "### Concatenate by Column \n",
    "You can use the concatenate method to merge two arrays by column\n",
    "\n",
    "To do this, we need to introduce a new parameter: axis. By default, this value is 0. This corresponds to the x axis, or the row axis. We can override this value and set it to 1. This will merge our two arrays by column."
   ]
  },
  {
   "cell_type": "code",
   "execution_count": 80,
   "id": "da1996d3-0b0b-478d-af4e-93c5041bf0c0",
   "metadata": {},
   "outputs": [
    {
     "name": "stdout",
     "output_type": "stream",
     "text": [
      "[[ 1  2  3 10 11 12]\n",
      " [ 4  5  6 13 14 15]\n",
      " [ 7  8  9 16 17 18]]\n"
     ]
    }
   ],
   "source": [
    "final_array = np.concatenate((first_array, second_array), axis=1)\n",
    "print(final_array)"
   ]
  },
  {
   "cell_type": "code",
   "execution_count": 81,
   "id": "30ebd2cd-438f-4287-88f4-6ffbaf273f49",
   "metadata": {},
   "outputs": [
    {
     "name": "stdout",
     "output_type": "stream",
     "text": [
      "(3, 6)\n"
     ]
    }
   ],
   "source": [
    "print(final_array.shape)"
   ]
  },
  {
   "cell_type": "code",
   "execution_count": null,
   "id": "261bbc1a-b2d6-4e98-a4ee-c4ceae8d4ec1",
   "metadata": {},
   "outputs": [],
   "source": []
  },
  {
   "cell_type": "markdown",
   "id": "c740541b-b560-4ced-9569-9fcf526f25dd",
   "metadata": {},
   "source": [
    "### My practice"
   ]
  },
  {
   "cell_type": "code",
   "execution_count": 83,
   "id": "afb34e71-4e3f-42a1-bd01-1538c3919038",
   "metadata": {},
   "outputs": [],
   "source": [
    "first_array = np.arange(1, 10).reshape(3, 3, 1, 1)\n",
    "second_array = np.arange(10, 19).reshape(3, 3, 1, 1)"
   ]
  },
  {
   "cell_type": "code",
   "execution_count": 84,
   "id": "064e4b51-d386-4229-be81-5170334ada41",
   "metadata": {},
   "outputs": [
    {
     "data": {
      "text/plain": [
       "array([[[[1]],\n",
       "\n",
       "        [[2]],\n",
       "\n",
       "        [[3]]],\n",
       "\n",
       "\n",
       "       [[[4]],\n",
       "\n",
       "        [[5]],\n",
       "\n",
       "        [[6]]],\n",
       "\n",
       "\n",
       "       [[[7]],\n",
       "\n",
       "        [[8]],\n",
       "\n",
       "        [[9]]]])"
      ]
     },
     "execution_count": 84,
     "metadata": {},
     "output_type": "execute_result"
    }
   ],
   "source": [
    "first_array"
   ]
  },
  {
   "cell_type": "code",
   "execution_count": 85,
   "id": "466fd917-0f80-4a57-86a0-c4b5b8f562a5",
   "metadata": {},
   "outputs": [
    {
     "data": {
      "text/plain": [
       "array([[[[10]],\n",
       "\n",
       "        [[11]],\n",
       "\n",
       "        [[12]]],\n",
       "\n",
       "\n",
       "       [[[13]],\n",
       "\n",
       "        [[14]],\n",
       "\n",
       "        [[15]]],\n",
       "\n",
       "\n",
       "       [[[16]],\n",
       "\n",
       "        [[17]],\n",
       "\n",
       "        [[18]]]])"
      ]
     },
     "execution_count": 85,
     "metadata": {},
     "output_type": "execute_result"
    }
   ],
   "source": [
    "second_array"
   ]
  },
  {
   "cell_type": "code",
   "execution_count": 86,
   "id": "4c55bc4d-6e27-415e-a978-58825f4b33f7",
   "metadata": {},
   "outputs": [
    {
     "data": {
      "text/plain": [
       "array([[[10]],\n",
       "\n",
       "       [[11]],\n",
       "\n",
       "       [[12]]])"
      ]
     },
     "execution_count": 86,
     "metadata": {},
     "output_type": "execute_result"
    }
   ],
   "source": [
    "second_array[0]"
   ]
  },
  {
   "cell_type": "code",
   "execution_count": 87,
   "id": "d559a0ee-ffe0-4504-a84a-7c31583a3b24",
   "metadata": {},
   "outputs": [
    {
     "data": {
      "text/plain": [
       "array([[10]])"
      ]
     },
     "execution_count": 87,
     "metadata": {},
     "output_type": "execute_result"
    }
   ],
   "source": [
    "second_array[0][0]"
   ]
  },
  {
   "cell_type": "code",
   "execution_count": 88,
   "id": "cd9c2f2e-4bc5-4d0c-a01e-42aeac1e70a7",
   "metadata": {},
   "outputs": [
    {
     "data": {
      "text/plain": [
       "array([10])"
      ]
     },
     "execution_count": 88,
     "metadata": {},
     "output_type": "execute_result"
    }
   ],
   "source": [
    "second_array[0][0][0]"
   ]
  },
  {
   "cell_type": "code",
   "execution_count": 89,
   "id": "a42f7584-9bf8-42f7-85e4-ac5aedd12125",
   "metadata": {},
   "outputs": [
    {
     "data": {
      "text/plain": [
       "10"
      ]
     },
     "execution_count": 89,
     "metadata": {},
     "output_type": "execute_result"
    }
   ],
   "source": [
    "second_array[0][0][0][0]"
   ]
  },
  {
   "cell_type": "code",
   "execution_count": 90,
   "id": "35ca66df-c04f-43ba-baf6-646c78ad4b8e",
   "metadata": {},
   "outputs": [],
   "source": [
    "final_array = np.concatenate((first_array, second_array), axis=3)"
   ]
  },
  {
   "cell_type": "code",
   "execution_count": 91,
   "id": "60fdc0ce-a8cd-483a-98a2-dfb9523d457d",
   "metadata": {},
   "outputs": [
    {
     "data": {
      "text/plain": [
       "(3, 3, 1, 2)"
      ]
     },
     "execution_count": 91,
     "metadata": {},
     "output_type": "execute_result"
    }
   ],
   "source": [
    "final_array.shape"
   ]
  },
  {
   "cell_type": "code",
   "execution_count": null,
   "id": "83ecfe00-b6cd-40d3-8ec4-794fcdb64082",
   "metadata": {},
   "outputs": [],
   "source": []
  }
 ],
 "metadata": {
  "kernelspec": {
   "display_name": "Python 3 (ipykernel)",
   "language": "python",
   "name": "python3"
  },
  "language_info": {
   "codemirror_mode": {
    "name": "ipython",
    "version": 3
   },
   "file_extension": ".py",
   "mimetype": "text/x-python",
   "name": "python",
   "nbconvert_exporter": "python",
   "pygments_lexer": "ipython3",
   "version": "3.9.12"
  }
 },
 "nbformat": 4,
 "nbformat_minor": 5
}
