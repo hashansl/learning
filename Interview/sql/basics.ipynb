{
 "cells": [
  {
   "cell_type": "markdown",
   "metadata": {},
   "source": [
    "### Workflow: Practice SQL with Python"
   ]
  },
  {
   "cell_type": "code",
   "execution_count": 1,
   "metadata": {},
   "outputs": [],
   "source": [
    "import sqlite3\n",
    "import pandas as pd"
   ]
  },
  {
   "cell_type": "code",
   "execution_count": 2,
   "metadata": {},
   "outputs": [],
   "source": [
    "conn = sqlite3.connect(':memory:')  # creates a temporary DB in RAM\n",
    "cursor = conn.cursor()"
   ]
  },
  {
   "cell_type": "code",
   "execution_count": 3,
   "metadata": {},
   "outputs": [
    {
     "data": {
      "text/plain": [
       "<sqlite3.Cursor at 0x142851fc0>"
      ]
     },
     "execution_count": 3,
     "metadata": {},
     "output_type": "execute_result"
    }
   ],
   "source": [
    "# create some tables\n",
    "\n",
    "cursor.execute('''\n",
    "CREATE TABLE employees (\n",
    "    id INTEGER PRIMARY KEY,\n",
    "    name TEXT,\n",
    "    department TEXT,\n",
    "    salary INTEGER,\n",
    "    hire_date TEXT\n",
    ")\n",
    "''')\n"
   ]
  },
  {
   "cell_type": "code",
   "execution_count": 4,
   "metadata": {},
   "outputs": [],
   "source": [
    "# insert some data\n",
    "\n",
    "data = [\n",
    "    (1, 'Alice', 'Engineering', 90000, '2020-05-01'),\n",
    "    (2, 'Bob', 'Marketing', 65000, '2019-03-15'),\n",
    "    (3, 'Charlie', 'HR', 70000, '2018-07-23'),\n",
    "    (4, 'Diana', 'Engineering', 95000, '2021-01-11'),\n",
    "    (5, 'Eve', 'Marketing', 62000, '2020-12-01')\n",
    "]\n",
    "\n",
    "cursor.executemany('INSERT INTO employees VALUES (?, ?, ?, ?, ?)', data)\n",
    "conn.commit()\n"
   ]
  },
  {
   "cell_type": "code",
   "execution_count": 5,
   "metadata": {},
   "outputs": [
    {
     "name": "stdout",
     "output_type": "stream",
     "text": [
      "    name  salary\n",
      "0  Diana   95000\n",
      "1  Alice   90000\n"
     ]
    }
   ],
   "source": [
    "# Example query: get all Engineering employees with salary > 80000\n",
    "query = '''\n",
    "SELECT name, salary FROM employees\n",
    "WHERE department = 'Engineering' AND salary > 80000\n",
    "ORDER BY salary DESC\n",
    "'''\n",
    "\n",
    "df = pd.read_sql_query(query, conn)\n",
    "print(df)"
   ]
  },
  {
   "cell_type": "code",
   "execution_count": 9,
   "metadata": {},
   "outputs": [
    {
     "name": "stdout",
     "output_type": "stream",
     "text": [
      "  name  salary\n",
      "0  Bob   65000\n",
      "1  Eve   62000\n"
     ]
    }
   ],
   "source": [
    "query = '''\n",
    "SELECT name, salary FROM employees\n",
    "WHERE department = 'Marketing'\n",
    "ORDER BY salary DESC\n",
    "'''\n",
    "\n",
    "df = pd.read_sql_query(query, conn)\n",
    "print(df)"
   ]
  },
  {
   "cell_type": "markdown",
   "metadata": {},
   "source": [
    "Basic 2"
   ]
  },
  {
   "cell_type": "code",
   "execution_count": 11,
   "metadata": {},
   "outputs": [],
   "source": [
    "import sqlite3\n",
    "import pandas as pd\n",
    "\n",
    "# Create in-memory SQLite DB\n",
    "conn = sqlite3.connect(':memory:')\n",
    "cursor = conn.cursor()\n",
    "\n",
    "# Create \"employees\" table\n",
    "cursor.execute('''\n",
    "CREATE TABLE employees (\n",
    "    emp_id INTEGER PRIMARY KEY,\n",
    "    emp_name TEXT,\n",
    "    department_id INTEGER,\n",
    "    salary INTEGER\n",
    ")\n",
    "''')\n",
    "\n",
    "# Create \"departments\" table\n",
    "cursor.execute('''\n",
    "CREATE TABLE departments (\n",
    "    department_id INTEGER PRIMARY KEY,\n",
    "    department_name TEXT\n",
    ")\n",
    "''')\n",
    "\n",
    "# Insert data into \"departments\"\n",
    "departments_data = [\n",
    "    (1, 'Engineering'),\n",
    "    (2, 'Marketing'),\n",
    "    (3, 'HR'),\n",
    "    (4, 'Sales')\n",
    "]\n",
    "cursor.executemany('INSERT INTO departments VALUES (?, ?)', departments_data)\n",
    "\n",
    "# Insert data into \"employees\"\n",
    "employees_data = [\n",
    "    (1, 'Alice', 1, 90000),\n",
    "    (2, 'Bob', 2, 65000),\n",
    "    (3, 'Charlie', 3, 70000),\n",
    "    (4, 'Diana', 1, 95000),\n",
    "    (5, 'Eve', 2, 62000),\n",
    "    (6, 'Frank', None, 50000)  # No department assigned\n",
    "]\n",
    "cursor.executemany('INSERT INTO employees VALUES (?, ?, ?, ?)', employees_data)\n",
    "\n",
    "conn.commit()\n"
   ]
  },
  {
   "cell_type": "markdown",
   "metadata": {},
   "source": [
    "Fiest print all the db"
   ]
  },
  {
   "cell_type": "code",
   "execution_count": 14,
   "metadata": {},
   "outputs": [
    {
     "name": "stdout",
     "output_type": "stream",
     "text": [
      "   emp_id emp_name  department_id  salary\n",
      "0       1    Alice            1.0   90000\n",
      "1       2      Bob            2.0   65000\n",
      "2       3  Charlie            3.0   70000\n",
      "3       4    Diana            1.0   95000\n",
      "4       5      Eve            2.0   62000\n",
      "5       6    Frank            NaN   50000\n"
     ]
    }
   ],
   "source": [
    "query = '''\n",
    "SELECT * FROM employees\n",
    "'''\n",
    "\n",
    "df = pd.read_sql_query(query, conn)\n",
    "print(df)"
   ]
  },
  {
   "cell_type": "code",
   "execution_count": 15,
   "metadata": {},
   "outputs": [
    {
     "name": "stdout",
     "output_type": "stream",
     "text": [
      "   department_id department_name\n",
      "0              1     Engineering\n",
      "1              2       Marketing\n",
      "2              3              HR\n",
      "3              4           Sales\n"
     ]
    }
   ],
   "source": [
    "query = '''\n",
    "SELECT * FROM departments\n",
    "'''\n",
    "\n",
    "df = pd.read_sql_query(query, conn)\n",
    "print(df)"
   ]
  },
  {
   "cell_type": "code",
   "execution_count": 16,
   "metadata": {},
   "outputs": [
    {
     "name": "stdout",
     "output_type": "stream",
     "text": [
      "   emp_id emp_name  department_id  salary\n",
      "0       1    Alice              1   90000\n",
      "1       2      Bob              2   65000\n",
      "2       3  Charlie              3   70000\n"
     ]
    }
   ],
   "source": [
    "# how to limit the query\n",
    "\n",
    "query = '''\n",
    "SELECT * FROM employees\n",
    "LIMIT 3\n",
    "'''\n",
    "\n",
    "df = pd.read_sql_query(query, conn)\n",
    "print(df)"
   ]
  },
  {
   "cell_type": "markdown",
   "metadata": {},
   "source": [
    "Basic SELECT + WHERE + ORDER BY"
   ]
  },
  {
   "cell_type": "code",
   "execution_count": 19,
   "metadata": {},
   "outputs": [
    {
     "name": "stdout",
     "output_type": "stream",
     "text": [
      "  emp_name  salary\n",
      "0    Diana   95000\n"
     ]
    }
   ],
   "source": [
    "query = '''\n",
    "SELECT emp_name,salary FROM employees\n",
    "WHERE department_id = 1 AND salary > 90000\n",
    "ORDER BY salary DESC \n",
    "'''\n",
    "print(pd.read_sql_query(query, conn))\n"
   ]
  },
  {
   "cell_type": "markdown",
   "metadata": {},
   "source": [
    "GROUP BY"
   ]
  },
  {
   "cell_type": "code",
   "execution_count": 21,
   "metadata": {},
   "outputs": [
    {
     "name": "stdout",
     "output_type": "stream",
     "text": [
      "   department_id  avg_salary\n",
      "0            1.0     92500.0\n",
      "1            3.0     70000.0\n",
      "2            2.0     63500.0\n",
      "3            NaN     50000.0\n"
     ]
    }
   ],
   "source": [
    "query = '''\n",
    "SELECT department_id, AVG(salary) as avg_salary\n",
    "FROM employees\n",
    "GROUP BY department_id\n",
    "ORDER BY avg_salary DESC\n",
    "\n",
    "'''\n",
    "print(pd.read_sql_query(query, conn))"
   ]
  },
  {
   "cell_type": "markdown",
   "metadata": {},
   "source": [
    "LEFT JOIN"
   ]
  },
  {
   "cell_type": "code",
   "execution_count": 23,
   "metadata": {},
   "outputs": [
    {
     "name": "stdout",
     "output_type": "stream",
     "text": [
      "  emp_name department_name\n",
      "0    Alice     Engineering\n",
      "1      Bob       Marketing\n",
      "2  Charlie              HR\n",
      "3    Diana     Engineering\n",
      "4      Eve       Marketing\n",
      "5    Frank            None\n"
     ]
    }
   ],
   "source": [
    "query = '''\n",
    "SELECt e.emp_name, d.department_name\n",
    "FROM employees e\n",
    "LEFT JOIN departments d\n",
    "ON e.department_id = d.department_id\n",
    "'''\n",
    "print(pd.read_sql_query(query, conn))\n"
   ]
  },
  {
   "cell_type": "code",
   "execution_count": 25,
   "metadata": {},
   "outputs": [
    {
     "name": "stdout",
     "output_type": "stream",
     "text": [
      "  emp_name  salary department_name\n",
      "0    Alice   90000     Engineering\n",
      "1      Bob   65000       Marketing\n",
      "2  Charlie   70000              HR\n",
      "3    Diana   95000     Engineering\n",
      "4      Eve   62000       Marketing\n"
     ]
    }
   ],
   "source": [
    "query = '''\n",
    "SELECT e.emp_name, e.salary, d.department_name\n",
    "FROM employees e\n",
    "INNER JOIN departments d\n",
    "ON e.department_id = d.department_id\n",
    "'''\n",
    "print(pd.read_sql_query(query, conn))\n"
   ]
  },
  {
   "cell_type": "markdown",
   "metadata": {},
   "source": [
    "Subquery Example"
   ]
  },
  {
   "cell_type": "code",
   "execution_count": 27,
   "metadata": {},
   "outputs": [
    {
     "name": "stdout",
     "output_type": "stream",
     "text": [
      "  emp_name  salary\n",
      "0    Alice   90000\n",
      "1    Diana   95000\n"
     ]
    }
   ],
   "source": [
    "# Goal: Get employees who earn more than the average salary.\n",
    "\n",
    "query = '''\n",
    "SELECT emp_name, salary\n",
    "FROM employees\n",
    "WHERE salary > (\n",
    "    SELECT AVG(salary)\n",
    "    FROm employees\n",
    ")\n",
    "'''\n",
    "print(pd.read_sql_query(query, conn))\n",
    "\n"
   ]
  },
  {
   "cell_type": "code",
   "execution_count": 28,
   "metadata": {},
   "outputs": [
    {
     "name": "stdout",
     "output_type": "stream",
     "text": [
      "   AVG(salary)\n",
      "0      72000.0\n"
     ]
    }
   ],
   "source": [
    "query = '''\n",
    "\n",
    "    SELECT AVG(salary)\n",
    "    FROm employees\n",
    "\n",
    "'''\n",
    "print(pd.read_sql_query(query, conn))"
   ]
  },
  {
   "cell_type": "code",
   "execution_count": null,
   "metadata": {},
   "outputs": [],
   "source": []
  }
 ],
 "metadata": {
  "kernelspec": {
   "display_name": "pymc_env",
   "language": "python",
   "name": "python3"
  },
  "language_info": {
   "codemirror_mode": {
    "name": "ipython",
    "version": 3
   },
   "file_extension": ".py",
   "mimetype": "text/x-python",
   "name": "python",
   "nbconvert_exporter": "python",
   "pygments_lexer": "ipython3",
   "version": "3.12.8"
  }
 },
 "nbformat": 4,
 "nbformat_minor": 2
}
