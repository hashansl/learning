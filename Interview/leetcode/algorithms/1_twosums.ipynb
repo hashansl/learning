{
 "cells": [
  {
   "cell_type": "markdown",
   "id": "6e4589f7",
   "metadata": {},
   "source": []
  },
  {
   "cell_type": "code",
   "execution_count": 4,
   "id": "5a748075",
   "metadata": {},
   "outputs": [],
   "source": [
    "from typing import List"
   ]
  },
  {
   "cell_type": "code",
   "execution_count": null,
   "id": "23787f78",
   "metadata": {},
   "outputs": [],
   "source": [
    "class Solution:\n",
    "    def twoSum(self, nums: List[int], target: int) -> List[int]:\n",
    "\n",
    "        # for loop first\n",
    "        for idx_1, num1 in enumerate(nums):\n",
    "            # second for loop\n",
    "            for idx_2, num2 in enumerate(nums):\n",
    "\n",
    "                # checking for one requirement\n",
    "                if idx_1 != idx_2:\n",
    "                    if num1+num2==target:\n",
    "                        return [idx_1,idx_2]"
   ]
  },
  {
   "cell_type": "code",
   "execution_count": null,
   "id": "5c545358",
   "metadata": {},
   "outputs": [],
   "source": []
  },
  {
   "cell_type": "code",
   "execution_count": null,
   "id": "8fa8677a",
   "metadata": {},
   "outputs": [],
   "source": []
  },
  {
   "cell_type": "code",
   "execution_count": null,
   "id": "189a33db",
   "metadata": {},
   "outputs": [],
   "source": []
  }
 ],
 "metadata": {
  "kernelspec": {
   "display_name": "pytorch",
   "language": "python",
   "name": "python3"
  },
  "language_info": {
   "codemirror_mode": {
    "name": "ipython",
    "version": 3
   },
   "file_extension": ".py",
   "mimetype": "text/x-python",
   "name": "python",
   "nbconvert_exporter": "python",
   "pygments_lexer": "ipython3",
   "version": "3.11.4"
  }
 },
 "nbformat": 4,
 "nbformat_minor": 5
}
