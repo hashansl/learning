{
 "cells": [
  {
   "cell_type": "markdown",
   "id": "6e4589f7",
   "metadata": {},
   "source": [
    "#### Algorithms: q1: two sum problem"
   ]
  },
  {
   "cell_type": "code",
   "execution_count": 3,
   "id": "5a748075",
   "metadata": {},
   "outputs": [],
   "source": [
    "from typing import List"
   ]
  },
  {
   "cell_type": "code",
   "execution_count": 3,
   "id": "23787f78",
   "metadata": {},
   "outputs": [],
   "source": [
    "# Brute force\n",
    "\n",
    "class Solution:\n",
    "    def twoSum(self, nums: List[int], target: int) -> List[int]:\n",
    "\n",
    "        # for loop first\n",
    "        for idx_1, num1 in enumerate(nums):\n",
    "            # second for loop\n",
    "            for idx_2, num2 in enumerate(nums):\n",
    "\n",
    "                # checking for one requirement\n",
    "                if idx_1 != idx_2:\n",
    "                    if num1+num2==target:\n",
    "                        return [idx_1,idx_2]"
   ]
  },
  {
   "cell_type": "code",
   "execution_count": 5,
   "id": "20e0a8e0",
   "metadata": {},
   "outputs": [],
   "source": [
    "list_int = [2,3,4]\n",
    "target = 6"
   ]
  },
  {
   "cell_type": "code",
   "execution_count": null,
   "id": "5c545358",
   "metadata": {},
   "outputs": [
    {
     "data": {
      "text/plain": [
       "[0, 2]"
      ]
     },
     "execution_count": 11,
     "metadata": {},
     "output_type": "execute_result"
    }
   ],
   "source": [
    "Solution().twoSum(nums=list_int, target=target)"
   ]
  },
  {
   "cell_type": "markdown",
   "id": "7e34e4f0",
   "metadata": {},
   "source": [
    "#### Things to note:\n",
    "\n",
    "- python List if you use .sort() it will sort the list in place and return None.\n",
    "- If you want to sort and return a new list, use sorted(list) which will return a new sorted list.\n",
    "- The brute force solution is O(n^2) time complexity.\n",
    "- The efficient solution is O(n) time complexity using a hash map."
   ]
  },
  {
   "cell_type": "markdown",
   "id": "355d0f90",
   "metadata": {},
   "source": [
    "#### Let's solve using an efficient approach: Hash Map\n"
   ]
  },
  {
   "cell_type": "code",
   "execution_count": 7,
   "id": "8fa8677a",
   "metadata": {},
   "outputs": [],
   "source": [
    "class Solution:\n",
    "    def twoSum(self, nums: List[int], target: int) -> List[int]:\n",
    "        \n",
    "        # dictionary to store the values\n",
    "        num_to_index = {}\n",
    "\n",
    "        for i, num in enumerate(nums):\n",
    "            # the number we need to find\n",
    "            complement = target-num\n",
    "\n",
    "            # If complement already in the dictionary return\n",
    "            if complement in num_to_index:\n",
    "                return [num_to_index[complement], i]\n",
    "            \n",
    "            # else store the current number and is index\n",
    "            num_to_index[num] = i"
   ]
  },
  {
   "cell_type": "code",
   "execution_count": 8,
   "id": "189a33db",
   "metadata": {},
   "outputs": [],
   "source": [
    "list_int = [2,3,4]\n",
    "target = 6"
   ]
  },
  {
   "cell_type": "code",
   "execution_count": 9,
   "id": "319d4593",
   "metadata": {},
   "outputs": [
    {
     "data": {
      "text/plain": [
       "[0, 2]"
      ]
     },
     "execution_count": 9,
     "metadata": {},
     "output_type": "execute_result"
    }
   ],
   "source": [
    "Solution().twoSum(nums=list_int, target=target)"
   ]
  },
  {
   "cell_type": "markdown",
   "id": "f7f19cad",
   "metadata": {},
   "source": [
    "#### Explanation for the hash map solution:\n"
   ]
  },
  {
   "cell_type": "markdown",
   "id": "4e646171",
   "metadata": {},
   "source": []
  }
 ],
 "metadata": {
  "kernelspec": {
   "display_name": "pytorch",
   "language": "python",
   "name": "python3"
  },
  "language_info": {
   "codemirror_mode": {
    "name": "ipython",
    "version": 3
   },
   "file_extension": ".py",
   "mimetype": "text/x-python",
   "name": "python",
   "nbconvert_exporter": "python",
   "pygments_lexer": "ipython3",
   "version": "3.11.4"
  }
 },
 "nbformat": 4,
 "nbformat_minor": 5
}
