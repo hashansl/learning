{
 "cells": [
  {
   "cell_type": "markdown",
   "id": "04a17a4f",
   "metadata": {},
   "source": [
    "#### Add Two Numbers"
   ]
  },
  {
   "cell_type": "markdown",
   "id": "9b3af8b7",
   "metadata": {},
   "source": [
    "You are given two non-empty linked lists representing two non-negative integers. The digits are stored in reverse order, and each of their nodes contains a single digit. Add the two numbers and return the sum as a linked list.\n",
    "\n",
    "You may assume the two numbers do not contain any leading zero, except the number 0 itself."
   ]
  },
  {
   "cell_type": "code",
   "execution_count": 1,
   "id": "c0482719",
   "metadata": {},
   "outputs": [],
   "source": [
    "l1 = [2,4,3]\n",
    "l2 = [5,6,4]"
   ]
  },
  {
   "cell_type": "code",
   "execution_count": null,
   "id": "3e219f18",
   "metadata": {},
   "outputs": [],
   "source": [
    "num1=0\n",
    "for i, digit in enumerate(l1):\n",
    "    place = 10**i\n",
    "    digit *= place\n",
    "    num1 += digit\n",
    "\n",
    "\n",
    "\n",
    "    # for j, digit2 in enumerate(l2):"
   ]
  },
  {
   "cell_type": "code",
   "execution_count": 2,
   "id": "e4727467",
   "metadata": {},
   "outputs": [],
   "source": [
    "l1.reverse()\n",
    "l2.reverse()"
   ]
  },
  {
   "cell_type": "code",
   "execution_count": null,
   "id": "5d8445de",
   "metadata": {},
   "outputs": [],
   "source": [
    "# Definition for singly-linked list.\n",
    "# class ListNode:\n",
    "#     def __init__(self, val=0, next=None):\n",
    "#         self.val = val\n",
    "#         self.next = next\n",
    "\n",
    "\n",
    "class Solution:\n",
    "    def addTwoNumbers(self, l1, l2):\n",
    "        num1=0\n",
    "        num2=0\n",
    "        for i, digit in enumerate(l1):\n",
    "            place = 10**i\n",
    "            digit *= place\n",
    "            num1 += digit\n",
    "\n",
    "        num2=0\n",
    "        for i, digit in enumerate(l2):\n",
    "            place = 10**i\n",
    "            digit *= place\n",
    "            num2 += digit\n",
    "\n",
    "        out =num1+num2\n",
    "\n",
    "        out = str(out)\n",
    "        \n",
    "\n",
    "    \n",
    "\n",
    "\n",
    "\n"
   ]
  },
  {
   "cell_type": "code",
   "execution_count": null,
   "id": "4514f251",
   "metadata": {},
   "outputs": [],
   "source": [
    "# Definition for singly-linked list.\n",
    "class ListNode:\n",
    "    def __init__(self, val=0, next=None):\n",
    "        self.val = val\n",
    "        self.next = next\n",
    "\n",
    "def insertAtBegin(self, data):\n",
    "    new_node = ListNode(data)\n",
    "    if self.head is None:\n",
    "        self.head = new_node\n",
    "        return\n",
    "    else:\n",
    "        new_node.next = self.head\n",
    "        self.head = new_node \n"
   ]
  },
  {
   "cell_type": "markdown",
   "id": "57c39543",
   "metadata": {},
   "source": [
    "#### Brute force solution"
   ]
  },
  {
   "cell_type": "code",
   "execution_count": 1,
   "id": "84866733",
   "metadata": {},
   "outputs": [],
   "source": [
    "# Definition for singly-linked list.\n",
    "class ListNode:\n",
    "    def __init__(self, val=0, next=None):\n",
    "        self.val = val\n",
    "        self.next = next\n",
    "\n",
    "def addTwoNumbers(l1, l2):\n",
    "    dummy = ListNode()   # Dummy head for the result list\n",
    "    current = dummy\n",
    "    carry = 0\n",
    "    \n",
    "    while l1 or l2 or carry:\n",
    "        # Get values from the nodes (0 if None)\n",
    "        val1 = l1.val if l1 else 0\n",
    "        val2 = l2.val if l2 else 0\n",
    "        \n",
    "        # Sum the values and carry\n",
    "        total = val1 + val2 + carry\n",
    "        carry = total // 10    # Carry for next position\n",
    "        digit = total % 10     # Current digit\n",
    "        \n",
    "        # Append the new digit to the result list\n",
    "        current.next = ListNode(digit)\n",
    "        current = current.next\n",
    "        \n",
    "        # Move to the next nodes\n",
    "        l1 = l1.next if l1 else None\n",
    "        l2 = l2.next if l2 else None\n",
    "    \n",
    "    return dummy.next\n"
   ]
  },
  {
   "cell_type": "code",
   "execution_count": null,
   "id": "71677ab7",
   "metadata": {},
   "outputs": [],
   "source": []
  }
 ],
 "metadata": {
  "kernelspec": {
   "display_name": "pytorch",
   "language": "python",
   "name": "python3"
  },
  "language_info": {
   "codemirror_mode": {
    "name": "ipython",
    "version": 3
   },
   "file_extension": ".py",
   "mimetype": "text/x-python",
   "name": "python",
   "nbconvert_exporter": "python",
   "pygments_lexer": "ipython3",
   "version": "3.11.4"
  }
 },
 "nbformat": 4,
 "nbformat_minor": 5
}
