{
 "cells": [
  {
   "cell_type": "markdown",
   "metadata": {},
   "source": [
    "### Regex basics"
   ]
  },
  {
   "cell_type": "markdown",
   "metadata": {},
   "source": [
    "Alright! Here’s a solid **Regex (Regular Expressions) basics guide** for Python.\n",
    "\n",
    "### ✅ **What is Regex?**\n",
    "Regex is a tool for matching patterns in text. In Python, you typically use the `re` module.\n",
    "\n",
    "```python\n",
    "import re\n",
    "```\n",
    "\n",
    "---\n",
    "\n",
    "### ✅ **Common Functions**\n",
    "\n",
    "1. **re.search()** – Finds a match anywhere in the string\n",
    "2. **re.match()** – Only matches at the beginning of the string\n",
    "3. **re.findall()** – Returns all non-overlapping matches as a list\n",
    "4. **re.sub()** – Substitutes matched text with something else\n",
    "\n",
    "---\n",
    "\n",
    "### ✅ **Basic Syntax**\n",
    "\n",
    "| Symbol | Meaning                        | Example                  |\n",
    "|--------|--------------------------------|--------------------------|\n",
    "| `.`    | Any character except newline   | `a.c` matches `abc`, `a-c` |\n",
    "| `^`    | Start of string                | `^Hello` matches `\"Hello world\"` |\n",
    "| `$`    | End of string                  | `world$` matches `\"Hello world\"` |\n",
    "| `*`    | 0 or more repetitions          | `ab*` matches `a`, `ab`, `abb` |\n",
    "| `+`    | 1 or more repetitions          | `ab+` matches `ab`, `abb` |\n",
    "| `?`    | 0 or 1 repetition (optional)   | `ab?` matches `a`, `ab` |\n",
    "| `{n}`  | Exactly n repetitions          | `a{3}` matches `aaa` |\n",
    "| `{n,}` | n or more repetitions          | `a{2,}` matches `aa`, `aaa`, etc. |\n",
    "| `{n,m}`| Between n and m repetitions    | `a{2,4}` matches `aa`, `aaa`, `aaaa` |\n",
    "| `[]`   | Character class (set)          | `[aeiou]` matches any vowel |\n",
    "| `|`    | OR                             | `cat|dog` matches `cat` or `dog` |\n",
    "| `()`   | Grouping                       | `(abc)+` matches `abc`, `abcabc` |\n",
    "\n",
    "---\n",
    "\n",
    "### ✅ **Special Sequences**\n",
    "\n",
    "| Sequence | Matches                         |\n",
    "|----------|----------------------------------|\n",
    "| `\\d`     | Digit (`0-9`)                   |\n",
    "| `\\D`     | Non-digit                       |\n",
    "| `\\w`     | Word character (`a-zA-Z0-9_`)   |\n",
    "| `\\W`     | Non-word character              |\n",
    "| `\\s`     | Whitespace (space, tab, newline)|\n",
    "| `\\S`     | Non-whitespace                  |\n",
    "| `\\b`     | Word boundary                   |\n",
    "| `\\B`     | Not a word boundary             |\n",
    "\n",
    "---\n",
    "\n",
    "### ✅ **Examples**\n",
    "\n",
    "```python\n",
    "# Search for a 3-digit number\n",
    "re.search(r\"\\d{3}\", \"Phone: 123-4567\")\n",
    "# Output: <re.Match object; span=(7, 10), match='123'>\n",
    "\n",
    "# Extract all email addresses\n",
    "text = \"Contact: alice@mail.com and bob@mail.org\"\n",
    "emails = re.findall(r\"[a-zA-Z0-9_.+-]+@[a-zA-Z0-9-]+\\.[a-zA-Z0-9-.]+\", text)\n",
    "# Output: ['alice@mail.com', 'bob@mail.org']\n",
    "\n",
    "# Replace digits with X\n",
    "re.sub(r\"\\d\", \"X\", \"Account: 4567\")\n",
    "# Output: 'Account: XXXX'\n",
    "```\n",
    "\n",
    "---\n",
    "\n",
    "### ✅ **Flags**\n",
    "\n",
    "- `re.IGNORECASE` or `re.I` – case-insensitive\n",
    "- `re.MULTILINE` or `re.M` – `^` and `$` match at each line\n",
    "- `re.DOTALL` or `re.S` – dot `.` matches newline too\n",
    "\n",
    "```python\n",
    "re.search(r\"hello\", \"HeLLo World\", re.I)\n",
    "```\n",
    "\n",
    "---\n",
    "\n",
    "### ✅ **Pro tip: Always use raw strings**\n",
    "\n",
    "Always prefix your regex patterns with `r\"\"` to avoid dealing with escape sequences in Python strings.\n",
    "\n",
    "```python\n",
    "pattern = r\"\\d{3}-\\d{4}\"  # Instead of \"\\\\d{3}-\\\\d{4}\"\n",
    "```\n",
    "\n",
    "---\n",
    "\n"
   ]
  },
  {
   "cell_type": "markdown",
   "metadata": {},
   "source": [
    "https://www.youtube.com/watch?v=wnuBwl2ekmo"
   ]
  },
  {
   "cell_type": "code",
   "execution_count": 1,
   "metadata": {},
   "outputs": [],
   "source": [
    "import re"
   ]
  },
  {
   "cell_type": "code",
   "execution_count": null,
   "metadata": {},
   "outputs": [],
   "source": [
    "pattern = re.compile(\"^[A-Z]+$\")"
   ]
  },
  {
   "cell_type": "code",
   "execution_count": 4,
   "metadata": {},
   "outputs": [
    {
     "name": "stdout",
     "output_type": "stream",
     "text": [
      "None\n",
      "None\n",
      "<re.Match object; span=(0, 10), match='HELLOWORLD'>\n"
     ]
    }
   ],
   "source": [
    "print(pattern.search(\"Hello Word\"))\n",
    "print(pattern.search(\"HELLO WORLD\"))\n",
    "print(pattern.search(\"HELLOWORLD\"))"
   ]
  },
  {
   "cell_type": "code",
   "execution_count": 10,
   "metadata": {},
   "outputs": [
    {
     "name": "stdout",
     "output_type": "stream",
     "text": [
      "None\n",
      "None\n",
      "<re.Match object; span=(0, 10), match='HELLOWORLD'>\n"
     ]
    }
   ],
   "source": [
    "print(pattern.search(\"HellO Word\"))\n",
    "print(pattern.search(\"HELLO WORLD\"))\n",
    "print(pattern.search(\"HELLOWORLD\"))"
   ]
  },
  {
   "cell_type": "code",
   "execution_count": 7,
   "metadata": {},
   "outputs": [
    {
     "name": "stdout",
     "output_type": "stream",
     "text": [
      "None\n",
      "None\n",
      "<re.Match object; span=(0, 10), match='HELLOWORLD'>\n"
     ]
    }
   ],
   "source": [
    "print(pattern.match(\"Hello Word\"))\n",
    "print(pattern.match(\"HELLO WORLD\"))\n",
    "print(pattern.match(\"HELLOWORLD\"))"
   ]
  },
  {
   "cell_type": "code",
   "execution_count": 11,
   "metadata": {},
   "outputs": [
    {
     "name": "stderr",
     "output_type": "stream",
     "text": [
      "<>:1: SyntaxWarning: invalid escape sequence '\\s'\n",
      "<>:1: SyntaxWarning: invalid escape sequence '\\s'\n",
      "/var/folders/j3/904q7dbj02j_jyjz7pvfgz384d40kw/T/ipykernel_42621/2394034562.py:1: SyntaxWarning: invalid escape sequence '\\s'\n",
      "  pattern = re.compile(\"^[a-zA-Z\\s]+$\")\n"
     ]
    }
   ],
   "source": [
    "pattern = re.compile(\"^[a-zA-Z\\s]+$\")"
   ]
  },
  {
   "cell_type": "code",
   "execution_count": 12,
   "metadata": {},
   "outputs": [
    {
     "name": "stdout",
     "output_type": "stream",
     "text": [
      "<re.Match object; span=(0, 10), match='Hello Word'>\n",
      "<re.Match object; span=(0, 11), match='HELLO WORLD'>\n",
      "<re.Match object; span=(0, 10), match='HELLOWORLD'>\n"
     ]
    }
   ],
   "source": [
    "print(pattern.search(\"Hello Word\"))\n",
    "print(pattern.search(\"HELLO WORLD\"))\n",
    "print(pattern.search(\"HELLOWORLD\"))"
   ]
  },
  {
   "cell_type": "code",
   "execution_count": 13,
   "metadata": {},
   "outputs": [],
   "source": [
    "# 3 lowercase letters\n",
    "# 3-5 digits\n",
    "# one symbol\n",
    "# upto two uppercase characters"
   ]
  },
  {
   "cell_type": "code",
   "execution_count": 16,
   "metadata": {},
   "outputs": [
    {
     "name": "stdout",
     "output_type": "stream",
     "text": [
      "<re.Match object; span=(0, 10), match='ahd3234#AJ'>\n"
     ]
    }
   ],
   "source": [
    "pattern = re.compile(\"^[a-z]{3}[0-9]{3,5}[^a-zA-Z0-9]{1}[A-Z]{2}$\")\n",
    "\n",
    "\n",
    "print(pattern.search(\"ahd3234#AJ\"))\n"
   ]
  },
  {
   "cell_type": "code",
   "execution_count": null,
   "metadata": {},
   "outputs": [],
   "source": []
  },
  {
   "cell_type": "code",
   "execution_count": null,
   "metadata": {},
   "outputs": [],
   "source": []
  }
 ],
 "metadata": {
  "kernelspec": {
   "display_name": "pymc_env",
   "language": "python",
   "name": "python3"
  },
  "language_info": {
   "codemirror_mode": {
    "name": "ipython",
    "version": 3
   },
   "file_extension": ".py",
   "mimetype": "text/x-python",
   "name": "python",
   "nbconvert_exporter": "python",
   "pygments_lexer": "ipython3",
   "version": "3.12.8"
  }
 },
 "nbformat": 4,
 "nbformat_minor": 2
}
