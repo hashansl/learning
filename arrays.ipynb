{
 "cells": [
  {
   "cell_type": "markdown",
   "id": "f793afde",
   "metadata": {},
   "source": [
    "Arrays"
   ]
  },
  {
   "cell_type": "markdown",
   "id": "f1a9a49a",
   "metadata": {},
   "source": [
    "Hash tables"
   ]
  },
  {
   "cell_type": "code",
   "execution_count": 1,
   "id": "b52326b2",
   "metadata": {},
   "outputs": [],
   "source": [
    "class HashTable:\n",
    "    def __init__(self, size):\n",
    "        self.size = size\n",
    "        self.table = [[] for _ in range(size)]  # list of buckets\n",
    "\n",
    "    def _hash(self, key):\n",
    "        return key % self.size  # simple hash function\n",
    "\n",
    "    def insert(self, key):\n",
    "        index = self._hash(key)\n",
    "        bucket = self.table[index]\n",
    "\n",
    "        # Avoid inserting duplicates\n",
    "        if key not in bucket:\n",
    "            bucket.append(key)\n",
    "\n",
    "    def lookup(self, key):\n",
    "        index = self._hash(key)\n",
    "        bucket = self.table[index]\n",
    "\n",
    "        # Count how many comparisons (simulated time)\n",
    "        comparisons = 0\n",
    "        for item in bucket:\n",
    "            comparisons += 1\n",
    "            if item == key:\n",
    "                return True, comparisons\n",
    "\n",
    "        return False, comparisons\n",
    "\n",
    "    def display(self):\n",
    "        for i, bucket in enumerate(self.table):\n",
    "            print(f\"Index {i}: {bucket}\")\n"
   ]
  },
  {
   "cell_type": "code",
   "execution_count": 2,
   "id": "f51bf8c5",
   "metadata": {},
   "outputs": [],
   "source": [
    "# -------------------------\n",
    "# Test Example\n",
    "arr = [15, 11, 27, 8, 12, 7, 18, 28]  # Some values will collide\n",
    "ht = HashTable(size=5)"
   ]
  },
  {
   "cell_type": "code",
   "execution_count": 3,
   "id": "29e6b7e9",
   "metadata": {},
   "outputs": [],
   "source": [
    "# Insert elements\n",
    "for num in arr:\n",
    "    ht.insert(num)"
   ]
  },
  {
   "cell_type": "code",
   "execution_count": 4,
   "id": "532c0947",
   "metadata": {},
   "outputs": [
    {
     "name": "stdout",
     "output_type": "stream",
     "text": [
      "Hash Table State:\n",
      "Index 0: [15]\n",
      "Index 1: [11]\n",
      "Index 2: [27, 12, 7]\n",
      "Index 3: [8, 18, 28]\n",
      "Index 4: []\n"
     ]
    }
   ],
   "source": [
    "# Display table\n",
    "print(\"Hash Table State:\")\n",
    "ht.display()"
   ]
  },
  {
   "cell_type": "code",
   "execution_count": 5,
   "id": "65871528",
   "metadata": {},
   "outputs": [
    {
     "name": "stdout",
     "output_type": "stream",
     "text": [
      "\n",
      "Lookup key 28: Found=True, Steps=3\n"
     ]
    }
   ],
   "source": [
    "# Lookup example\n",
    "key = 28\n",
    "found, steps = ht.lookup(key)\n",
    "print(f\"\\nLookup key {key}: Found={found}, Steps={steps}\")"
   ]
  },
  {
   "cell_type": "code",
   "execution_count": 6,
   "id": "f3b45164",
   "metadata": {},
   "outputs": [],
   "source": [
    "class HashTable:\n",
    "    def __init__(self, size):\n",
    "        self.size = size\n",
    "        self.table = [[] for _ in range(size)]  # Create empty buckets\n",
    "\n",
    "    def hash_function(self, key):\n",
    "        return hash(key) % self.size\n",
    "\n",
    "    def insert(self, key, value):\n",
    "        idx = self.hash_function(key)\n",
    "        # Check if key already exists and update it\n",
    "        for i, (k, v) in enumerate(self.table[idx]):\n",
    "            if k == key:\n",
    "                self.table[idx][i] = (key, value)\n",
    "                return\n",
    "        self.table[idx].append((key, value))  # Insert new key-value pair\n",
    "\n",
    "    def get(self, key):\n",
    "        idx = self.hash_function(key)\n",
    "        for k, v in self.table[idx]:\n",
    "            if k == key:\n",
    "                return v\n",
    "        return None  # Key not found\n",
    "\n",
    "    def delete(self, key):\n",
    "        idx = self.hash_function(key)\n",
    "        for i, (k, v) in enumerate(self.table[idx]):\n",
    "            if k == key:\n",
    "                del self.table[idx][i]\n",
    "                return True\n",
    "        return False\n",
    "\n",
    "    def display(self):\n",
    "        for i, bucket in enumerate(self.table):\n",
    "            print(f\"Bucket {i}: {bucket}\")\n"
   ]
  },
  {
   "cell_type": "code",
   "execution_count": 7,
   "id": "9822980f",
   "metadata": {},
   "outputs": [
    {
     "name": "stdout",
     "output_type": "stream",
     "text": [
      "Get apple: 3\n",
      "Bucket 0: []\n",
      "Bucket 1: []\n",
      "Bucket 2: [('apple', 3)]\n",
      "Bucket 3: []\n",
      "Bucket 4: []\n",
      "Bucket 5: []\n",
      "Bucket 6: []\n",
      "Bucket 7: [('orange', 10)]\n",
      "Bucket 8: []\n",
      "Bucket 9: []\n"
     ]
    }
   ],
   "source": [
    "# Example usage\n",
    "ht = HashTable(10)\n",
    "ht.insert(\"apple\", 3)\n",
    "ht.insert(\"banana\", 7)\n",
    "ht.insert(\"orange\", 10)\n",
    "\n",
    "print(\"Get apple:\", ht.get(\"apple\"))\n",
    "ht.delete(\"banana\")\n",
    "\n",
    "ht.display()"
   ]
  },
  {
   "cell_type": "code",
   "execution_count": null,
   "id": "b2ff20fc",
   "metadata": {},
   "outputs": [],
   "source": []
  }
 ],
 "metadata": {
  "kernelspec": {
   "display_name": "base",
   "language": "python",
   "name": "python3"
  },
  "language_info": {
   "codemirror_mode": {
    "name": "ipython",
    "version": 3
   },
   "file_extension": ".py",
   "mimetype": "text/x-python",
   "name": "python",
   "nbconvert_exporter": "python",
   "pygments_lexer": "ipython3",
   "version": "3.11.4"
  }
 },
 "nbformat": 4,
 "nbformat_minor": 5
}
