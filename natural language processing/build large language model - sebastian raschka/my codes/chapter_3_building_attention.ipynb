{
 "cells": [
  {
   "cell_type": "markdown",
   "id": "6aafbeb5",
   "metadata": {},
   "source": [
    "### Coding Attention Mechanism"
   ]
  },
  {
   "cell_type": "code",
   "execution_count": 2,
   "id": "f8998c5c",
   "metadata": {},
   "outputs": [
    {
     "name": "stdout",
     "output_type": "stream",
     "text": [
      "torch version: 2.3.0\n"
     ]
    }
   ],
   "source": [
    "from importlib.metadata import version\n",
    "\n",
    "print(\"torch version:\", version(\"torch\"))"
   ]
  },
  {
   "cell_type": "markdown",
   "id": "abd12f71",
   "metadata": {},
   "source": [
    "Simple attention mechanism \n",
    "\n",
    "For Query, Key, and Value vectors, we use the same vector for simplicity.\n",
    "\n",
    "```python"
   ]
  },
  {
   "cell_type": "code",
   "execution_count": 3,
   "id": "b53987a9",
   "metadata": {},
   "outputs": [],
   "source": [
    "import torch\n",
    "\n",
    "inputs = torch.tensor(\n",
    "  [[0.43, 0.15, 0.89], # Your     (x^1)\n",
    "   [0.55, 0.87, 0.66], # journey  (x^2)\n",
    "   [0.57, 0.85, 0.64], # starts   (x^3)\n",
    "   [0.22, 0.58, 0.33], # with     (x^4)\n",
    "   [0.77, 0.25, 0.10], # one      (x^5)\n",
    "   [0.05, 0.80, 0.55]] # step     (x^6)\n",
    ")"
   ]
  },
  {
   "cell_type": "code",
   "execution_count": 4,
   "id": "8406e46a",
   "metadata": {},
   "outputs": [
    {
     "name": "stdout",
     "output_type": "stream",
     "text": [
      "query: tensor([0.5500, 0.8700, 0.6600])\n"
     ]
    }
   ],
   "source": [
    "query = inputs[1]\n",
    "print(\"query:\", query)"
   ]
  },
  {
   "cell_type": "code",
   "execution_count": 5,
   "id": "a7360be3",
   "metadata": {},
   "outputs": [
    {
     "name": "stdout",
     "output_type": "stream",
     "text": [
      "attention_scores_2: tensor([0., 0., 0., 0., 0., 0.])\n"
     ]
    }
   ],
   "source": [
    "attention_scores_2 = torch.empty(inputs.shape[0], dtype=torch.float32)\n",
    "print(\"attention_scores_2:\", attention_scores_2)"
   ]
  },
  {
   "cell_type": "code",
   "execution_count": 6,
   "id": "897b22e2",
   "metadata": {},
   "outputs": [
    {
     "name": "stdout",
     "output_type": "stream",
     "text": [
      "attention_scores_2: tensor([0.9544, 1.4950, 1.4754, 0.8434, 0.7070, 1.0865])\n"
     ]
    }
   ],
   "source": [
    "for i, x in enumerate(inputs):\n",
    "    attention_scores_2[i] = torch.dot(query, x)\n",
    "\n",
    "print(\"attention_scores_2:\", attention_scores_2)"
   ]
  },
  {
   "cell_type": "markdown",
   "id": "2346bb7c",
   "metadata": {},
   "source": [
    "Above weights are not standerdized."
   ]
  },
  {
   "cell_type": "code",
   "execution_count": 7,
   "id": "f2af33f1",
   "metadata": {},
   "outputs": [
    {
     "name": "stdout",
     "output_type": "stream",
     "text": [
      "attention_scores_norm: tensor([0.1455, 0.2278, 0.2249, 0.1285, 0.1077, 0.1656])\n",
      "Attention scores sum: tensor(1.0000)\n"
     ]
    }
   ],
   "source": [
    "# standerdizing weights\n",
    "\n",
    "attention_scores_norm = attention_scores_2/ attention_scores_2.sum()\n",
    "print(\"attention_scores_norm:\", attention_scores_norm)\n",
    "\n",
    "# usually use softmax function for normalize\n",
    "\n",
    "print(\"Attention scores sum:\", attention_scores_norm.sum())"
   ]
  },
  {
   "cell_type": "code",
   "execution_count": 8,
   "id": "200f30d1",
   "metadata": {},
   "outputs": [
    {
     "name": "stdout",
     "output_type": "stream",
     "text": [
      "Attention weights: tensor([0.1385, 0.2379, 0.2333, 0.1240, 0.1082, 0.1581])\n",
      "Sum: tensor(1.0000)\n"
     ]
    }
   ],
   "source": [
    "attention_weights_softmax = torch.softmax(attention_scores_2, dim=0)\n",
    "\n",
    "print(\"Attention weights:\",attention_weights_softmax)\n",
    "print(\"Sum:\", attention_scores_norm.sum())"
   ]
  },
  {
   "cell_type": "code",
   "execution_count": 9,
   "id": "e1616d37",
   "metadata": {},
   "outputs": [
    {
     "name": "stdout",
     "output_type": "stream",
     "text": [
      "tensor([0., 0., 0.])\n",
      "context vec 0 step: tensor([0.0625, 0.0218, 0.1295])\n",
      "context vec 1 step: tensor([0.1879, 0.2200, 0.2798])\n",
      "context vec 2 step: tensor([0.3160, 0.4112, 0.4237])\n",
      "context vec 3 step: tensor([0.3443, 0.4857, 0.4661])\n",
      "context vec 4 step: tensor([0.4273, 0.5126, 0.4769])\n",
      "context vec 5 step: tensor([0.4355, 0.6451, 0.5680])\n",
      "tensor([0.4355, 0.6451, 0.5680])\n"
     ]
    }
   ],
   "source": [
    "# as final step let's calculate the context vector\n",
    "\n",
    "context_vec = torch.zeros(query.shape)\n",
    "print(context_vec)\n",
    "\n",
    "for i, x in enumerate(inputs):\n",
    "    context_vec += attention_scores_norm[i]*x\n",
    "    print(f\"context vec {i} step:\", \n",
    "    context_vec)\n",
    "\n",
    "print(context_vec)"
   ]
  },
  {
   "cell_type": "markdown",
   "id": "548377cd",
   "metadata": {},
   "source": [
    "Computing attention scores for all input tokens"
   ]
  },
  {
   "cell_type": "code",
   "execution_count": 10,
   "id": "5f1e69e0",
   "metadata": {},
   "outputs": [
    {
     "name": "stdout",
     "output_type": "stream",
     "text": [
      "tensor([[0., 0., 0., 0., 0., 0.],\n",
      "        [0., 0., 0., 0., 0., 0.],\n",
      "        [0., 0., 0., 0., 0., 0.],\n",
      "        [0., 0., 0., 0., 0., 0.],\n",
      "        [0., 0., 0., 0., 0., 0.],\n",
      "        [0., 0., 0., 0., 0., 0.]])\n"
     ]
    }
   ],
   "source": [
    "attention_scores = torch.empty(6,6)\n",
    "\n",
    "print(attention_scores)"
   ]
  },
  {
   "cell_type": "code",
   "execution_count": 11,
   "id": "d2eb99a1",
   "metadata": {},
   "outputs": [
    {
     "name": "stdout",
     "output_type": "stream",
     "text": [
      "tensor([[0.9995, 0.9544, 0.9422, 0.4753, 0.4576, 0.6310],\n",
      "        [0.9544, 1.4950, 1.4754, 0.8434, 0.7070, 1.0865],\n",
      "        [0.9422, 1.4754, 1.4570, 0.8296, 0.7154, 1.0605],\n",
      "        [0.4753, 0.8434, 0.8296, 0.4937, 0.3474, 0.6565],\n",
      "        [0.4576, 0.7070, 0.7154, 0.3474, 0.6654, 0.2935],\n",
      "        [0.6310, 1.0865, 1.0605, 0.6565, 0.2935, 0.9450]])\n"
     ]
    }
   ],
   "source": [
    "for i, xi in enumerate(inputs):\n",
    "    for j, xj in enumerate(inputs):\n",
    "        attention_scores[i, j] = torch.dot(xi,xj)\n",
    "\n",
    "\n",
    "print(attention_scores)"
   ]
  },
  {
   "cell_type": "code",
   "execution_count": 12,
   "id": "eecd2ba5",
   "metadata": {},
   "outputs": [
    {
     "data": {
      "text/plain": [
       "tensor(0.9995)"
      ]
     },
     "execution_count": 12,
     "metadata": {},
     "output_type": "execute_result"
    }
   ],
   "source": [
    "torch.dot(inputs[0],inputs[0])"
   ]
  },
  {
   "cell_type": "markdown",
   "id": "97386eb3",
   "metadata": {},
   "source": [
    "* dot product: Returns a scalar that is the sum of the products of corresponding elements.\n",
    "* '*' : element-wise multiplication"
   ]
  },
  {
   "cell_type": "markdown",
   "id": "b040a3e2",
   "metadata": {},
   "source": [
    "Can achieve the same result with `torch.matmul` or `torch.bmm` (batch matrix multiplication)."
   ]
  },
  {
   "cell_type": "code",
   "execution_count": 13,
   "id": "7646df69",
   "metadata": {},
   "outputs": [
    {
     "name": "stdout",
     "output_type": "stream",
     "text": [
      "tensor([[0.9995, 0.9544, 0.9422, 0.4753, 0.4576, 0.6310],\n",
      "        [0.9544, 1.4950, 1.4754, 0.8434, 0.7070, 1.0865],\n",
      "        [0.9422, 1.4754, 1.4570, 0.8296, 0.7154, 1.0605],\n",
      "        [0.4753, 0.8434, 0.8296, 0.4937, 0.3474, 0.6565],\n",
      "        [0.4576, 0.7070, 0.7154, 0.3474, 0.6654, 0.2935],\n",
      "        [0.6310, 1.0865, 1.0605, 0.6565, 0.2935, 0.9450]])\n"
     ]
    }
   ],
   "source": [
    "atten_scores_matrix_mul = inputs @ inputs.T\n",
    "print(atten_scores_matrix_mul)"
   ]
  },
  {
   "cell_type": "markdown",
   "id": "40aede18",
   "metadata": {},
   "source": [
    "Above code can be confusing because it uses the same vector for Query, Key, and Value. Let's use trainable weights and properly compute the attention scores."
   ]
  },
  {
   "cell_type": "markdown",
   "id": "a48920ab",
   "metadata": {},
   "source": [
    "### Implementing Self-Attention (Trainable Weights) : IMPORTANT"
   ]
  },
  {
   "cell_type": "code",
   "execution_count": 14,
   "id": "c91b2686",
   "metadata": {},
   "outputs": [],
   "source": [
    "x_2 = inputs[1]\n",
    "d_in = inputs.shape[1] # the input embedding s\n",
    "d_out = 2 # the output embedding size"
   ]
  },
  {
   "cell_type": "code",
   "execution_count": 21,
   "id": "a9f6f8d1",
   "metadata": {},
   "outputs": [],
   "source": [
    "torch.manual_seed(123)\n",
    "\n",
    "W_query = torch.nn.Parameter(torch.rand(d_in, d_out), requires_grad=False)\n",
    "W_key = torch.nn.Parameter(torch.rand(d_in, d_out), requires_grad=False)\n",
    "W_value = torch.nn.Parameter(torch.rand(d_in, d_out), requires_grad=False)"
   ]
  },
  {
   "cell_type": "code",
   "execution_count": 24,
   "id": "abe7f486",
   "metadata": {},
   "outputs": [],
   "source": [
    "# create query, key, value vectors\n",
    "\n",
    "query_2 = x_2 @ W_query # _2 because it's with respect to the 2nd input element\n",
    "key_2 = x_2 @ W_key\n",
    "value_2 = x_2 @ W_value"
   ]
  },
  {
   "cell_type": "code",
   "execution_count": 25,
   "id": "41b51417",
   "metadata": {},
   "outputs": [
    {
     "name": "stdout",
     "output_type": "stream",
     "text": [
      "tensor([0.3951, 1.0037])\n"
     ]
    }
   ],
   "source": [
    "print(value_2)"
   ]
  },
  {
   "cell_type": "code",
   "execution_count": 26,
   "id": "24ca3006",
   "metadata": {},
   "outputs": [
    {
     "name": "stdout",
     "output_type": "stream",
     "text": [
      "keys.shape: torch.Size([6, 2])\n",
      "values.shape: torch.Size([6, 2])\n"
     ]
    }
   ],
   "source": [
    "keys = inputs @ W_key\n",
    "values = inputs @ W_value\n",
    "\n",
    "print(\"keys.shape:\", keys.shape)\n",
    "print(\"values.shape:\", values.shape)"
   ]
  },
  {
   "cell_type": "code",
   "execution_count": 27,
   "id": "04bb2a3c",
   "metadata": {},
   "outputs": [
    {
     "name": "stdout",
     "output_type": "stream",
     "text": [
      "tensor([1.2705, 1.8524, 1.8111, 1.0795, 0.5577, 1.5440])\n"
     ]
    }
   ],
   "source": [
    "attention_scores_2 = query_2 @ keys.T # All attention scores for given query\n",
    "\n",
    "print(attention_scores_2)"
   ]
  },
  {
   "cell_type": "code",
   "execution_count": 29,
   "id": "1da1664a",
   "metadata": {},
   "outputs": [
    {
     "name": "stdout",
     "output_type": "stream",
     "text": [
      "tensor([0.1500, 0.2264, 0.2199, 0.1311, 0.0906, 0.1820])\n"
     ]
    }
   ],
   "source": [
    "d_k = keys.shape[1]\n",
    "\n",
    "attn_weights_2 = torch.softmax(attention_scores_2 / d_k**0.5, dim=-1 )\n",
    "print(attn_weights_2)"
   ]
  },
  {
   "cell_type": "code",
   "execution_count": 30,
   "id": "76ddbf6f",
   "metadata": {},
   "outputs": [
    {
     "name": "stdout",
     "output_type": "stream",
     "text": [
      "tensor([0.3061, 0.8210])\n"
     ]
    }
   ],
   "source": [
    "context_vec_2 = attn_weights_2 @ values\n",
    "\n",
    "print(context_vec_2)"
   ]
  },
  {
   "cell_type": "markdown",
   "id": "91647e70",
   "metadata": {},
   "source": [
    "### Implementing a compact SelfAttention class"
   ]
  },
  {
   "cell_type": "code",
   "execution_count": null,
   "id": "905c91e6",
   "metadata": {},
   "outputs": [],
   "source": []
  },
  {
   "cell_type": "code",
   "execution_count": null,
   "id": "005de1bf",
   "metadata": {},
   "outputs": [],
   "source": []
  }
 ],
 "metadata": {
  "kernelspec": {
   "display_name": "pytorch",
   "language": "python",
   "name": "python3"
  },
  "language_info": {
   "codemirror_mode": {
    "name": "ipython",
    "version": 3
   },
   "file_extension": ".py",
   "mimetype": "text/x-python",
   "name": "python",
   "nbconvert_exporter": "python",
   "pygments_lexer": "ipython3",
   "version": "3.11.4"
  }
 },
 "nbformat": 4,
 "nbformat_minor": 5
}
