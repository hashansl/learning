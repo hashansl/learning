{
 "cells": [
  {
   "cell_type": "code",
   "execution_count": null,
   "metadata": {},
   "outputs": [],
   "source": []
  },
  {
   "cell_type": "code",
   "execution_count": 11,
   "metadata": {},
   "outputs": [],
   "source": [
    "import argparse\n",
    "import os\n",
    "import shutil\n",
    "from langchain.document_loaders.pdf import PyPDFDirectoryLoader\n",
    "from langchain_text_splitters import RecursiveCharacterTextSplitter\n",
    "from langchain.schema.document import Document\n",
    "from get_embedding_function import get_embedding_function\n",
    "from langchain.vectorstores.chroma import Chroma\n"
   ]
  },
  {
   "cell_type": "code",
   "execution_count": 3,
   "metadata": {},
   "outputs": [],
   "source": [
    "DATA_PATH =  '/Users/h6x/ORNL/git/learning/natural language processing/RAG/rag-tutorial-v2'"
   ]
  },
  {
   "cell_type": "code",
   "execution_count": 4,
   "metadata": {},
   "outputs": [],
   "source": [
    "def load_documents():\n",
    "    document_loader = PyPDFDirectoryLoader(DATA_PATH)\n",
    "    return document_loader.load()"
   ]
  },
  {
   "cell_type": "code",
   "execution_count": 5,
   "metadata": {},
   "outputs": [],
   "source": [
    "documents = load_documents()"
   ]
  },
  {
   "cell_type": "code",
   "execution_count": 6,
   "metadata": {},
   "outputs": [
    {
     "name": "stdout",
     "output_type": "stream",
     "text": [
      "page_content='MONOPOLY \n",
      "Property Trading Game from Parker Brothers\" \n",
      "AGES 8+ \n",
      "2 to 8 Players \n",
      "Contents: Gameboard, 3 dice, tokens, 32 houses, I2 hotels, Chance \n",
      "and Community Chest cards, Title Deed cards, play money and a Banker's tray. \n",
      "Now there's a faster way to play MONOPOLY. Choose to play by \n",
      "the classic rules for buying, renting and selling properties or use the \n",
      "Speed Die to get into the action faster. If you've never played the classic \n",
      "MONOPOLY game, refer to the Classic Rules beginning on the next page. \n",
      "If you already know how to play and want to use the Speed Die, just \n",
      "read the section below for the additional Speed Die rules. \n",
      "SPEED DIE RULES \n",
      "Learnins how to Play with the S~eed Die IS as \n",
      "/ \n",
      "fast as playing with i't. \n",
      "1. When starting the game, hand out an extra $1,000 to each player \n",
      "(two $5005 should work). The game moves fast and you'll need \n",
      "the extra cash to buy and build. \n",
      "2. Do not use the Speed Die until you've landed on or passed over \n",
      "GO for the first time. Once you collect that first $200 salary, you'll \n",
      "use the Speed Die for the rest of the game. This means that some \n",
      "players will start using the die before others. \n",
      "3. Once you start using the Speed Die, roll it along with the two \n",
      "white dice on your turn. Then do the following depending on \n",
      "what you rolled. \n",
      "1, 2, or 3: Add this number to the roll of the two white \n",
      "dice. You'll zoom around the board. ' metadata={'source': '/Users/h6x/ORNL/git/learning/natural language processing/RAG/rag-tutorial-v2/data/monopoly.pdf', 'page': 0, 'page_label': '1'}\n"
     ]
    }
   ],
   "source": [
    "print(documents[0])"
   ]
  },
  {
   "cell_type": "code",
   "execution_count": 9,
   "metadata": {},
   "outputs": [
    {
     "name": "stdout",
     "output_type": "stream",
     "text": [
      "page_content='Bus: This lets you \"get off the bus early.\" Look at the two white \n",
      "dice. You can move the value of one die, the other die, or the \n",
      "sum of both dice. So if you rolled a 1 and a 5, you can move \n",
      "1 space, 5 spaces, or 6 spaces: \\t's your choice. \n",
      "Mr. Monopoly: First, move the sum of the two white dice \n",
      "and resolve the space you land on (such as drawing a card, \n",
      "buying the property, paying rent, etc.). Then, one of two \n",
      "things will happen depending on whether or not there is still \n",
      "property in the bank. \n",
      "YES, there is property in the bank -Advance to the NEXT \n",
      "property that the bank still holds and buy it if you wish. If you \n",
      "don't want to buy this property, move to the space anyway \n",
      "and put the property up for auction. \n",
      "NO, there are no more properties in the bank - Advance to the \n",
      "NOCT property on which you will owe another player money. \n",
      "A few minor details: \n",
      "Only the white dice are used when determining if you rolled doubles. \n",
      "Do not look at the Speed Die. \n",
      "If you roll a three-of-a-kind (all of the dice show the same number), \n",
      "you can move anywhere you want on the board! \n",
      "If you get sent to jail during your move (either by landing on the \"Go \n",
      "to Jail\" space or by rolling doubles three times in a row) then your turn \n",
      "is over and you do not get to use the Speed Die for that turn. \n",
      "Use the white dice ONLY when rolling to get out of jail. \n",
      "L \n",
      "Use the sum of all three dice when determining how much to pay on \n",
      "a utility. Note: The Bus and Mr. Monopoly are valued at 0. \n",
      "CLASSIC MONOPOW RULES \n",
      "OBJECT: The object of the game IS to become the \n",
      "wealthiest player through buying, renting and selling \n",
      "property. \n",
      "PREPARATION: Place the board on a table and put \n",
      "the Chance and Community Chest cards facedown on \n",
      "their allotted spaces on the board. Each player chooses one token to \n",
      "represent himther while traveling around the board. ' metadata={'source': '/Users/h6x/ORNL/git/learning/natural language processing/RAG/rag-tutorial-v2/data/monopoly.pdf', 'page': 1, 'page_label': '2'}\n"
     ]
    }
   ],
   "source": [
    "print(documents[1])"
   ]
  },
  {
   "cell_type": "code",
   "execution_count": 12,
   "metadata": {},
   "outputs": [],
   "source": [
    "def split_documents(documents: list[Document]):\n",
    "    text_splitter = RecursiveCharacterTextSplitter(\n",
    "        chunk_size=800,\n",
    "        chunk_overlap=80,\n",
    "        length_function=len,\n",
    "        is_separator_regex=False,\n",
    "    )\n",
    "    return text_splitter.split_documents(documents)"
   ]
  },
  {
   "cell_type": "code",
   "execution_count": 13,
   "metadata": {},
   "outputs": [],
   "source": [
    "chunks = split_documents(documents)"
   ]
  },
  {
   "cell_type": "code",
   "execution_count": 14,
   "metadata": {},
   "outputs": [
    {
     "name": "stdout",
     "output_type": "stream",
     "text": [
      "page_content='MONOPOLY \n",
      "Property Trading Game from Parker Brothers\" \n",
      "AGES 8+ \n",
      "2 to 8 Players \n",
      "Contents: Gameboard, 3 dice, tokens, 32 houses, I2 hotels, Chance \n",
      "and Community Chest cards, Title Deed cards, play money and a Banker's tray. \n",
      "Now there's a faster way to play MONOPOLY. Choose to play by \n",
      "the classic rules for buying, renting and selling properties or use the \n",
      "Speed Die to get into the action faster. If you've never played the classic \n",
      "MONOPOLY game, refer to the Classic Rules beginning on the next page. \n",
      "If you already know how to play and want to use the Speed Die, just \n",
      "read the section below for the additional Speed Die rules. \n",
      "SPEED DIE RULES \n",
      "Learnins how to Play with the S~eed Die IS as \n",
      "/ \n",
      "fast as playing with i't. \n",
      "1. When starting the game, hand out an extra $1,000 to each player' metadata={'source': '/Users/h6x/ORNL/git/learning/natural language processing/RAG/rag-tutorial-v2/data/monopoly.pdf', 'page': 0, 'page_label': '1'}\n"
     ]
    }
   ],
   "source": [
    "print(chunks[0])"
   ]
  },
  {
   "cell_type": "code",
   "execution_count": null,
   "metadata": {},
   "outputs": [],
   "source": []
  },
  {
   "cell_type": "code",
   "execution_count": null,
   "metadata": {},
   "outputs": [],
   "source": []
  },
  {
   "cell_type": "code",
   "execution_count": null,
   "metadata": {},
   "outputs": [],
   "source": []
  },
  {
   "cell_type": "code",
   "execution_count": null,
   "metadata": {},
   "outputs": [],
   "source": []
  },
  {
   "cell_type": "code",
   "execution_count": null,
   "metadata": {},
   "outputs": [],
   "source": []
  }
 ],
 "metadata": {
  "kernelspec": {
   "display_name": "RAG",
   "language": "python",
   "name": "python3"
  },
  "language_info": {
   "codemirror_mode": {
    "name": "ipython",
    "version": 3
   },
   "file_extension": ".py",
   "mimetype": "text/x-python",
   "name": "python",
   "nbconvert_exporter": "python",
   "pygments_lexer": "ipython3",
   "version": "3.13.1"
  }
 },
 "nbformat": 4,
 "nbformat_minor": 2
}
