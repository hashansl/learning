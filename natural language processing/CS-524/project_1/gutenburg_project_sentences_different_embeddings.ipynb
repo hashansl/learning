{
 "cells": [
  {
   "cell_type": "markdown",
   "metadata": {},
   "source": [
    "### Gutenberg plot analysis - sentences"
   ]
  },
  {
   "cell_type": "code",
   "execution_count": 1,
   "metadata": {},
   "outputs": [],
   "source": [
    "import nltk\n",
    "import re\n",
    "from nltk.corpus import stopwords\n",
    "from nltk.tokenize import word_tokenize\n",
    "from nltk.stem import WordNetLemmatizer"
   ]
  },
  {
   "cell_type": "code",
   "execution_count": 2,
   "metadata": {},
   "outputs": [
    {
     "name": "stderr",
     "output_type": "stream",
     "text": [
      "[nltk_data] Downloading package punkt to /Users/h6x/nltk_data...\n",
      "[nltk_data]   Package punkt is already up-to-date!\n",
      "[nltk_data] Downloading package stopwords to /Users/h6x/nltk_data...\n",
      "[nltk_data]   Package stopwords is already up-to-date!\n",
      "[nltk_data] Downloading package wordnet to /Users/h6x/nltk_data...\n",
      "[nltk_data]   Package wordnet is already up-to-date!\n"
     ]
    },
    {
     "data": {
      "text/plain": [
       "True"
      ]
     },
     "execution_count": 2,
     "metadata": {},
     "output_type": "execute_result"
    }
   ],
   "source": [
    "# Download NLTK data (run this once)\n",
    "nltk.download('punkt')\n",
    "nltk.download('stopwords')\n",
    "nltk.download('wordnet')"
   ]
  },
  {
   "cell_type": "markdown",
   "metadata": {},
   "source": [
    "#### Loading the data"
   ]
  },
  {
   "cell_type": "code",
   "execution_count": 3,
   "metadata": {},
   "outputs": [],
   "source": [
    "# List of text files (replace with actual file paths)\n",
    "base_path = \"/Users/h6x/ORNL/git/learning/natural language processing/CS-524/project_1/data\"\n",
    "file_paths = [base_path + \"/Great_short_stories_V1.txt\", base_path + \"/The_Memoirs_of_Sherlock_Holmes.txt\", base_path + \"/The_Return_of_Sherlock_Holmes.txt\"]"
   ]
  },
  {
   "cell_type": "code",
   "execution_count": 4,
   "metadata": {},
   "outputs": [],
   "source": [
    "book_contents=[]\n",
    "\n",
    "# Read the contents of each book\n",
    "for file_path in file_paths:\n",
    "    with open(file_path, 'r') as file:\n",
    "        book_contents.append(file.read())"
   ]
  },
  {
   "cell_type": "markdown",
   "metadata": {},
   "source": [
    "#### Data Preprocessing"
   ]
  },
  {
   "cell_type": "code",
   "execution_count": 5,
   "metadata": {},
   "outputs": [
    {
     "name": "stderr",
     "output_type": "stream",
     "text": [
      "[nltk_data] Downloading package punkt to /Users/h6x/nltk_data...\n",
      "[nltk_data]   Package punkt is already up-to-date!\n",
      "[nltk_data] Downloading package stopwords to /Users/h6x/nltk_data...\n",
      "[nltk_data]   Package stopwords is already up-to-date!\n",
      "[nltk_data] Downloading package omw-1.4 to /Users/h6x/nltk_data...\n",
      "[nltk_data]   Package omw-1.4 is already up-to-date!\n",
      "[nltk_data] Downloading package averaged_perceptron_tagger to\n",
      "[nltk_data]     /Users/h6x/nltk_data...\n",
      "[nltk_data]   Package averaged_perceptron_tagger is already up-to-\n",
      "[nltk_data]       date!\n",
      "[nltk_data] Downloading package wordnet to /Users/h6x/nltk_data...\n",
      "[nltk_data]   Package wordnet is already up-to-date!\n"
     ]
    }
   ],
   "source": [
    "import nltk\n",
    "nltk.download('punkt')\n",
    "nltk.download('stopwords')\n",
    "nltk.download('omw-1.4')\n",
    "nltk.download('averaged_perceptron_tagger')\n",
    "nltk.download('wordnet')\n",
    "\n",
    "from nltk.corpus import stopwords, wordnet\n",
    "from nltk.tokenize import word_tokenize\n",
    "from nltk.stem import WordNetLemmatizer\n",
    "from nltk import pos_tag"
   ]
  },
  {
   "cell_type": "code",
   "execution_count": 6,
   "metadata": {},
   "outputs": [],
   "source": [
    "import re\n",
    "\n",
    "def get_wordnet_pos(word):\n",
    "    \"\"\"Map POS tag to first character lemmatize() accepts\"\"\"\n",
    "    tag = pos_tag([word])[0][1][0].upper()\n",
    "    tag_dict = {\"J\": wordnet.ADJ,\n",
    "                \"N\": wordnet.NOUN,\n",
    "                \"V\": wordnet.VERB,\n",
    "                \"R\": wordnet.ADV}\n",
    "\n",
    "    return tag_dict.get(tag, wordnet.NOUN)"
   ]
  },
  {
   "cell_type": "code",
   "execution_count": 7,
   "metadata": {},
   "outputs": [],
   "source": [
    "from nltk.tokenize import sent_tokenize"
   ]
  },
  {
   "cell_type": "code",
   "execution_count": 8,
   "metadata": {},
   "outputs": [],
   "source": [
    "def clean_text_by_sentence(text):\n",
    "    lemmatizer = WordNetLemmatizer()\n",
    "    sub_pattern = r'[^A-Za-z]'\n",
    "    stop_words = stopwords.words('english') + ['never','ever','couldnot','wouldnot','could','would','us',\"i'm\",\"you'd\"]\n",
    "\n",
    "    # Split the text into sentences\n",
    "    sentences = sent_tokenize(text)\n",
    "\n",
    "    # Clean and tokenize each sentence\n",
    "    cleaned_sentences = []\n",
    "    for sentence in sentences:\n",
    "        # Lowercasing and removing special characters\n",
    "        lower_sentence = sentence.lower()\n",
    "        filtered_sentence = re.sub(sub_pattern, ' ', lower_sentence).lstrip().rstrip()\n",
    "        \n",
    "        # Tokenize the sentence into words\n",
    "        words = word_tokenize(filtered_sentence)\n",
    "        \n",
    "        # Lemmatize and remove stopwords\n",
    "        cleaned_words = [lemmatizer.lemmatize(word, get_wordnet_pos(word)) for word in words if word not in stop_words]\n",
    "        \n",
    "        # Append the cleaned words as a sentence (list of words)\n",
    "        if cleaned_words:  # Avoid empty sentences\n",
    "            cleaned_sentences.append(cleaned_words)\n",
    "\n",
    "    return cleaned_sentences"
   ]
  },
  {
   "cell_type": "code",
   "execution_count": 9,
   "metadata": {},
   "outputs": [],
   "source": [
    "# Process each book and keep sentence context\n",
    "cleaned_books_sentences = []\n",
    "for book in book_contents:\n",
    "    cleaned_books_sentences.extend(clean_text_by_sentence(book))  # List of list (sentences of tokens)"
   ]
  },
  {
   "cell_type": "code",
   "execution_count": 10,
   "metadata": {},
   "outputs": [
    {
     "name": "stdout",
     "output_type": "stream",
     "text": [
      "[['project', 'gutenberg', 'ebook', 'great', 'short', 'story', 'volume', 'ebook', 'use', 'anyone', 'anywhere', 'united', 'state', 'part', 'world', 'cost', 'almost', 'restriction', 'whatsoever'], ['may', 'copy', 'give', 'away', 'use', 'term', 'project', 'gutenberg', 'license', 'include', 'ebook', 'online', 'www', 'gutenberg', 'org']]\n"
     ]
    }
   ],
   "source": [
    "print(cleaned_books_sentences[:2])  # View the first two tokenized sentences"
   ]
  },
  {
   "cell_type": "markdown",
   "metadata": {},
   "source": [
    "# **FastText**"
   ]
  },
  {
   "cell_type": "code",
   "execution_count": 11,
   "metadata": {},
   "outputs": [],
   "source": [
    "from gensim.models import FastText\n",
    "from gensim.utils import tokenize"
   ]
  },
  {
   "cell_type": "code",
   "execution_count": 12,
   "metadata": {},
   "outputs": [],
   "source": [
    "#sg ({0, 1}, optional) – Training algorithm: 1 for skip-gram; otherwise CBOW\n",
    "\n",
    "# Skip-gram (sg=1)\n",
    "skipgram_model = FastText(sentences=cleaned_books_sentences, vector_size=10, window=2, min_count=1, sg=1, epochs=10)"
   ]
  },
  {
   "cell_type": "code",
   "execution_count": 13,
   "metadata": {},
   "outputs": [
    {
     "data": {
      "text/plain": [
       "[('lestrade', 0.9754316806793213),\n",
       " ('hopkins', 0.9587504863739014),\n",
       " ('sholto', 0.9542666673660278),\n",
       " ('hopkin', 0.9540185332298279),\n",
       " ('sholtos', 0.9514622688293457),\n",
       " ('jones', 0.9508529305458069),\n",
       " ('inspector', 0.943796694278717),\n",
       " ('hard', 0.9367233514785767),\n",
       " ('holly', 0.9364287853240967),\n",
       " ('trevelyan', 0.9330723881721497)]"
      ]
     },
     "execution_count": 13,
     "metadata": {},
     "output_type": "execute_result"
    }
   ],
   "source": [
    "skipgram_model.wv.most_similar(\"holmes\")"
   ]
  },
  {
   "cell_type": "code",
   "execution_count": 14,
   "metadata": {},
   "outputs": [
    {
     "data": {
      "text/plain": [
       "[('incident', 0.9970386624336243),\n",
       " ('crimea', 0.996401846408844),\n",
       " ('coincident', 0.9938011765480042),\n",
       " ('conscience', 0.9935654401779175),\n",
       " ('consequence', 0.9934936761856079),\n",
       " ('absurdity', 0.9922710657119751),\n",
       " ('deny', 0.9920032620429993),\n",
       " ('inexperience', 0.9916309118270874),\n",
       " ('sequence', 0.9914080500602722),\n",
       " ('coincidence', 0.9910051226615906)]"
      ]
     },
     "execution_count": 14,
     "metadata": {},
     "output_type": "execute_result"
    }
   ],
   "source": [
    "skipgram_model.wv.most_similar(\"crime\")"
   ]
  },
  {
   "cell_type": "code",
   "execution_count": 15,
   "metadata": {},
   "outputs": [],
   "source": [
    "# CBOW (sg=0)\n",
    "cbow_model = FastText(sentences=cleaned_books_sentences, vector_size=10, window=2, min_count=1, sg=0, epochs=10)"
   ]
  },
  {
   "cell_type": "code",
   "execution_count": 16,
   "metadata": {},
   "outputs": [
    {
     "data": {
      "text/plain": [
       "[('rolles', 0.9577099680900574),\n",
       " ('james', 0.9393850564956665),\n",
       " ('soames', 0.9346895217895508),\n",
       " ('sholto', 0.9243254661560059),\n",
       " ('hasbrouck', 0.9243070483207703),\n",
       " ('nimes', 0.9238337278366089),\n",
       " ('jones', 0.9223694801330566),\n",
       " ('zabriskie', 0.9217298626899719),\n",
       " ('hayes', 0.91922926902771),\n",
       " ('xerxes', 0.9185937643051147)]"
      ]
     },
     "execution_count": 16,
     "metadata": {},
     "output_type": "execute_result"
    }
   ],
   "source": [
    "cbow_model.wv.most_similar(\"holmes\")"
   ]
  },
  {
   "cell_type": "code",
   "execution_count": 17,
   "metadata": {},
   "outputs": [
    {
     "data": {
      "text/plain": [
       "[('recourse', 0.9986268877983093),\n",
       " ('test', 0.9978678822517395),\n",
       " ('disbelieve', 0.9978318810462952),\n",
       " ('invest', 0.9977752566337585),\n",
       " ('course', 0.9975212812423706),\n",
       " ('divest', 0.996706485748291),\n",
       " ('daintiest', 0.9965317249298096),\n",
       " ('necessary', 0.9965070486068726),\n",
       " ('uncertainty', 0.9964390993118286),\n",
       " ('exist', 0.9963881969451904)]"
      ]
     },
     "execution_count": 17,
     "metadata": {},
     "output_type": "execute_result"
    }
   ],
   "source": [
    "cbow_model.wv.most_similar(\"crime\")"
   ]
  },
  {
   "cell_type": "code",
   "execution_count": 18,
   "metadata": {},
   "outputs": [
    {
     "name": "stdout",
     "output_type": "stream",
     "text": [
      "Word embedding for 'crime' using CBOW: [ 1.140225    0.2320771  -0.90640706 -1.2469455   0.37036446  0.8204573\n",
      "  1.8763874   1.6139325   0.45742318 -1.7194611 ]\n"
     ]
    }
   ],
   "source": [
    "# Get vector embedding for a word (e.g., 'Formula')\n",
    "word_embedding_cbow = cbow_model.wv['crime']\n",
    "print(\"Word embedding for 'crime' using CBOW:\", word_embedding_cbow)"
   ]
  },
  {
   "cell_type": "markdown",
   "metadata": {},
   "source": [
    "### Character and Event Representation Using Word Embeddings"
   ]
  },
  {
   "cell_type": "code",
   "execution_count": 19,
   "metadata": {},
   "outputs": [],
   "source": [
    "import spacy\n",
    "\n",
    "# Load spaCy model for NER\n",
    "nlp = spacy.load(\"en_core_web_sm\")"
   ]
  },
  {
   "cell_type": "code",
   "execution_count": 20,
   "metadata": {},
   "outputs": [],
   "source": [
    "def extract_entities(text):\n",
    "    doc = nlp(text)\n",
    "    entities = [(ent.text, ent.label_) for ent in doc.ents if ent.label_ in [\"PERSON\", \"GPE\", \"EVENT\"]]\n",
    "    return entities"
   ]
  },
  {
   "cell_type": "code",
   "execution_count": 21,
   "metadata": {},
   "outputs": [],
   "source": [
    "cleaned_books_text = [' '.join(sentences) for sentences in cleaned_books_sentences]"
   ]
  },
  {
   "cell_type": "code",
   "execution_count": 22,
   "metadata": {},
   "outputs": [],
   "source": [
    "entities = [extract_entities(book) for book in cleaned_books_text]"
   ]
  },
  {
   "cell_type": "code",
   "execution_count": 23,
   "metadata": {},
   "outputs": [
    {
     "data": {
      "text/plain": [
       "[[],\n",
       " [],\n",
       " [],\n",
       " [('william', 'PERSON'),\n",
       "  ('al haines', 'PERSON'),\n",
       "  ('robert louis stevenson', 'PERSON'),\n",
       "  ('william', 'PERSON'),\n",
       "  ('france', 'GPE'),\n",
       "  ('america', 'GPE'),\n",
       "  ('edgar allan', 'PERSON'),\n",
       "  ('edgar allan', 'PERSON'),\n",
       "  ('arthur conan', 'PERSON')],\n",
       " [],\n",
       " [],\n",
       " [],\n",
       " [('bald head', 'PERSON')],\n",
       " [],\n",
       " [('episode barrel', 'PERSON')],\n",
       " [],\n",
       " [],\n",
       " [],\n",
       " [],\n",
       " [('jonathan small', 'PERSON'),\n",
       "  ('arthur conan', 'PERSON'),\n",
       "  ('doyle', 'PERSON'),\n",
       "  ('anna katharine', 'PERSON'),\n",
       "  ('robert louis stevenson', 'PERSON'),\n",
       "  ('prince florizel', 'GPE'),\n",
       "  ('edgar allan', 'PERSON')],\n",
       " [],\n",
       " [],\n",
       " [],\n",
       " [],\n",
       " [('edgar allan', 'PERSON'), ('thomas browne mental', 'PERSON')],\n",
       " [],\n",
       " [],\n",
       " [],\n",
       " [],\n",
       " [],\n",
       " [],\n",
       " [],\n",
       " [],\n",
       " [],\n",
       " [],\n",
       " [],\n",
       " [],\n",
       " [],\n",
       " [],\n",
       " [],\n",
       " [],\n",
       " [],\n",
       " [],\n",
       " [],\n",
       " [],\n",
       " [],\n",
       " [],\n",
       " [],\n",
       " [('manifold multiform', 'PERSON')],\n",
       " [],\n",
       " [],\n",
       " [],\n",
       " [],\n",
       " [],\n",
       " [],\n",
       " [],\n",
       " [],\n",
       " [],\n",
       " [],\n",
       " [],\n",
       " [],\n",
       " [],\n",
       " [],\n",
       " [],\n",
       " [],\n",
       " [],\n",
       " [],\n",
       " [],\n",
       " [('paris', 'GPE')],\n",
       " [],\n",
       " [],\n",
       " [('paris', 'GPE')],\n",
       " [],\n",
       " [],\n",
       " [],\n",
       " [],\n",
       " [('paris', 'GPE')],\n",
       " [],\n",
       " [],\n",
       " [],\n",
       " [],\n",
       " [('paris', 'GPE')],\n",
       " [],\n",
       " [],\n",
       " [],\n",
       " [],\n",
       " [],\n",
       " [],\n",
       " [],\n",
       " [],\n",
       " [],\n",
       " [],\n",
       " [],\n",
       " [],\n",
       " [],\n",
       " [],\n",
       " [],\n",
       " [],\n",
       " [],\n",
       " [],\n",
       " [],\n",
       " [],\n",
       " [],\n",
       " [],\n",
       " [],\n",
       " [],\n",
       " [],\n",
       " [('quondam', 'GPE'), ('rue st dennis become stage mad attempt', 'PERSON')],\n",
       " [],\n",
       " [],\n",
       " [],\n",
       " [],\n",
       " [],\n",
       " [],\n",
       " [],\n",
       " [],\n",
       " [('nichols', 'PERSON')],\n",
       " [],\n",
       " [],\n",
       " [],\n",
       " [],\n",
       " [],\n",
       " [],\n",
       " [],\n",
       " [],\n",
       " [],\n",
       " [],\n",
       " [],\n",
       " [],\n",
       " [],\n",
       " [],\n",
       " [],\n",
       " [],\n",
       " [],\n",
       " [],\n",
       " [],\n",
       " [],\n",
       " [],\n",
       " [('gazette de tribunaux follow', 'PERSON')],\n",
       " [('mademoiselle camille', 'PERSON')],\n",
       " [],\n",
       " [],\n",
       " [],\n",
       " [],\n",
       " [],\n",
       " [],\n",
       " [],\n",
       " [],\n",
       " [],\n",
       " [],\n",
       " [],\n",
       " [],\n",
       " [],\n",
       " [],\n",
       " [],\n",
       " [],\n",
       " [],\n",
       " [],\n",
       " [],\n",
       " [],\n",
       " [],\n",
       " [],\n",
       " [('france', 'GPE')],\n",
       " [],\n",
       " [('pauline dubourg', 'PERSON')],\n",
       " [],\n",
       " [],\n",
       " [],\n",
       " [],\n",
       " [],\n",
       " [],\n",
       " [],\n",
       " [],\n",
       " [('pierre moreau', 'PERSON')],\n",
       " [],\n",
       " [],\n",
       " [],\n",
       " [],\n",
       " [],\n",
       " [],\n",
       " [],\n",
       " [],\n",
       " [],\n",
       " [],\n",
       " [],\n",
       " [],\n",
       " [],\n",
       " [],\n",
       " [],\n",
       " [],\n",
       " [],\n",
       " [],\n",
       " [],\n",
       " [],\n",
       " [],\n",
       " [],\n",
       " [],\n",
       " [],\n",
       " [],\n",
       " [],\n",
       " [],\n",
       " [],\n",
       " [],\n",
       " [],\n",
       " [],\n",
       " [],\n",
       " [],\n",
       " [],\n",
       " [],\n",
       " [],\n",
       " [],\n",
       " [],\n",
       " [],\n",
       " [],\n",
       " [],\n",
       " [],\n",
       " [],\n",
       " [],\n",
       " [],\n",
       " [],\n",
       " [],\n",
       " [],\n",
       " [],\n",
       " [],\n",
       " [],\n",
       " [],\n",
       " [],\n",
       " [],\n",
       " [],\n",
       " [('jules mignaud', 'PERSON')],\n",
       " [],\n",
       " [],\n",
       " [],\n",
       " [],\n",
       " [],\n",
       " [],\n",
       " [('bon clerk mignaud', 'PERSON')],\n",
       " [],\n",
       " [],\n",
       " [],\n",
       " [],\n",
       " [('william bird tailor', 'PERSON')],\n",
       " [],\n",
       " [('paris', 'GPE')],\n",
       " [],\n",
       " [],\n",
       " [],\n",
       " [],\n",
       " [],\n",
       " [],\n",
       " [],\n",
       " [],\n",
       " [],\n",
       " [],\n",
       " [],\n",
       " [],\n",
       " [],\n",
       " [],\n",
       " [],\n",
       " [],\n",
       " [],\n",
       " [],\n",
       " [],\n",
       " [],\n",
       " [],\n",
       " [],\n",
       " [],\n",
       " [],\n",
       " [],\n",
       " [],\n",
       " [],\n",
       " [],\n",
       " [('spain', 'GPE')],\n",
       " [],\n",
       " [],\n",
       " [],\n",
       " [],\n",
       " [],\n",
       " [],\n",
       " [],\n",
       " [],\n",
       " [],\n",
       " [],\n",
       " [],\n",
       " [],\n",
       " [],\n",
       " [],\n",
       " [],\n",
       " [],\n",
       " [],\n",
       " [],\n",
       " [('russia', 'GPE')],\n",
       " [],\n",
       " [],\n",
       " [],\n",
       " [],\n",
       " [],\n",
       " [('paul duma', 'PERSON')],\n",
       " [],\n",
       " [],\n",
       " [],\n",
       " [],\n",
       " [],\n",
       " [],\n",
       " [],\n",
       " [],\n",
       " [],\n",
       " [],\n",
       " [],\n",
       " [],\n",
       " [],\n",
       " [],\n",
       " [],\n",
       " [],\n",
       " [],\n",
       " [],\n",
       " [('alexandre etienne surgeon', 'PERSON')],\n",
       " [],\n",
       " [],\n",
       " [('paris', 'GPE')],\n",
       " [],\n",
       " [],\n",
       " [('quartier st roch', 'PERSON')],\n",
       " [('bon arrest imprison', 'PERSON')],\n",
       " [],\n",
       " [('bon imprison', 'PERSON')],\n",
       " [('paris', 'GPE')],\n",
       " [],\n",
       " [],\n",
       " [],\n",
       " [],\n",
       " [],\n",
       " [],\n",
       " [],\n",
       " [],\n",
       " [],\n",
       " [],\n",
       " [],\n",
       " [],\n",
       " [],\n",
       " [],\n",
       " [],\n",
       " [],\n",
       " [('dim proportion', 'PERSON')],\n",
       " [],\n",
       " [],\n",
       " [],\n",
       " [],\n",
       " [],\n",
       " [],\n",
       " [],\n",
       " [],\n",
       " [],\n",
       " [],\n",
       " [],\n",
       " [],\n",
       " [],\n",
       " [],\n",
       " [],\n",
       " [('gazette de tribunaux', 'PERSON')],\n",
       " [],\n",
       " [],\n",
       " [],\n",
       " [],\n",
       " [('manifold je', 'PERSON'), ('menagais', 'GPE')],\n",
       " [],\n",
       " [],\n",
       " [],\n",
       " [],\n",
       " [('gazette', 'PERSON')],\n",
       " [],\n",
       " [],\n",
       " [],\n",
       " [],\n",
       " [],\n",
       " [],\n",
       " [],\n",
       " [],\n",
       " [],\n",
       " [],\n",
       " [],\n",
       " [],\n",
       " [],\n",
       " [],\n",
       " [],\n",
       " [],\n",
       " [],\n",
       " [],\n",
       " [],\n",
       " [],\n",
       " [],\n",
       " [],\n",
       " [],\n",
       " [],\n",
       " [],\n",
       " [],\n",
       " [],\n",
       " [],\n",
       " [('suppose gruff voice', 'PERSON')],\n",
       " [],\n",
       " [],\n",
       " [],\n",
       " [],\n",
       " [],\n",
       " [],\n",
       " [],\n",
       " [],\n",
       " [],\n",
       " [],\n",
       " [],\n",
       " [('russia', 'GPE')],\n",
       " [],\n",
       " [],\n",
       " [],\n",
       " [('paris', 'GPE')],\n",
       " [],\n",
       " [],\n",
       " [],\n",
       " [],\n",
       " [],\n",
       " [],\n",
       " [],\n",
       " [],\n",
       " [],\n",
       " [],\n",
       " [],\n",
       " [],\n",
       " [],\n",
       " [],\n",
       " [],\n",
       " [],\n",
       " [('espanaye', 'GPE')],\n",
       " [],\n",
       " [],\n",
       " [],\n",
       " [],\n",
       " [],\n",
       " [],\n",
       " [],\n",
       " [],\n",
       " [],\n",
       " [],\n",
       " [],\n",
       " [],\n",
       " [],\n",
       " [],\n",
       " [],\n",
       " [],\n",
       " [],\n",
       " [],\n",
       " [],\n",
       " [],\n",
       " [],\n",
       " [],\n",
       " [],\n",
       " [],\n",
       " [],\n",
       " [],\n",
       " [],\n",
       " [],\n",
       " [],\n",
       " [],\n",
       " [],\n",
       " [],\n",
       " [],\n",
       " [],\n",
       " [],\n",
       " [],\n",
       " [],\n",
       " [],\n",
       " [],\n",
       " [],\n",
       " [],\n",
       " [],\n",
       " [],\n",
       " [],\n",
       " [],\n",
       " [],\n",
       " [],\n",
       " [],\n",
       " [],\n",
       " [],\n",
       " [],\n",
       " [],\n",
       " [],\n",
       " [],\n",
       " [],\n",
       " [],\n",
       " [],\n",
       " [],\n",
       " [],\n",
       " [],\n",
       " [],\n",
       " [],\n",
       " [('rod', 'PERSON')],\n",
       " [],\n",
       " [],\n",
       " [],\n",
       " [],\n",
       " [],\n",
       " [],\n",
       " [],\n",
       " [],\n",
       " [],\n",
       " [],\n",
       " [],\n",
       " [],\n",
       " [],\n",
       " [],\n",
       " [],\n",
       " [],\n",
       " [],\n",
       " [],\n",
       " [],\n",
       " [],\n",
       " [],\n",
       " [],\n",
       " [],\n",
       " [],\n",
       " [],\n",
       " [],\n",
       " [],\n",
       " [],\n",
       " [],\n",
       " [],\n",
       " [],\n",
       " [],\n",
       " [],\n",
       " [],\n",
       " [],\n",
       " [],\n",
       " [],\n",
       " [],\n",
       " [],\n",
       " [],\n",
       " [],\n",
       " [],\n",
       " [],\n",
       " [],\n",
       " [],\n",
       " [],\n",
       " [],\n",
       " [],\n",
       " [],\n",
       " [],\n",
       " [],\n",
       " [],\n",
       " [],\n",
       " [],\n",
       " [],\n",
       " [],\n",
       " [],\n",
       " [],\n",
       " [],\n",
       " [],\n",
       " [],\n",
       " [],\n",
       " [('maison de', 'PERSON')],\n",
       " [],\n",
       " [],\n",
       " [('madman nation', 'PERSON')],\n",
       " [],\n",
       " [],\n",
       " [],\n",
       " [],\n",
       " [],\n",
       " [],\n",
       " [],\n",
       " [],\n",
       " [],\n",
       " [],\n",
       " [],\n",
       " [],\n",
       " [],\n",
       " [],\n",
       " [],\n",
       " [],\n",
       " [],\n",
       " [],\n",
       " [],\n",
       " [],\n",
       " [],\n",
       " [],\n",
       " [('description digit', 'PERSON')],\n",
       " [('animal orang outang specie mention', 'PERSON')],\n",
       " [],\n",
       " [],\n",
       " [],\n",
       " [],\n",
       " [],\n",
       " [],\n",
       " [],\n",
       " [('orang outang', 'PERSON')],\n",
       " [],\n",
       " [],\n",
       " [],\n",
       " [],\n",
       " [],\n",
       " [('tawny orang outang bornese specie', 'PERSON')],\n",
       " [],\n",
       " [],\n",
       " [],\n",
       " [],\n",
       " [],\n",
       " [],\n",
       " [],\n",
       " [],\n",
       " [],\n",
       " [],\n",
       " [],\n",
       " [],\n",
       " [('orang outang', 'PERSON')],\n",
       " [('orang outang great', 'PERSON')],\n",
       " [],\n",
       " [('bois de boulogne', 'PERSON')],\n",
       " [],\n",
       " [],\n",
       " [],\n",
       " [],\n",
       " [],\n",
       " [],\n",
       " [],\n",
       " [],\n",
       " [('orang outang', 'PERSON')],\n",
       " [],\n",
       " [],\n",
       " [],\n",
       " [],\n",
       " [],\n",
       " [],\n",
       " [],\n",
       " [],\n",
       " [],\n",
       " [],\n",
       " [],\n",
       " [],\n",
       " [],\n",
       " [],\n",
       " [],\n",
       " [],\n",
       " [],\n",
       " [],\n",
       " [],\n",
       " [],\n",
       " [],\n",
       " [],\n",
       " [],\n",
       " [],\n",
       " [],\n",
       " [],\n",
       " [],\n",
       " [],\n",
       " [],\n",
       " [],\n",
       " [],\n",
       " [],\n",
       " [],\n",
       " [],\n",
       " [],\n",
       " [],\n",
       " [],\n",
       " [],\n",
       " [],\n",
       " [],\n",
       " [],\n",
       " [],\n",
       " [],\n",
       " [],\n",
       " [],\n",
       " [],\n",
       " [],\n",
       " [],\n",
       " [],\n",
       " [],\n",
       " [],\n",
       " [],\n",
       " [],\n",
       " [],\n",
       " [],\n",
       " [],\n",
       " [],\n",
       " [],\n",
       " [],\n",
       " [],\n",
       " [],\n",
       " [],\n",
       " [],\n",
       " [('paris', 'GPE')],\n",
       " [],\n",
       " [],\n",
       " [],\n",
       " [],\n",
       " [],\n",
       " [('orang outang sprang door chamber stair', 'PERSON')],\n",
       " [],\n",
       " [],\n",
       " [],\n",
       " [],\n",
       " [],\n",
       " [],\n",
       " [],\n",
       " [('shutter kick open', 'PERSON'), ('orang outang', 'PERSON')],\n",
       " [],\n",
       " [],\n",
       " [],\n",
       " [],\n",
       " [],\n",
       " [],\n",
       " [],\n",
       " [],\n",
       " [],\n",
       " [],\n",
       " [],\n",
       " [],\n",
       " [],\n",
       " [('orang outang', 'PERSON')],\n",
       " [],\n",
       " [],\n",
       " [],\n",
       " [],\n",
       " [],\n",
       " [],\n",
       " [],\n",
       " [('orang outang', 'PERSON')],\n",
       " [],\n",
       " [],\n",
       " [('orang outang', 'PERSON')],\n",
       " [],\n",
       " [],\n",
       " [],\n",
       " [],\n",
       " [],\n",
       " [],\n",
       " [],\n",
       " [],\n",
       " [],\n",
       " [],\n",
       " [],\n",
       " [('ce qui est', 'PERSON'), ('qui n est', 'PERSON')],\n",
       " [('rousseau nouvelle', 'PERSON')],\n",
       " [('edgar allan', 'PERSON')],\n",
       " [('new york', 'GPE')],\n",
       " [],\n",
       " [],\n",
       " [],\n",
       " [],\n",
       " [],\n",
       " [],\n",
       " [],\n",
       " [],\n",
       " [('statt de protestantismus kam da lutherthum', 'PERSON')],\n",
       " [],\n",
       " [],\n",
       " [],\n",
       " [],\n",
       " [],\n",
       " [('nom de plume von hardenburg', 'PERSON')],\n",
       " [('thrill', 'GPE')],\n",
       " [],\n",
       " [],\n",
       " [('new york', 'GPE')],\n",
       " [],\n",
       " [('dupin idiosyncrasy', 'PERSON')],\n",
       " [],\n",
       " [],\n",
       " [],\n",
       " [],\n",
       " [],\n",
       " [],\n",
       " [],\n",
       " [],\n",
       " [],\n",
       " [],\n",
       " [],\n",
       " [('marie rog', 'PERSON')],\n",
       " [],\n",
       " [('estelle rog', 'PERSON')],\n",
       " [],\n",
       " [],\n",
       " [],\n",
       " [],\n",
       " [('anderson', 'PERSON')],\n",
       " [],\n",
       " [],\n",
       " [],\n",
       " [('marie good', 'PERSON')],\n",
       " [],\n",
       " [],\n",
       " [],\n",
       " [],\n",
       " [],\n",
       " [],\n",
       " [],\n",
       " [('hudson', 'PERSON')],\n",
       " [('weehawken', 'PERSON')],\n",
       " [],\n",
       " [],\n",
       " [],\n",
       " [],\n",
       " [],\n",
       " [],\n",
       " [],\n",
       " [('paris', 'GPE')],\n",
       " [],\n",
       " [],\n",
       " [],\n",
       " [],\n",
       " [],\n",
       " [],\n",
       " [],\n",
       " [],\n",
       " [],\n",
       " [],\n",
       " [],\n",
       " [],\n",
       " [],\n",
       " [],\n",
       " [],\n",
       " [],\n",
       " [],\n",
       " [],\n",
       " [],\n",
       " [('marie rog', 'PERSON')],\n",
       " [('jacques st eustache intention', 'PERSON')],\n",
       " [],\n",
       " [('marie lodge', 'PERSON')],\n",
       " [],\n",
       " [],\n",
       " [],\n",
       " [],\n",
       " [],\n",
       " [],\n",
       " [],\n",
       " [],\n",
       " [],\n",
       " [],\n",
       " [],\n",
       " [],\n",
       " [],\n",
       " [],\n",
       " [],\n",
       " [],\n",
       " [],\n",
       " [],\n",
       " [],\n",
       " [],\n",
       " [],\n",
       " [],\n",
       " [],\n",
       " [],\n",
       " [],\n",
       " [],\n",
       " [],\n",
       " [],\n",
       " [],\n",
       " [],\n",
       " [],\n",
       " [('muslin slip slip lace', 'PERSON')],\n",
       " [('knot string', 'PERSON')],\n",
       " [],\n",
       " [],\n",
       " [],\n",
       " [],\n",
       " [('new york', 'GPE')],\n",
       " [],\n",
       " [],\n",
       " [],\n",
       " [],\n",
       " [],\n",
       " [],\n",
       " [],\n",
       " [],\n",
       " [('new york', 'GPE'), ('jonathan edit', 'PERSON')],\n",
       " [],\n",
       " [],\n",
       " [],\n",
       " [],\n",
       " [],\n",
       " [],\n",
       " [],\n",
       " [],\n",
       " [],\n",
       " [],\n",
       " [],\n",
       " [],\n",
       " [],\n",
       " [],\n",
       " [],\n",
       " [],\n",
       " [],\n",
       " [],\n",
       " [],\n",
       " [],\n",
       " [],\n",
       " [],\n",
       " [],\n",
       " [],\n",
       " [],\n",
       " [],\n",
       " [],\n",
       " [],\n",
       " [('marie connivance', 'PERSON')],\n",
       " [],\n",
       " [],\n",
       " [],\n",
       " [],\n",
       " [],\n",
       " [],\n",
       " [],\n",
       " [],\n",
       " [],\n",
       " [],\n",
       " [],\n",
       " [('marie victim gang desperado borne', 'PERSON')],\n",
       " [],\n",
       " [],\n",
       " [],\n",
       " [],\n",
       " [],\n",
       " [('rue de dr', 'PERSON')],\n",
       " [],\n",
       " [],\n",
       " [],\n",
       " [],\n",
       " [],\n",
       " [],\n",
       " [],\n",
       " [],\n",
       " [('marie rog', 'PERSON')],\n",
       " [],\n",
       " [('bush', 'PERSON')],\n",
       " [],\n",
       " [('philadelphia', 'GPE'), ('peterson', 'PERSON')],\n",
       " [],\n",
       " [],\n",
       " [],\n",
       " [],\n",
       " [('bush', 'PERSON')],\n",
       " [],\n",
       " [('bush', 'PERSON')],\n",
       " [],\n",
       " [],\n",
       " [],\n",
       " [],\n",
       " [],\n",
       " [('inn accompany young', 'PERSON')],\n",
       " [],\n",
       " [],\n",
       " [],\n",
       " [],\n",
       " [],\n",
       " [],\n",
       " [],\n",
       " [],\n",
       " [],\n",
       " [],\n",
       " [],\n",
       " [],\n",
       " [],\n",
       " [('marie betroth', 'PERSON')],\n",
       " [],\n",
       " [],\n",
       " [],\n",
       " [],\n",
       " [],\n",
       " [],\n",
       " [],\n",
       " [],\n",
       " [],\n",
       " [],\n",
       " [],\n",
       " [],\n",
       " [],\n",
       " [],\n",
       " [],\n",
       " [],\n",
       " [],\n",
       " [],\n",
       " [],\n",
       " [],\n",
       " [],\n",
       " [],\n",
       " [],\n",
       " [],\n",
       " [],\n",
       " [],\n",
       " [],\n",
       " [],\n",
       " [],\n",
       " [],\n",
       " [],\n",
       " [],\n",
       " [],\n",
       " [],\n",
       " [],\n",
       " [],\n",
       " [],\n",
       " [],\n",
       " [],\n",
       " [],\n",
       " [],\n",
       " [],\n",
       " [],\n",
       " [],\n",
       " [],\n",
       " ...]"
      ]
     },
     "execution_count": 23,
     "metadata": {},
     "output_type": "execute_result"
    }
   ],
   "source": [
    "entities"
   ]
  },
  {
   "cell_type": "code",
   "execution_count": 25,
   "metadata": {},
   "outputs": [],
   "source": [
    "# Initialize lists to hold extracted PERSON and GPE entities\n",
    "persons = []\n",
    "gpes = []"
   ]
  },
  {
   "cell_type": "code",
   "execution_count": 26,
   "metadata": {},
   "outputs": [],
   "source": [
    "# Iterate over each entry in the data\n",
    "for entry in entities:\n",
    "    if entry:  # Check if the entry is not empty\n",
    "        persons.extend([name for name, entity in entry if entity == 'PERSON'])\n",
    "        gpes.extend([name for name, entity in entry if entity == 'GPE'])"
   ]
  },
  {
   "cell_type": "code",
   "execution_count": 27,
   "metadata": {},
   "outputs": [],
   "source": [
    "# Filter out empty lists if needed\n",
    "persons = [p for p in persons if p]\n",
    "gpes = [g for g in gpes if g]"
   ]
  },
  {
   "cell_type": "code",
   "execution_count": 28,
   "metadata": {},
   "outputs": [
    {
     "name": "stdout",
     "output_type": "stream",
     "text": [
      "Persons: ['william', 'al haines', 'robert louis stevenson', 'william', 'edgar allan', 'edgar allan', 'arthur conan', 'bald head', 'episode barrel', 'jonathan small', 'arthur conan', 'doyle', 'anna katharine', 'robert louis stevenson', 'edgar allan', 'edgar allan', 'thomas browne mental', 'manifold multiform', 'rue st dennis become stage mad attempt', 'nichols', 'gazette de tribunaux follow', 'mademoiselle camille', 'pauline dubourg', 'pierre moreau', 'jules mignaud', 'bon clerk mignaud', 'william bird tailor', 'paul duma', 'alexandre etienne surgeon', 'quartier st roch', 'bon arrest imprison', 'bon imprison', 'dim proportion', 'gazette de tribunaux', 'manifold je', 'gazette', 'suppose gruff voice', 'rod', 'maison de', 'madman nation', 'description digit', 'animal orang outang specie mention', 'orang outang', 'tawny orang outang bornese specie', 'orang outang', 'orang outang great', 'bois de boulogne', 'orang outang', 'orang outang sprang door chamber stair', 'shutter kick open', 'orang outang', 'orang outang', 'orang outang', 'orang outang', 'ce qui est', 'qui n est', 'rousseau nouvelle', 'edgar allan', 'statt de protestantismus kam da lutherthum', 'nom de plume von hardenburg', 'dupin idiosyncrasy', 'marie rog', 'estelle rog', 'anderson', 'marie good', 'hudson', 'weehawken', 'marie rog', 'jacques st eustache intention', 'marie lodge', 'muslin slip slip lace', 'knot string', 'jonathan edit', 'marie connivance', 'marie victim gang desperado borne', 'rue de dr', 'marie rog', 'bush', 'peterson', 'bush', 'bush', 'inn accompany young', 'marie betroth', 'cavity fluid', 'marie rog', 'foot marie small', 'garter', 'garter marie', 'corpse', 'marie coquet', 'pursuance dupin', 'blanc mother', 'daughter engage', 'sail lie bottom', 'marie propose', 'secret lover', 'secret lover', 'marie', 'st eustache', 'bid st eustache', 'marie', 'marie rog', 'bush', 'rod dwell', 'marie rog', 'bush', 'bush', 'decay', 'horror dark', 'murder gang', 'god', 'edgar allan', 'edgar allan', 'acumine nimio', 'marie rog', 'ho', 'ho', 'leg excavate', 'examine moss brick', 'chamfort que toute', 'idee publique toute', 'monstram horrendum', 'arthur conan', 'doyle', 'arthur conan', 'doyle', 'joseph bell', 'dr doyle', 'arthur conan', 'doyle chapter', 'claret take', 'morphine cocaine', 'compositor', 'doubt', 'mary morstan', 'mary morstan', 'morstan muffle dark', 'abdullah khan', 'morstan', 'morstan', 'morstan two', 'vincent square', 'robert street', 'show khitmutgar cry', 'fir tree', 'holmes', 'morstan remark', 'morstan', 'tokay', 'williams', 'morstan', 'bartholomew', 'john sholto', 'williams', 'morstan sprung chair', 'lal chowdar', 'beard hairy', 'desire', 'khitmutgar williams', 'bartholomew', 'morstan', 'morstan', 'jerk coachman', 'morstan pondicherry', 'cry gruff voice within', 'bad mcmurdo', 'holmes swung', 'morstan', 'god', 'pat thin', 'god', 'slip velocity', 'roof ran', 'hunt kept', 'mortis', 'cry muffle husky voice', 'jones', 'jewel case', 'jewel worth', 'jewel miss', 'jonathan small', 'morstan', 'weak helpless', 'morstan', 'morstan send pearl', 'pinchin lane row', 'kick row', 'sherman lanky lean old', 'waddle gait', 'watson', 'holmes', 'pshaw', 'jonathan small', 'jonathan small', 'jonathan small', 'mark mistake', 'jonathan small', 'jonathan small', 'jonathan small', 'jonathan wooden', 'jonathan commit crime', 'jonathan', 'jonathan small', 'jonathan shall', 'kennington lane', 'broderick nelson', 'knight place', 'placard slung', 'jack', 'smith', 'jim eldest', 'smith', 'wherry watson', 'bath baker street', 'pondicherry lodge', 'person', 'dr watson', 'jones', 'thaddeus sholto', 'lal rao porter', 'jones', 'smith', 'jonathan small', 'hindoo proper', 'mark watson', 'morstan', 'earl', 'morstan bright', 'hudson', 'hudson', 'hudson', 'smith', 'smith', 'river watson', 'smith boatman son', 'jim', 'baker', 'smith launch', 'jones', 'holmes', 'appearance correspond', 'smith', 'jones', 'cigar talk', 'cry jones highly', 'jonathan small', 'jonathan small', 'watson', 'pistol watson', 'holmes eyed critically', 'jones', 'lie watson', 'jonathan small', 'jacobson learn', 'chuck shilling', 'jones affair', 'smith', 'jacobson yard', 'aurora exclaim holmes', 'cry holmes teeth', 'cry holmes', 'put helm', 'jones yell', 'thud', 'aurora haul', 'beard chin', 'jonathan small', 'baker', 'morstan', 'morstan calmly', 'know agra treasure weigh', 'jonathan small patient', 'tenner sam brown treasure', 'jones', 'buff', 'john holder', 'city agra great place', 'abdullah khan name', 'sikh', 'abdullah khan', 'threefold oath sikh', 'sikh know', 'abdullah khan', 'mohammed singh', 'deep moat', 'mohammed singh', 'wilson', 'colin relieve', 'jewel come', 'agra madras blair island', 'snug', 'jewel pearl', 'morstan nod', 'inquire affair', 'abdullah khan', 'mark place', 'morstan show', 'somerton', 'supper hour', 'jonathan small', 'marry l', 'natur', 'zum wurdigen mann', 'arthur conan', 'doyle', 'st john wood', 'arthur conan', 'doyle', 'trincomalee', 'risen', 'rang bell', 'mary jane', 'doubt monogram', 'watson', 'count von kramm', 'contralto hum', 'la scala', 'donna', 'majesty', 'mad insane', 'crown prince', 'clotilde lotham von saxe', 'von kramm', 'irene', 'mew lane', 'lent hostler', 'cabby', 'sally', 'baggy trouser', 'john hare', 'baker', 'norton', 'pshaw', 'reach baker street', 'baker', 'john coachman', 'cry king', 'ring slip emerald', 'anna katharine', 'anna katharine', 'rohlfs', 'john jacob astor', 'anna katharine green', 'charles rohlfs', 'ebenezer gryce', 'dr zabriskie', 'rang dr zabriskie', 'cross', 'zabriskie', 'zabriskie', 'god', 'dr zabriskie', 'harry driver', 'harry', 'harry', 'dr zabriskie', 'question harry', 'follow dr zabriskie door', 'zabriskie', 'dr zabriskie', 'insane dr zabriskie', 'dr zabriskie appearance', 'dr zabriskie', 'zabriskie brow', 'dr zabriskie remark', 'house', 'dr zabriskie', 'dr zabriskie commit', 'dr zabriskie', 'dr zabriskie', 'helen zabriskie superior sex', 'dr zabriskie', 'dr zabriskie seat great', 'zabriskie affair', 'zabriskie', 'zabriskie', 'zabriskie', 'zabriskie', 'zabriskie', 'dr zabriskie fortunate', 'dr zabriskie', 'dr zabriskie', 'harry', 'zabriskie', 'dr zabriskie', 'harry offer', 'harry saw', 'dr zabriskie', 'harry naturally', 'harry reason', 'harry connection zabriskie', 'dr zabriskie return', 'dr zabriskie bought', 'dr zabriskie', 'zabriskie', 'joe smithers', 'joe', 'dr zabriskie', 'joe', 'calmer', 'joe', 'joe', 'pshaw', 'ben', 'joe', 'joe follow', 'joe', 'joe', 'helen zabriskie', 'muslin night', 'joe', 'joe smithers', 'zabriskie mystery', 'dr zabriskie skill pistol', 'zabriskie', 'dr zabriskie', 'zabriskie', 'dr zabriskie', 'zabriskie', 'zabriskie', 'hung dr zabriskie overcoat take', 'zabriskie', 'dr zabriskie quoth', 'zabriskie bearing', 'zabriskie', 'helen zabriskie broken', 'helen shriek', 'dr zabriskie rise', 'dr zabriskie mystery crime', 'house', 'awaken horror', 'dr zabriskie', 'awaken', 'awaken', 'robert louis stevenson', 'prince florizel', 'robert louis stevenson', 'harry hartley', 'harry time', 'thomas vandeleur', 'thomas man sixty', 'thomas vandeleur', 'harry duty', 'thomas', 'harry', 'harry countenance', 'charlie pendragon', 'clara shall', 'clara', 'charlie', 'clara', 'harry', 'thomas', 'harry harry', 'harry gallantly', 'mechlin', 'harry', 'harry one', 'harry make', 'harry kept', 'harry', 'thomas observe harry', 'cry lie sir', 'thomas return harry', 'harry', 'thomas', 'harry', 'charlie pendragon', 'charlie sister misfortune marry forfeit', 'charlie', 'charlie head', 'harry stood', 'charlie knee', 'cry head', 'harry', 'knocker bell', 'harry', 'maid nod', 'cry harry', 'harry glow', 'cry harry wonderfully', 'harry', 'harry obvious', 'harry make', 'harry salvo knocker', 'maid triumph', 'knocker', 'kick beat', 'harry kitchen', 'harry hartley', 'harry', 'harry', 'charlie pendragon', 'harry', 'charlie pendragon', 'charlie', 'charlie pendragon', 'harry hartley', 'bush', 'harry dreadful', 'thomas vandeleur eaton', 'thomas vandeleur', 'god', 'harry follow', 'bush', 'harry', 'jewel', 'fine afternoon', 'god', 'harry refuse', 'harry house', 'harry', 'cry harry', 'jewel mine', 'harry', 'harry', 'come eaton place', 'lamb sneer gardener', 'harry proceed', 'harry gather half', 'knee cut', 'cry harry', 'harry maid', 'harry', 'harry revisit', 'harry', 'charlie pendragon', 'bandbox harry bandbox', 'harry', 'harry drew', 'harry scarcely comprehend insult', 'harry apartment', 'nurseryman', 'hartley', 'nurseryman', 'bush', 'harry hartley', 'nurseryman', 'kick book', 'gaboriau', 'inquire simon', 'prince florizel bohemia old', 'jack vandeleur', 'john big', 'samuel', 'inquire clergyman', 'prince fine', 'jack vandeleur', 'john vandeleur', 'gaboriau', 'john vandeleur', 'jewel valuable reserve collection prince treasury', 'hunt', 'thomas vandeleur', 'thomas john peter paul apostle', 'john vandeleur', 'john vandeleur', 'john vandeleur', 'harry hartley', 'john vandeleur', 'edinburgh', 'francis scrymgeour', 'edinburgh', 'francis scrymgeour', 'scrymgeour', 'cry francis extreme', 'scrymgeour', 'francis scrymgeour', 'scrymgeour', 'francis scrymgeour', 'francis peer', 'cigar', 'john vandeleur', 'inquire francis', 'francis slip doorway', 'trichinopoli cigar', 'john vandeleur', 'francis scrymgeour', 'francis catch', 'dessert bottle', 'francis scrymgeour', 'moment pierce', 'pallid head', 'surprise francis', 'armpit hung suspend', 'francis stun', 'scrymgeour', 'francis surprised', 'sudden jerk', 'god', 'francis tell', 'thomas vandeleur', 'thomas vandeleur', 'cry francis', 'francis flush', 'refer diamond give hour ago', 'cry francis', 'inquire stranger', 'prince florizel', 'scrymgeour', 'degree comfort', 'scrymgeour', 'gaboriau', 'cane', 'francis scrymgeour', 'acknowledge son', 'scrymgeour', 'scrymgeour', 'follow florizel', 'prince florizel', 'prince florizel', 'jacob serve', 'god enter career', 'thomas vandeleur', 'prince sublime', 'duncan betts', 'lawrence duncan', 'duncan', 'martin anderson gramercy park', 'george rhodes e', 'marie wit', 'duncan', 'duncan', 'moment betts', 'cashier door', 'george', 'duncan', 'cashier', 'anderson', 'anderson', 'duncan', 'anderson', 'anderson', 'duncan', 'jordan', 'lawrence rand', 'hm mahler vault', 'anderson bought', 'anderson', 'duncan', 'martin anderson', 'anderson', 'duncan', 'robert steele hargan', 'rand inquire', 'duncan strauss broker', 'duncan', 'smith', 'duncan', 'thick head', 'mahler', 'mahler examine', 'attire dark street', 'duncan shame', 'anderson', 'betts', 'marie neilson', 'anderson', 'anderson', 'anderson', 'george come house', 'anderson', 'anderson house', 'duncan', 'elbow', 'anderson', 'duncan', 'smith', 'anderson house', 'involve anderson', 'anderson', 'anderson third', 'duncan', 'anderson', 'smith', 'anderson', 'anderson', 'anderson', 'anderson', 'smith', 'george', 'duncan', 'anderson', 'marie anderson', 'anderson', 'anderson floor helpless', 'anderson', 'duncan', 'duncan', 'martin anderson', 'duncan', 'anderson', 'smith', 'anderson refuse', 'anderson retain', 'duncan', 'smith', 'discard part', 'marie neilson', 'anderson', 'anderson guilty', 'hartley chronicle', 'drunkard gambler', 'jackson', 'rag fir', 'harbord offer', 'jackson valet', 'tall hatchet', 'frank', 'john', 'ford', 'mystery hung house shaken', 'desire', 'jackson ford', 'london jackson', 'foot chubby', 'jackson', 'meudon hall', 'jackson', 'smart jackson', 'mark long', 'correspond jackson', 'jackson', 'www gutenberg', 'project gutenberg literary archive foundation', 'michael hart', 'arthur conan', 'doyle', 'watson confer', 'john straker', 'ross', 'watson', 'john straker', 'fitzroy simpson', 'ross fortunate', 'john straker', 'retire jockey', 'john straker', 'mapleton', 'john straker overcoat flap', 'furze bush', 'fitzroy simpson', 'brown mapleton', 'simpson', 'bos shield', 'ross', 'fitzroy simpson', 'dr watson', 'simpson', 'mile', 'mapleton', 'ross', 'watson', 'street william', 'furze bush', 'furze bush', 'bush', 'bush', 'john straker', 'gypsy kidnap', 'mapleton', 'mapleton', 'mapleton', 'mapleton', 'strode gate', 'john straker', 'beg jockey', 'ross bluntly', 'ross', 'ross', 'iris', 'mapleton', 'iris', 'john straker', 'john straker', 'fitzroy simpson true', 'fitzroy simpson', 'dr watson', 'explanation john straker', 'tendon nick', 'clapham junction mistaken', 'holmes cry', 'watson', 'henry ward', 'susan cushing', 'sun burn discolour', 'sarah mary elbow', 'jim come see', 'sarah mary', 'sarah', 'know sarah temper', 'sarah', 'jim browner', 'sarah', 'jump watson', 'pas cabby holmes', 'knocker', 'sarah', 'telegram', 'jim browner', 'sarah', 'sarah', 'sarah', 'sarah', 'sarah', 'albert', 'james browner', 'affair prof', 'jim browner', 'montgomery shadwell', 'white lamb', 'sarah fault', 'sarah', 'sarah thirty three', 'sarah', 'sarah', 'mary jim', 'pat shoulder', 'jim say', 'sarah', 'sarah', 'sarah come house', 'jim', 'sarah', 'sarah', 'sarah', 'niagara', 'jabbed oar', 'sarah lord', 'sarah', 'sarah', 'watson', 'walkin stampin time', 'munro', 'cry know', 'brush street', 'jack', 'jack', 'scotch fir', 'livid chalky white', 'slip mantle', 'jack cry', 'jack god', 'jack cry', 'jack cry', 'jack cry', 'jerk long', 'munro', 'munro', 'god', 'jack cry', 'god cry', 'john hebron', 'lucy darker', 'chance', 'jack', 'watson', 'watson', 'journey birmingham', 'pycroft shall', 'johnnie', 'dr watson', 'vacancy mawson williams', 'mawson', 'clerk mawson', 'mawson', 'mawson', 'mawson', 'franco midland', 'harry pinner', 'mawson', 'smart smart cry', 'franco midland', 'mawson', 'mawson', 'mawson', 'dr watson', 'birmingham train', 'arthur', 'harry pinner', 'dr watson', 'mawson', 'arthur harry', 'jove told', 'harris bermondsey', 'harris', 'god', 'cry pycroft', 'franco midland', 'knee drawn head', 'god cry client', 'mawson', 'pycroft mawson', 'mawson', 'idiot', 'mawson williams', 'mawson williams', 'customary mawson clerk leave', 'tuson city', 'tuson', 'shatter blow', 'doubt beddington', 'gloria scott', 'keeper hudson', 'donnithorpe norfolk', 'donnithorpe', 'know victor', 'edward holly', 'hudson', 'donnithorpe', 'hampshire', 'dr fordham come', 'keeper hudson', 'hudson', 'gloria scott', 'james', 'gloria scott bound', 'gloria scott chinese tea trade old', 'hallao chummy', 'jack prendergast', 'god', 'martin eighteen', 'god', 'warder', 'haul foreyard', 'gloria scott', 'hudson', 'gloria scott', 'gloria scott', 'sydney evans', 'hudson', 'ball string', 'gloria scott', 'reginald musgrave college', 'paragon one', 'janet tregellis', 'daughter head', 'brunton butler library', 'cry despair voice', 'richard brunton', 'norman', 'rod come', 'sun', 'rod six foot', 'brought threshold old', 'jove cry', 'slip stone', 'bris', 'ralph musgrave', 'england crown', 'moon shin', 'telegram lyon inform holmes', 'baker', 'affair petty one', 'william coachman', 'william come', 'right watson', 'baker', 'william kirwan', 'william coachman', 'william', 'scrap paper', 'william kirwan', 'sprang foot old', 'watson', 'william kirwan bed', 'william', 'william', 'anne house', 'bush', 'watson', 'house william tackle', 'ball string', 'william', 'watson', 'fellow head', 'william kirwan', 'watson', 'acton', 'watson one', 'william kirwan', 'examine scrap', 'doubt', 'powder blackening', 'william', 'acton', 'william', 'william kirwan', 'watson', 'workman house', 'waterloo smoke', 'watson', 'waterloo', 'james', 'nancy', 'murphy', 'dash jovial old', 'st george form connection watt street', 'hurry', 'morrison', 'morrison', 'rang bell', 'jane stewart', 'coward scrap conversation', 'murphy', 'jane stewart', 'david', 'morrison', 'really watson', 'morrison whole hour', 'reference david know', 'morrison', 'morrison', 'morrison', 'show watson', 'holmes pat head', 'henry wood late', 'james barclay', 'henry wood', 'james barclay', 'nancy', 'harry', 'nancy', 'fang teddy', 'murphy', 'james henry talk david one', 'watson', 'david', 'james barclay', 'samuel', 'holmes', 'gloria scott', 'medico hour', 'dr trevelyan', 'conclude holmes', 'cry dr trevelyan', 'suppose dr trevelyan', 'dr trevelyan', 'dr trevelyan', 'dr trevelyan', 'acknowledge doubt', 'dangle', 'screw driver', 'dr trevelyan draw', 'dr trevelyan', 'maid cook', 'screw driver', 'tobin', 'sutton bad', 'dr trevelyan', 'norah creina', 'watson', 'hobby dilettante', 'manor house', 'box brush', 'melas greek extraction', 'dim light', 'melas harold', 'harold cry old', 'furze bush', 'mile clapham', 'paul', 'watson', 'harold latimer', 'england harold', 'watson cry holmes', 'tall handsome', 'gregson', 'desert bird', 'holmes slip', 'melas', 'harold latimer', 'arrival england', 'wilson kemp', 'fritz von waldbaum', 'lord holdhurst', 'watson doubt', 'baker', 'awaken', 'joseph harrison name', 'watson', 'holmes eve', 'watson', 'joseph', 'rang bell', 'rang bell', 'charles street', 'watson', 'dr ferrier heard', 'harrison', 'harrison', 'affair tangle one', 'come watson good day', 'joseph harrison', 'harrison', 'joseph', 'thief bravado', 'phelps rang', 'england fortunate', 'ting grey', 'rise sofa', 'god', 'harrison', 'sprang bed flung', 'rang bell', 'joseph', 'joseph groom', 'mark bed', 'joseph come', 'harrison', 'joseph harrison', 'joseph harrison', 'harrison', 'joseph', 'harrison', 'hudson risen', 'watson ham', 'watson', 'bush', 'bush', 'joseph harrison', 'joseph ejaculate phelps', 'joseph', 'god', 'joseph', 'joseph', 'afraid joseph', 'joseph', 'joseph', 'joseph harrison enter office charles street', 'joseph harrison', 'james moriarty', 'de gen', 'watson', 'rest watson', 'aware watson one know', 'shaven pale', 'van dash', 'watson obey letter', 'victoria night', 'baker', 'coup de tre deduce deduce', 'peter steiler', 'torrent', 'melt snow', 'platz journeying join friend', 'hill', 'watson', 'patterson', 'watson', 'www gutenberg', 'project gutenberg literary archive foundation', 'michael hart', 'arthur conan', 'doyle', 'arthur conan', 'ronald', 'ronald', 'earl', 'ronald daughter hilda', 'edith woodley', 'aristocrat', 'ronald adair', 'john hardy', 'moran show', 'moran', 'park lane', 'kensington', 'holmes cry', 'glad stretch watson', 'slip grip', 'khalifa khartoum', 'hudson', 'watson', 'baker', 'amaze threw', 'watson', 'watson', 'watson', 'hudson', 'dim light', 'baker', 'jaw sensualist', 'sebastian moran majesty indian', 'moran sprang', 'moran', 'sebastian moran', 'park lane', 'watson', 'hudson', 'watson', 'james moriarty', 'augustus moran', 'serve jowaki', 'moran young', 'moran', 'moran', 'ruin moran', 'moran', 'john', 'dr watson', 'freemason', 'jonas oldacre', 'dr watson', 'watson', 'jonas oldacre', 'jonas oldacre', 'john', 'mcfarlane junior', 'graham mcfarlane gresham building', 'john', 'jonas oldacre', 'assert char', 'jonas oldacre', 'clang bell', 'john', 'jonas oldacre', 'jonas oldacre', 'jonas oldacre', 'jonas oldacre', 'awaken alarm', 'watson', 'bert stevens', 'dr watson', 'john mcfarlane', 'watson', 'know mark examine hall', 'watson', 'watson', 'watson bucket', 'jonas oldacre', 'dr watson', 'watson', 'watson', 'watson', 'hilton cubitt', 'manor norfolk', 'abe slaney', 'hilton cubitt', 'dr watson', 'elsie patrick', 'hilton cubitt', 'elsie wish', 'hilton cubitt', 'watson', 'remember hilton cubitt', 'hilton cubitt', 'moment hilton cubitt', 'hilton cubitt', 'train north walsham night', 'hudson', 'hilton cubitt', 'martin norwich', 'hilton cubitt', 'martin norfolk', 'martin', 'hilton cubitt', 'hilton cubitt', 'cook', 'martin old', 'grey head', 'stolid village', 'martin', 'george cry', 'martin servant', 'awaken', 'martin', 'martin', 'abe slaney', 'hilton cubitt', 'hilton cubitt baker street', 'hilton cubitt', 'martin', 'abe american', 'abe slaney', 'hilton cubitt', 'dr watson', 'abe slaney', 'martin slip handcuff', 'hilton cubitt', 'hilton cubitt', 'rang house', 'cab come convey norwich', 'hilton cubitt lain', 'patrick', 'martin rise', 'abe slaney', 'certainty hilton cubitt', 'hilton cubitt know', 'john vincent harden', 'baker', 'james smith', 'ralph smith', 'ralph', 'cyril morton', 'smith', 'ralph smith', 'odd watson', 'inquire occupant hall', 'watson', 'desert', 'smith', 'smith', 'baker', 'williamson white beard', 'rumour clergyman', 'landlord inform', 'trust watson', 'watson', 'george put', 'bush', 'peter groom', 'bush', 'bush', 'bush', 'grey beard', 'watson', 'hold head', 'know ralph smith south africa', 'kin doubt', 'reason woodley chosen', 'ralph smith', 'smith', 'morton', 'morton kennedy', 'williamson woodley try', 'watson', 'colleague dr watson', 'beverley earl', 'charles appledore', 'watson', 'dr huxtable', 'chin', 'leverstoke earl', 'james wilder', 'jacket dark', 'heidegger german', 'drawn brow', 'james wilder', 'euston', 'dr', 'levy ransom', 'nobleman secretary', 'mackleton', 'inn alert night', 'cap', 'van gipsy', 'watson', 'pallid dreamer baker street', 'heidegger tire', 'mark bicycle', 'rest chin', 'herr heidegger', 'gore', 'bush', 'bush', 'watson', 'pat countryman', 'reuben hayes', 'grimy lad', 'watson', 'gallop', 'watson brain', 'reuben hayes', 'james wilder', 'cry holmes', 'james wilder', 'james wilder den hour', 'james wilder', 'telegram dr', 'colleague dr watson', 'dr huxtable', 'cry duke', 'james knew', 'james wilder', 'reuben hayes', 'telegram head', 'reuben hayes', 'james secretary', 'son holmes', 'james roof', 'james come contact', 'james determine kidnap', 'arthur', 'james', 'arthur', 'james bicycle', 'arthur', 'arthur', 'arthur mount', 'james', 'arthur break', 'james seize', 'dr huxtable', 'james overwhelmed', 'james hurry', 'arthur', 'james wilder', 'james wilder', 'fellow hayes', 'moat holdernesse hall', 'pat', 'peter know', 'baker', 'wilson', 'lee obscure circumstance', 'peter carey', 'basil make', 'dr watson', 'peter carey', 'lee', 'peter carey', 'peter carey', 'peter carey one', 'roam house', 'peter carey', 'carey', 'watson', 'bush', 'haggard grey', 'gaunt', 'peter carey', 'bush', 'bush', 'peter carey', 'john hopley', 'peter carey', 'peter carey', 'peter carey', 'peter carey', 'watson', 'holmes baker street', 'street brixton', 'stanley hopkins', 'lee', 'peter carey', 'peter carey', 'friend watson', 'hobnobbed rum', 'peter dead night', 'hudson', 'basil', 'ribston pippin', 'james lancaster', 'patrick cairn', 'peter carey', 'peter carey', 'peter carey difference', 'peter carey master sea', 'peter carey give', 'peter carey', 'bush', 'peter strand', 'patrick cairn', 'amaze strength', 'peter carey', 'seaman sea', 'patrick cairn', 'basil', 'peter carey', 'eva blackwell', 'milverton send letter earl', 'shaggy astrakhan', 'charles augustus milverton', 'milverton', 'remove overcoat', 'watson', 'generosity milverton', 'know earl', 'earl', 'holmes grey', 'mile', 'watson', 'congrat milverton housemaid', 'watson', 'know watson', 'jemmy diamond', 'agatha fianc e', 'cigar borne', 'felt holmes', 'milverton', 'milverton', 'milverton', 'albert', 'dark handsome clear', 'charles milverton', 'messenger', 'bush', 'square jaw', 'description watson', 'description watson', 'jove watson', 'baker', 'hudson', 'dr barnicot enthusiastic admirer', 'dr barnicot due', 'hudson', 'dr watson', 'watson', 'watson', 'harker tell', 'harding', 'horace harker', 'horace harker', 'horace harker subscriber', 'watson', 'harding', 'harding', 'afternoon newcomer', 'harding', 'hudson', 'watson', 'harding', 'kensington', 'brow knot', 'knifed', 'horace harker', 'harding', 'horace harker', 'sort gelder', 'harding', 'holmes', 'watson', 'silence desert street', 'josiah brown', 'wolf', 'holmes', 'harding harding', 'pearl', 'pearl harker', 'st luke', 'aware johann', 'jabez gilchrist', 'mile mclaren', 'shaven grizzly', 'tall flaxen', 'medi val', 'watson', 'st luke', 'watson', 'watson', 'amuse suppose contemplate', 'jabez', 'tan glove', 'addleton', 'cigar', 'maid susan tarlton', 'smith', 'smith', 'imago', 'cord dangle', 'perceive watson', 'mile chatham', 'inn snatch hurry', 'watson', 'susan maid', 'halloa hopkins', 'gaunt', 'hair beard white', 'susan country', 'smith smoker', 'smith', 'smith', 'holmes stretch', 'gaunt', 'assassin come unarmed', 'risen foot', 'mad cry', 'chin', 'god', 'anna cry', 'anna murmur old', 'anna say old', 'risen', 'plan house', 'godfrey staunton', 'morton johnson oxford', 'arthur', 'henry staunton', 'godfrey staunton', 'godfrey staunton', 'godfrey staunton', 'godfrey fond old', 'godfrey staunton', 'staunton shaken', 'staunton', 'staunton beard', 'slip knee', 'jerking twitch', 'staunton', 'godfrey staunton', 'godfrey fine lad staunch lad', 'leslie armstrong', 'leslie armstrong', 'godfrey staunton', 'staunton', 'godfrey staunton', 'leslie armstrong', 'leslie armstrong', 'mount james', 'rang bell', 'john show', 'watson', 'godfrey staunton', 'watson', 'histon waterbeach oakington', 'dr armstrong', 'john groat', 'quick watson', 'foot bed', 'godfrey staunton', 'james sympathy', 'godfrey staunton', 'godfrey heir crabbed old', 'awaken tug shoulder', 'dr watson', 'maid tall', 'mary fraser', 'theresa wright', 'dark handsome', 'randall', 'halloa halloa', 'knit brow', 'bench watson', 'mission lie watson', 'watson', 'watson', 'waterloo watson', 'bonny bird', 'jack crocker', 'watson', 'randall gang', 'abbey grange', 'mary fraser', 'mary fraser', 'theresa', 'watson british jury', 'vox populi vox dei', 'european affair rise', 'umbrella gaunt', 'maid', 'nod', 'england know', 'shaggy', 'holmes envelope long', 'dr watson', 'nod', 'eduardo lucas', 'amaze coincidence coincidence', 'hudson', 'eduardo lucas', 'john mitton', 'john mitton', 'mitton', 'watson', 'george know cry', 'watson cry holmes frenzied', 'quick watson', 'tall', 'holmes mad cry', 'knee holmes foot', 'jacob', 'rang bell', 'charles hardy', 'hilda', 'www gutenberg', 'project gutenberg literary archive foundation', 'michael hart']\n",
      "GPEs: ['france', 'america', 'prince florizel', 'paris', 'paris', 'paris', 'paris', 'quondam', 'france', 'paris', 'spain', 'russia', 'paris', 'paris', 'menagais', 'russia', 'paris', 'espanaye', 'paris', 'new york', 'thrill', 'new york', 'paris', 'new york', 'new york', 'philadelphia', 'new york', 'paris', 'paris', 'paris', 'street city', 'new york', 'paris', 'new york', 'new york', 'new york', 'new york', 'new york', 'paris', 'paris', 'paris', 'paris', 'paris', 'paris', 'hasten city', 'paris', 'paris', 'paris', 'paris', 'pagan pagan', 'paris', 'vienna', 'morocco', 'paris', 'london', 'london', 'bombay', 'london', 'bombay', 'london', 'london', 'singh', 'whistle street', 'afghanistan', 'london', 'london', 'india', 'india', 'india', 'london', 'india', 'london', 'london', 'india', 'brixton', 'london', 'belmont', 'del fuegians', 'thrill', 'richmond', 'scotland', 'london', 'brazil', 'india', 'india', 'veranda', 'south west', 'singh', 'singh', 'fort agra lie', 'singh', 'delhi', 'somerton', 'india', 'singh', 'india', 'villain sholto', 'india', 'tonga', 'singapore jiddah', 'london', 'london', 'holland', 'london', 'warsaw', 'warsaw', 'london', 'london', 'maid', 'harden', 'automaton', 'washington', 'joe', 'pang', 'london', 'skilfully evade awkward', 'london', 'maid', 'maid', 'hartley', 'villa', 'cabstand', 'london', 'morocco', 'macculloch edinburgh', 'prince florizel', 'prince florizel', 'little york', 'london', 'paris', 'paris', 'paris', 'scotland', 'paris', 'paris', 'paris', 'veranda', 'veranda', 'veranda', 'veranda', 'veranda', 'morocco', 'morocco', 'paris', 'prince florizel', 'prince florizel', 'prince florizel', 'prince florizel', 'paris', 'prince florizel', 'london', 'cincinnati', 'watchman', 'cincinnati', 'new york', 'smith', 'new york', 'london', 'london', 'united kingdom', 'london', 'london', 'london', 'london', 'scotland', 'london', 'america', 'harbord', 'london', 'china', 'london', 'london', 'scotland', 'north west salt lake city', 'maid', 'maid', 'london', 'penang', 'london', 'london', 'mapleton', 'mapleton', 'dawson', 'london', 'london', 'london', 'london', 'india', 'belfast', 'north ireland', 'belfast', 'belfast', 'harden', 'scotland', 'london', 'wallington', 'scotland', 'liverpool', 'belfast dublin', 'wallington', 'liverpool', 'liverpool', 'belfast', 'london', 'hebron', 'atlanta', 'hebron', 'maid', 'atlanta', 'america', 'america', 'atlanta', 'atlanta', 'america', 'london', 'london', 'new zealand', 'france', 'brussels', 'new duty birmingham', 'rome', 'london', 'birmingham', 'paris', 'france', 'birmingham', 'paris', 'thrill', 'london', 'london', 'birmingham', 'birmingham', 'london', 'london', 'london', 'birmingham', 'new zealand', 'japan', 'london', 'maid', 'london', 'london', 'london', 'london', 'china', 'skylight', 'afghanistan', 'london', 'maid', 'labyrinth', 'sepulchre', 'dulong', 'afghanistan', 'acton', 'acton', 'acton', 'london', 'acton', 'thrill', 'acton', 'acton', 'acton', 'acton', 'acton', 'acton', 'morrison', 'maid', 'india', 'india', 'london', 'london', 'blessington', 'blessington', 'blessington', 'blessington', 'blessington', 'blessington', 'blessington', 'havana', 'blessington', 'blessington', 'blessington', 'london', 'london', 'india', 'london', 'london', 'london', 'beckenham', 'beckenham', 'scotland', 'beckenham', 'london', 'beckenham', 'beckenham', 'paris', 'italy', 'britain', 'italy', 'scotland', 'lain', 'london', 'london', 'london', 'london', 'london', 'london', 'afghanistan', 'india', 'france', 'london', 'london', 'london', 'paris', 'paris', 'switzerland', 'brussels', 'london', 'london', 'dislodge', 'london', 'england', 'north west salt lake city', 'abbey grange', 'london', 'snarl', 'maid', 'london', 'persia', 'france', 'france', 'london', 'london', 'london', 'london', 'london', 'london', 'india', 'london', 'london', 'persia', 'london', 'india', 'london', 'switzerland', 'france', 'london', 'london', 'london', 'london', 'london', 'london', 'london', 'scotland', 'london', 'scotland', 'london', 'lexington', 'scotland', 'lexington', 'thurston', 'thorpe', 'america', 'liverpool', 'london', 'london', 'london', 'india', 'ruston', 'ruston', 'america', 'new york', 'london', 'chicago', 'panama', 'handcuff', 'chicago', 'london', 'south africa', 'johannesburg', 'london', 'london', 'south africa', 'johannesburg', 'london', 'mackleton', 'france', 'france', 'london', 'london', 'france', 'east west past', 'grey village', 'australia', 'london', 'london', 'london', 'maid', 'costa rica', 'san paulo', 'britain', 'richer', 'london', 'london', 'handcuff', 'scotland', 'london', 'london', 'london', 'london', 'norway', 'london', 'london', 'london', 'london', 'veranda', 'veranda', 'reek', 'milverton', 'veranda', 'scotland', 'london', 'scotland', 'kennington', 'kennington', 'london', 'london', 'london', 'london', 'london', 'london', 'london', 'kennington', 'london', 'london', 'london', 'london', 'london', 'london', 'reek', 'paris', 'london', 'handcuff', 'london', 'london', 'london', 'maid', 'london', 'london', 'scotland', 'south africa', 'rhodesia', 'london', 'london', 'ivory handle stiff', 'london', 'syria', 'egypt', 'london', 'russia', 'overton', 'overton', 'overton', 'scotland', 'overton', 'overton', 'overton', 'cambridge', 'orphan', 'overton', 'overton', 'overton', 'overton', 'london', 'london', 'overton', 'london', 'london', 'london', 'london', 'trumpington', 'london', 'london', 'reek', 'sydenham', 'maid', 'london', 'australia', 'america', 'london', 'london', 'sydenham', 'scotland', 'new york', 'abbey grange', 'britain', 'england', 'britain', 'britain', 'london', 'london', 'london', 'mitton', 'paris', 'paris', 'london', 'london', 'paris', 'london', 'paris', 'paris', 'paris', 'london', 'belgrade', 'madrid', 'north west salt lake city']\n"
     ]
    }
   ],
   "source": [
    "# Print the results\n",
    "print(\"Persons:\", persons)\n",
    "print(\"GPEs:\", gpes)"
   ]
  },
  {
   "cell_type": "markdown",
   "metadata": {},
   "source": [
    "Analyze relationships between key characters, places, and events"
   ]
  },
  {
   "cell_type": "code",
   "execution_count": 57,
   "metadata": {},
   "outputs": [],
   "source": [
    "from sklearn.metrics.pairwise import cosine_similarity\n",
    "import numpy as np\n",
    "import pandas as pd\n",
    "import matplotlib.pyplot as plt\n",
    "import seaborn as sns"
   ]
  },
  {
   "cell_type": "code",
   "execution_count": 35,
   "metadata": {},
   "outputs": [],
   "source": [
    "from collections import Counter"
   ]
  },
  {
   "cell_type": "code",
   "execution_count": 38,
   "metadata": {},
   "outputs": [
    {
     "name": "stdout",
     "output_type": "stream",
     "text": [
      "Top characters: [('watson', 68), ('bush', 25), ('anderson', 24), ('harry', 23), ('smith', 21), ('sarah', 19), ('dr zabriskie', 18), ('duncan', 18), ('peter carey', 18), ('hudson', 17)]\n"
     ]
    }
   ],
   "source": [
    "character_counts = Counter(persons)\n",
    "top_characters = character_counts.most_common(10)  # Get top 10 characters\n",
    "print(\"Top characters:\", top_characters)"
   ]
  },
  {
   "cell_type": "code",
   "execution_count": 40,
   "metadata": {},
   "outputs": [
    {
     "name": "stdout",
     "output_type": "stream",
     "text": [
      "Top places: [('london', 162), ('paris', 46), ('india', 18), ('scotland', 17), ('new york', 15), ('maid', 13), ('france', 11), ('overton', 11), ('acton', 10), ('blessington', 10)]\n"
     ]
    }
   ],
   "source": [
    "place_counts = Counter(gpes)\n",
    "top_places = place_counts.most_common(10)  # Get top 10 characters\n",
    "print(\"Top places:\", top_places)"
   ]
  },
  {
   "cell_type": "markdown",
   "metadata": {},
   "source": [
    "Compute similarity scores between characters to understand their semantic proximity in the text."
   ]
  },
  {
   "cell_type": "code",
   "execution_count": 50,
   "metadata": {},
   "outputs": [],
   "source": [
    "#Prepare the embeddings by flattening each 2D array into a 1D vector\n",
    "character_embeddings = {}\n",
    "for character in top_characters:\n",
    "    if character in cbow_model.wv:  # Check if the character exists in the raw embeddings\n",
    "        character_embeddings[character] = cbow_model.wv[character].flatten()\n",
    "\n",
    "# Convert to 2D array\n",
    "embeddings = np.array(list(character_embeddings.values()))"
   ]
  },
  {
   "cell_type": "code",
   "execution_count": 51,
   "metadata": {},
   "outputs": [
    {
     "name": "stdout",
     "output_type": "stream",
     "text": [
      "Embeddings shape: (10, 20)\n"
     ]
    }
   ],
   "source": [
    "# Check the shape to confirm it's 2D\n",
    "print(\"Embeddings shape:\", embeddings.shape)  # Should be (num_characters, embedding_dim)"
   ]
  },
  {
   "cell_type": "code",
   "execution_count": 52,
   "metadata": {},
   "outputs": [],
   "source": [
    "similarity_matrix = cosine_similarity(embeddings)"
   ]
  },
  {
   "cell_type": "code",
   "execution_count": 54,
   "metadata": {},
   "outputs": [],
   "source": [
    "# Generate a DataFrame for better visualization\n",
    "similarity_df = pd.DataFrame(similarity_matrix, index=top_characters, columns=top_characters)"
   ]
  },
  {
   "cell_type": "code",
   "execution_count": 58,
   "metadata": {},
   "outputs": [
    {
     "data": {
      "image/png": "[encoded data removed]",
      "text/plain": [
       "<Figure size 1000x800 with 2 Axes>"
      ]
     },
     "metadata": {},
     "output_type": "display_data"
    }
   ],
   "source": [
    "# Plot the heatmap\n",
    "plt.figure(figsize=(10, 8))\n",
    "sns.heatmap(similarity_df, annot=True, cmap='coolwarm', xticklabels=True, yticklabels=True)\n",
    "plt.title(\"Character Similarity Heatmap\")\n",
    "plt.xlabel(\"Character\")\n",
    "plt.ylabel(\"Character\")\n",
    "plt.show()"
   ]
  },
  {
   "cell_type": "markdown",
   "metadata": {},
   "source": [
    "Identify clusters of semantically similar words to find patterns related to crime and investigation."
   ]
  },
  {
   "cell_type": "code",
   "execution_count": 73,
   "metadata": {},
   "outputs": [
    {
     "data": {
      "text/plain": [
       "[('recourse', 0.9986268877983093),\n",
       " ('test', 0.9978678822517395),\n",
       " ('disbelieve', 0.9978318810462952),\n",
       " ('invest', 0.9977752566337585),\n",
       " ('course', 0.9975212812423706),\n",
       " ('divest', 0.996706485748291),\n",
       " ('daintiest', 0.9965317249298096),\n",
       " ('necessary', 0.9965070486068726),\n",
       " ('uncertainty', 0.9964390993118286),\n",
       " ('exist', 0.9963881969451904)]"
      ]
     },
     "execution_count": 73,
     "metadata": {},
     "output_type": "execute_result"
    }
   ],
   "source": [
    "cbow_model.wv.most_similar(\"crime\")"
   ]
  },
  {
   "cell_type": "code",
   "execution_count": 77,
   "metadata": {},
   "outputs": [],
   "source": [
    "crime_similar_word_list = [word for word, _ in cbow_model.wv.most_similar(\"crime\")]"
   ]
  },
  {
   "cell_type": "code",
   "execution_count": 81,
   "metadata": {},
   "outputs": [
    {
     "data": {
      "text/plain": [
       "['recourse',\n",
       " 'test',\n",
       " 'disbelieve',\n",
       " 'invest',\n",
       " 'course',\n",
       " 'divest',\n",
       " 'daintiest',\n",
       " 'necessary',\n",
       " 'uncertainty',\n",
       " 'exist']"
      ]
     },
     "execution_count": 81,
     "metadata": {},
     "output_type": "execute_result"
    }
   ],
   "source": [
    "crime_similar_word_list"
   ]
  },
  {
   "cell_type": "code",
   "execution_count": 80,
   "metadata": {},
   "outputs": [],
   "source": [
    "investigation_similar_word_list = [word for word, _ in cbow_model.wv.most_similar(\"investigation\")]"
   ]
  },
  {
   "cell_type": "code",
   "execution_count": 82,
   "metadata": {},
   "outputs": [
    {
     "data": {
      "text/plain": [
       "['gesticulation',\n",
       " 'destination',\n",
       " 'extraction',\n",
       " 'supererogation',\n",
       " 'introduction',\n",
       " 'restitution',\n",
       " 'recognition',\n",
       " 'misconception',\n",
       " 'explanation',\n",
       " 'exaction']"
      ]
     },
     "execution_count": 82,
     "metadata": {},
     "output_type": "execute_result"
    }
   ],
   "source": [
    "investigation_similar_word_list"
   ]
  },
  {
   "cell_type": "code",
   "execution_count": 83,
   "metadata": {},
   "outputs": [],
   "source": [
    "words_of_interest = ['crime', 'investigation'] + investigation_similar_word_list + crime_similar_word_list"
   ]
  },
  {
   "cell_type": "code",
   "execution_count": 84,
   "metadata": {},
   "outputs": [],
   "source": [
    "# Filter embeddings for words of interest\n",
    "filtered_embeddings = {word: cbow_model.wv[word] for word in words_of_interest if word in cbow_model.wv}\n"
   ]
  },
  {
   "cell_type": "code",
   "execution_count": 85,
   "metadata": {},
   "outputs": [],
   "source": [
    "# Prepare the data for clustering\n",
    "embeddings_matrix = np.array([embedding.flatten() for embedding in filtered_embeddings.values()])"
   ]
  },
  {
   "cell_type": "code",
   "execution_count": 86,
   "metadata": {},
   "outputs": [],
   "source": [
    "from sklearn.cluster import KMeans\n",
    "from sklearn.decomposition import PCA"
   ]
  },
  {
   "cell_type": "code",
   "execution_count": 87,
   "metadata": {},
   "outputs": [
    {
     "name": "stderr",
     "output_type": "stream",
     "text": [
      "/Users/h6x/anaconda3/envs/pytorch/lib/python3.11/site-packages/sklearn/cluster/_kmeans.py:1412: FutureWarning: The default value of `n_init` will change from 10 to 'auto' in 1.4. Set the value of `n_init` explicitly to suppress the warning\n",
      "  super()._check_params_vs_input(X, default_n_init=10)\n"
     ]
    },
    {
     "data": {
      "text/html": [
       "<style>#sk-container-id-2 {color: black;}#sk-container-id-2 pre{padding: 0;}#sk-container-id-2 div.sk-toggleable {background-color: white;}#sk-container-id-2 label.sk-toggleable__label {cursor: pointer;display: block;width: 100%;margin-bottom: 0;padding: 0.3em;box-sizing: border-box;text-align: center;}#sk-container-id-2 label.sk-toggleable__label-arrow:before {content: \"▸\";float: left;margin-right: 0.25em;color: #696969;}#sk-container-id-2 label.sk-toggleable__label-arrow:hover:before {color: black;}#sk-container-id-2 div.sk-estimator:hover label.sk-toggleable__label-arrow:before {color: black;}#sk-container-id-2 div.sk-toggleable__content {max-height: 0;max-width: 0;overflow: hidden;text-align: left;background-color: #f0f8ff;}#sk-container-id-2 div.sk-toggleable__content pre {margin: 0.2em;color: black;border-radius: 0.25em;background-color: #f0f8ff;}#sk-container-id-2 input.sk-toggleable__control:checked~div.sk-toggleable__content {max-height: 200px;max-width: 100%;overflow: auto;}#sk-container-id-2 input.sk-toggleable__control:checked~label.sk-toggleable__label-arrow:before {content: \"▾\";}#sk-container-id-2 div.sk-estimator input.sk-toggleable__control:checked~label.sk-toggleable__label {background-color: #d4ebff;}#sk-container-id-2 div.sk-label input.sk-toggleable__control:checked~label.sk-toggleable__label {background-color: #d4ebff;}#sk-container-id-2 input.sk-hidden--visually {border: 0;clip: rect(1px 1px 1px 1px);clip: rect(1px, 1px, 1px, 1px);height: 1px;margin: -1px;overflow: hidden;padding: 0;position: absolute;width: 1px;}#sk-container-id-2 div.sk-estimator {font-family: monospace;background-color: #f0f8ff;border: 1px dotted black;border-radius: 0.25em;box-sizing: border-box;margin-bottom: 0.5em;}#sk-container-id-2 div.sk-estimator:hover {background-color: #d4ebff;}#sk-container-id-2 div.sk-parallel-item::after {content: \"\";width: 100%;border-bottom: 1px solid gray;flex-grow: 1;}#sk-container-id-2 div.sk-label:hover label.sk-toggleable__label {background-color: #d4ebff;}#sk-container-id-2 div.sk-serial::before {content: \"\";position: absolute;border-left: 1px solid gray;box-sizing: border-box;top: 0;bottom: 0;left: 50%;z-index: 0;}#sk-container-id-2 div.sk-serial {display: flex;flex-direction: column;align-items: center;background-color: white;padding-right: 0.2em;padding-left: 0.2em;position: relative;}#sk-container-id-2 div.sk-item {position: relative;z-index: 1;}#sk-container-id-2 div.sk-parallel {display: flex;align-items: stretch;justify-content: center;background-color: white;position: relative;}#sk-container-id-2 div.sk-item::before, #sk-container-id-2 div.sk-parallel-item::before {content: \"\";position: absolute;border-left: 1px solid gray;box-sizing: border-box;top: 0;bottom: 0;left: 50%;z-index: -1;}#sk-container-id-2 div.sk-parallel-item {display: flex;flex-direction: column;z-index: 1;position: relative;background-color: white;}#sk-container-id-2 div.sk-parallel-item:first-child::after {align-self: flex-end;width: 50%;}#sk-container-id-2 div.sk-parallel-item:last-child::after {align-self: flex-start;width: 50%;}#sk-container-id-2 div.sk-parallel-item:only-child::after {width: 0;}#sk-container-id-2 div.sk-dashed-wrapped {border: 1px dashed gray;margin: 0 0.4em 0.5em 0.4em;box-sizing: border-box;padding-bottom: 0.4em;background-color: white;}#sk-container-id-2 div.sk-label label {font-family: monospace;font-weight: bold;display: inline-block;line-height: 1.2em;}#sk-container-id-2 div.sk-label-container {text-align: center;}#sk-container-id-2 div.sk-container {/* jupyter's `normalize.less` sets `[hidden] { display: none; }` but bootstrap.min.css set `[hidden] { display: none !important; }` so we also need the `!important` here to be able to override the default hidden behavior on the sphinx rendered scikit-learn.org. See: https://github.com/scikit-learn/scikit-learn/issues/21755 */display: inline-block !important;position: relative;}#sk-container-id-2 div.sk-text-repr-fallback {display: none;}</style><div id=\"sk-container-id-2\" class=\"sk-top-container\"><div class=\"sk-text-repr-fallback\"><pre>KMeans(n_clusters=3, random_state=42)</pre><b>In a Jupyter environment, please rerun this cell to show the HTML representation or trust the notebook. <br />On GitHub, the HTML representation is unable to render, please try loading this page with nbviewer.org.</b></div><div class=\"sk-container\" hidden><div class=\"sk-item\"><div class=\"sk-estimator sk-toggleable\"><input class=\"sk-toggleable__control sk-hidden--visually\" id=\"sk-estimator-id-2\" type=\"checkbox\" checked><label for=\"sk-estimator-id-2\" class=\"sk-toggleable__label sk-toggleable__label-arrow\">KMeans</label><div class=\"sk-toggleable__content\"><pre>KMeans(n_clusters=3, random_state=42)</pre></div></div></div></div></div>"
      ],
      "text/plain": [
       "KMeans(n_clusters=3, random_state=42)"
      ]
     },
     "execution_count": 87,
     "metadata": {},
     "output_type": "execute_result"
    }
   ],
   "source": [
    "# Step 1: Perform K-means clustering\n",
    "num_clusters = min(3, len(filtered_embeddings))  # Set to 3 or the number of words available\n",
    "kmeans = KMeans(n_clusters=num_clusters, random_state=42)\n",
    "kmeans.fit(embeddings_matrix)"
   ]
  },
  {
   "cell_type": "code",
   "execution_count": 88,
   "metadata": {},
   "outputs": [],
   "source": [
    "# Get the cluster labels\n",
    "labels = kmeans.labels_\n",
    "\n",
    "# Step 2: Visualize clusters using PCA\n",
    "pca = PCA(n_components=2)\n",
    "reduced_embeddings = pca.fit_transform(embeddings_matrix)"
   ]
  },
  {
   "cell_type": "code",
   "execution_count": 89,
   "metadata": {},
   "outputs": [],
   "source": [
    "# Create a DataFrame for visualization\n",
    "cluster_df = pd.DataFrame(reduced_embeddings, columns=['PCA1', 'PCA2'])\n",
    "cluster_df['Label'] = labels\n",
    "cluster_df['Word'] = words_of_interest"
   ]
  },
  {
   "cell_type": "code",
   "execution_count": 90,
   "metadata": {},
   "outputs": [
    {
     "data": {
      "image/png": "[encoded data removed]",
      "text/plain": [
       "<Figure size 1000x800 with 1 Axes>"
      ]
     },
     "metadata": {},
     "output_type": "display_data"
    }
   ],
   "source": [
    "# Plotting\n",
    "plt.figure(figsize=(10, 8))\n",
    "sns.scatterplot(data=cluster_df, x='PCA1', y='PCA2', hue='Label', style='Label', s=100)\n",
    "for line in range(0, cluster_df.shape[0]):\n",
    "    plt.text(cluster_df.PCA1[line], cluster_df.PCA2[line], cluster_df.Word[line], horizontalalignment='left', size='medium')\n",
    "plt.title('Word Clusters Related to Crime and Investigation')\n",
    "plt.xlabel('PCA1')\n",
    "plt.ylabel('PCA2')\n",
    "plt.legend(title='Cluster')\n",
    "plt.show()"
   ]
  },
  {
   "cell_type": "code",
   "execution_count": null,
   "metadata": {},
   "outputs": [],
   "source": []
  },
  {
   "cell_type": "code",
   "execution_count": null,
   "metadata": {},
   "outputs": [],
   "source": []
  },
  {
   "cell_type": "code",
   "execution_count": null,
   "metadata": {},
   "outputs": [],
   "source": []
  },
  {
   "cell_type": "code",
   "execution_count": null,
   "metadata": {},
   "outputs": [],
   "source": []
  },
  {
   "cell_type": "code",
   "execution_count": null,
   "metadata": {},
   "outputs": [],
   "source": []
  }
 ],
 "metadata": {
  "kernelspec": {
   "display_name": "pytorch",
   "language": "python",
   "name": "python3"
  },
  "language_info": {
   "codemirror_mode": {
    "name": "ipython",
    "version": 3
   },
   "file_extension": ".py",
   "mimetype": "text/x-python",
   "name": "python",
   "nbconvert_exporter": "python",
   "pygments_lexer": "ipython3",
   "version": "3.11.4"
  }
 },
 "nbformat": 4,
 "nbformat_minor": 2
}
