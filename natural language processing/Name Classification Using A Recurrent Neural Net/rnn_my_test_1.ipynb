{
 "cells": [
  {
   "cell_type": "markdown",
   "metadata": {},
   "source": [
    "RNN from scratch"
   ]
  },
  {
   "cell_type": "code",
   "execution_count": 2,
   "metadata": {},
   "outputs": [],
   "source": [
    "# lets use pytorch to build simple RNN"
   ]
  },
  {
   "cell_type": "code",
   "execution_count": 1,
   "metadata": {},
   "outputs": [],
   "source": [
    "%matplotlib inline\n",
    "import math\n",
    "import torch\n",
    "from torch import nn\n",
    "from torch.nn import functional as F\n",
    "from d2l import torch as d2l"
   ]
  },
  {
   "cell_type": "code",
   "execution_count": null,
   "metadata": {},
   "outputs": [],
   "source": [
    "class RNNScratch(nn.Module):\n",
    "    def __init__(self, num_inputs, num_hiddens, num_outputs, sigma=0.01):\n",
    "        super(RNNScratch, self).__init__()\n",
    "        self.num_hiddens = num_hiddens\n",
    "        self.W_xh = nn.Parameter(torch.randn(num_inputs, num_hiddens) * sigma)\n",
    "        self.W_hh = nn.Parameter(torch.randn(num_hiddens, num_hiddens) * sigma)\n",
    "        self.b_h = nn.Parameter(torch.zeros(num_hiddens))\n",
    "        self.W_hq = nn.Parameter(torch.randn(num_hiddens, num_outputs) * sigma)\n",
    "        self.b_q = nn.Parameter(torch.zeros(num_outputs))\n",
    "\n",
    "    def forward(self, inputs, state):\n",
    "        H, = state  # Unpack the state\n",
    "        outputs = []\n",
    "        for X in inputs:  # Iterate through the sequence\n",
    "            H = torch.tanh(torch.matmul(X, self.W_xh) + torch.matmul(H, self.W_hh) + self.b_h)\n",
    "            Y = torch.matmul(H, self.W_hq) + self.b_q\n",
    "            outputs.append(Y)\n",
    "        return torch.stack(outputs, dim=0), (H,)  # Stack outputs along the sequence dimension\n",
    "    \n",
    "    def begin_state(self, batch_size, device):\n",
    "        # Initialize the hidden state with zeros\n",
    "        return (torch.zeros((batch_size, self.num_hiddens), device=device),)\n"
   ]
  },
  {
   "cell_type": "code",
   "execution_count": 4,
   "metadata": {},
   "outputs": [],
   "source": [
    "batch_size, num_inputs, num_hiddens, num_steps = 2, 16, 32, 100\n",
    "\n",
    "model = RNNScratch(num_inputs, num_hiddens, num_outputs=1)"
   ]
  },
  {
   "cell_type": "code",
   "execution_count": 5,
   "metadata": {},
   "outputs": [
    {
     "data": {
      "text/plain": [
       "torch.Size([2, 32])"
      ]
     },
     "execution_count": 5,
     "metadata": {},
     "output_type": "execute_result"
    }
   ],
   "source": [
    "# initialize the hidden state\n",
    "state = model.begin_state(batch_size, device=torch.device('cpu'))\n",
    "state[0].shape"
   ]
  },
  {
   "cell_type": "code",
   "execution_count": 6,
   "metadata": {},
   "outputs": [],
   "source": [
    "# Forward pass\n",
    "X = torch.rand(num_steps, batch_size, num_inputs)\n",
    "Y, new_state = model(X, state)"
   ]
  }
 ],
 "metadata": {
  "kernelspec": {
   "display_name": "pytorch",
   "language": "python",
   "name": "python3"
  },
  "language_info": {
   "codemirror_mode": {
    "name": "ipython",
    "version": 3
   },
   "file_extension": ".py",
   "mimetype": "text/x-python",
   "name": "python",
   "nbconvert_exporter": "python",
   "pygments_lexer": "ipython3",
   "version": "3.11.4"
  }
 },
 "nbformat": 4,
 "nbformat_minor": 2
}
